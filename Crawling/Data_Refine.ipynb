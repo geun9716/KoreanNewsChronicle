{
 "cells": [
  {
   "cell_type": "markdown",
   "id": "1bb557a7",
   "metadata": {},
   "source": [
    "## 파일 확인"
   ]
  },
  {
   "cell_type": "code",
   "execution_count": 1,
   "id": "annual-mexico",
   "metadata": {},
   "outputs": [
    {
     "data": {
      "text/plain": [
       "['pre_201901.csv',\n",
       " 'pre_201902.csv',\n",
       " 'pre_201903.csv',\n",
       " 'pre_201904.csv',\n",
       " 'pre_201905.csv',\n",
       " 'pre_201906.csv',\n",
       " 'pre_201907.csv',\n",
       " 'pre_201908.csv',\n",
       " 'pre_201909.csv',\n",
       " 'pre_201910.csv',\n",
       " 'pre_201911.csv',\n",
       " 'pre_201912.csv']"
      ]
     },
     "execution_count": 1,
     "metadata": {},
     "output_type": "execute_result"
    }
   ],
   "source": [
    "import pandas as pd\n",
    "import glob\n",
    "\n",
    "files = glob.glob('*.csv')\n",
    "files"
   ]
  },
  {
   "cell_type": "markdown",
   "id": "consecutive-sewing",
   "metadata": {},
   "source": [
    "## Text Crawl 이전 데이터 전처리용"
   ]
  },
  {
   "cell_type": "markdown",
   "id": "ddeba40b",
   "metadata": {},
   "source": [
    "## 양 끝 공백제거, 경향신문 조선일보 제거, 중복 제거\n",
    "## 중복, 예외 태그 제거\n",
    "## 메인 카테고리 문화, IT_과학, 지역 제거\n",
    "## 로또, 부고, 날씨, 오늘의, 시사일본어 중국어, 한겨레 알림, e글 중심 제거"
   ]
  },
  {
   "cell_type": "code",
   "execution_count": 8,
   "id": "latin-growing",
   "metadata": {},
   "outputs": [],
   "source": [
    "category_droplist = ['문화', 'IT', '지역']\n",
    "headline_droplist = ['로또', '복권', '부고', '날씨', '궂긴', '오늘의', '시사일본어', '시사중국어', '일 알림', 'e글중심']\n",
    "\n",
    "for file in files:\n",
    "    df = pd.read_csv(file, encoding=\"utf-8-sig\")\n",
    "    df = df.dropna(axis=0)\n",
    "    df = df.apply(lambda x: x.str.strip(), axis = 1) # 모든 데이터 양 끝 공백 제거\n",
    "\n",
    "    df = df[df.press != \"경향신문\"] # 경향신문 데이터 제거\n",
    "    df = df[df.press != \"조선일보\"] # 조선일보 데이터 제거\n",
    "    df = df.drop_duplicates([\"url\"]) # 중복 제거\n",
    "    df = df.reset_index(drop=True)\n",
    "    \n",
    "    for index in range(0, len(df)): # 중복, 예외 태그 제거\n",
    "        if df['headline'][index][-2:] == '중복':\n",
    "            df['headline'][index] = df['headline'][index][0:len(df['headline'][index])-3].strip()\n",
    "            continue\n",
    "        if df['headline'][index][-2:] == '예외':\n",
    "            df['headline'][index] = None\n",
    "    \n",
    "    for index in range(0, len(df)): # 문화, IT, 지역 제거\n",
    "        if df['category'][index][0:2] in category_droplist:\n",
    "            df['category'][index] = None\n",
    "            continue\n",
    "    \n",
    "    df = df.dropna(axis=0)\n",
    "    df = df.reset_index(drop=True)\n",
    "    \n",
    "    for index in range(0, len(df)): # 부고, 날씨, 오늘의, 시사일본어 중국어, 한겨레 알림, e글 중심 제거\n",
    "        if '날씨' in df['category'][index]:\n",
    "            df['category'][index] = None\n",
    "            continue\n",
    "        for drop in headline_droplist:\n",
    "            if drop in df['headline'][index]:\n",
    "                df['headline'][index] = None\n",
    "                break\n",
    "                \n",
    "    df = df.dropna(axis=0)\n",
    "    df = df.reset_index(drop=True)\n",
    "    \n",
    "    for index in range(0, len(df)): # len 50미만 컷\n",
    "        if len(df['text'][index]) < 50:\n",
    "            df['text'][index] = None\n",
    "            \n",
    "    df = df.dropna(axis=0)\n",
    "    df = df.reset_index(drop=True)\n",
    "    \n",
    "    df.to_csv(\"pre_\"+file, encoding=\"utf-8-sig\", index=False # 저장시 파일 이름 주의"
   ]
  }
 ],
 "metadata": {
  "kernelspec": {
   "display_name": "Python 3",
   "language": "python",
   "name": "python3"
  },
  "language_info": {
   "codemirror_mode": {
    "name": "ipython",
    "version": 3
   },
   "file_extension": ".py",
   "mimetype": "text/x-python",
   "name": "python",
   "nbconvert_exporter": "python",
   "pygments_lexer": "ipython3",
   "version": "3.8.10"
  }
 },
 "nbformat": 4,
 "nbformat_minor": 5
}

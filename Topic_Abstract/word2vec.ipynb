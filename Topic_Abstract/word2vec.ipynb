{
 "metadata": {
  "language_info": {
   "codemirror_mode": {
    "name": "ipython",
    "version": 3
   },
   "file_extension": ".py",
   "mimetype": "text/x-python",
   "name": "python",
   "nbconvert_exporter": "python",
   "pygments_lexer": "ipython3",
   "version": "3.8.5-final"
  },
  "orig_nbformat": 2,
  "kernelspec": {
   "name": "python3",
   "display_name": "Python 3.8.5 64-bit",
   "metadata": {
    "interpreter": {
     "hash": "b9d3bf71fe82dc7159b853f8f5ac3e2334aa339c3d1653768411f33acf68962a"
    }
   }
  }
 },
 "nbformat": 4,
 "nbformat_minor": 2,
 "cells": [
  {
   "cell_type": "code",
   "execution_count": 7,
   "metadata": {},
   "outputs": [],
   "source": [
    "import pandas as pd\n",
    "import matplotlib.pyplot as plt\n",
    "import urllib.request\n",
    "from gensim.models.word2vec import Word2Vec\n",
    "from konlpy.tag import Okt"
   ]
  },
  {
   "cell_type": "code",
   "execution_count": 17,
   "metadata": {},
   "outputs": [],
   "source": [
    "train_data = pd.read_csv('C:/Users/geun/KoreanNewsChronicle/Data/2020(1_10).csv',encoding='utf-8')"
   ]
  },
  {
   "cell_type": "code",
   "execution_count": 30,
   "metadata": {},
   "outputs": [
    {
     "output_type": "execute_result",
     "data": {
      "text/plain": [
       "         date press category                             headline  \\\n",
       "0  2020/01/01  서울신문    국제,정치             “교육이 계층이동 사다리 돼야 양극화 해소”   \n",
       "1  2020/01/01  국민일보       정치      국군 전사자 12만3000여명, 아직도 못 돌아오고 있다   \n",
       "2  2020/01/01  국민일보       정치  한국당의 처참한 성적표, “총사퇴는 쇼” “장기판 박카스 뚜껑”   \n",
       "3  2020/01/01  국민일보       경제   쌀값·외식비·학원비는 올랐는데, 소비자물가 상승률은 역대 최저   \n",
       "4  2020/01/01  서울신문       정치     “블루오션 잡아라”… 민주·정의, 청소년 당원 모시기 경쟁   \n",
       "\n",
       "                                                 url  \\\n",
       "0  http://www.seoul.co.kr/news/newsView.php?id=20...   \n",
       "1  http://news.kmib.co.kr/article/view.asp?arcid=...   \n",
       "2  http://news.kmib.co.kr/article/view.asp?arcid=...   \n",
       "3  http://news.kmib.co.kr/article/view.asp?arcid=...   \n",
       "4  http://www.seoul.co.kr/news/newsView.php?id=20...   \n",
       "\n",
       "                                                text  \n",
       "0  [신년 인터뷰] ‘사회적 불평등’ 연구 대가 로버트 라이시 美 캘리포니아대학 교수 ...  \n",
       "1  사진=게티이미지6·25전쟁이 발발한 지 70년이 되는 새해에는 여섯 살 때 마지막으...  \n",
       "2  황교안(앞줄 왼쪽 네 번째) 자유한국당 대표가 31일 국회에서 인재영입위원들에게 임...  \n",
       "3  2019년 소비자물가 상승률이 전년 대비 0.4%로 1965년 통계 집계 이래 역대...  \n",
       "4  민주, 16~18세이하 청소년 위원 모집…정의, 대규모 입당식 등 만 18세 챙기기...  "
      ],
      "text/html": "<div>\n<style scoped>\n    .dataframe tbody tr th:only-of-type {\n        vertical-align: middle;\n    }\n\n    .dataframe tbody tr th {\n        vertical-align: top;\n    }\n\n    .dataframe thead th {\n        text-align: right;\n    }\n</style>\n<table border=\"1\" class=\"dataframe\">\n  <thead>\n    <tr style=\"text-align: right;\">\n      <th></th>\n      <th>date</th>\n      <th>press</th>\n      <th>category</th>\n      <th>headline</th>\n      <th>url</th>\n      <th>text</th>\n    </tr>\n  </thead>\n  <tbody>\n    <tr>\n      <th>0</th>\n      <td>2020/01/01</td>\n      <td>서울신문</td>\n      <td>국제,정치</td>\n      <td>“교육이 계층이동 사다리 돼야 양극화 해소”</td>\n      <td>http://www.seoul.co.kr/news/newsView.php?id=20...</td>\n      <td>[신년 인터뷰] ‘사회적 불평등’ 연구 대가 로버트 라이시 美 캘리포니아대학 교수 ...</td>\n    </tr>\n    <tr>\n      <th>1</th>\n      <td>2020/01/01</td>\n      <td>국민일보</td>\n      <td>정치</td>\n      <td>국군 전사자 12만3000여명, 아직도 못 돌아오고 있다</td>\n      <td>http://news.kmib.co.kr/article/view.asp?arcid=...</td>\n      <td>사진=게티이미지6·25전쟁이 발발한 지 70년이 되는 새해에는 여섯 살 때 마지막으...</td>\n    </tr>\n    <tr>\n      <th>2</th>\n      <td>2020/01/01</td>\n      <td>국민일보</td>\n      <td>정치</td>\n      <td>한국당의 처참한 성적표, “총사퇴는 쇼” “장기판 박카스 뚜껑”</td>\n      <td>http://news.kmib.co.kr/article/view.asp?arcid=...</td>\n      <td>황교안(앞줄 왼쪽 네 번째) 자유한국당 대표가 31일 국회에서 인재영입위원들에게 임...</td>\n    </tr>\n    <tr>\n      <th>3</th>\n      <td>2020/01/01</td>\n      <td>국민일보</td>\n      <td>경제</td>\n      <td>쌀값·외식비·학원비는 올랐는데, 소비자물가 상승률은 역대 최저</td>\n      <td>http://news.kmib.co.kr/article/view.asp?arcid=...</td>\n      <td>2019년 소비자물가 상승률이 전년 대비 0.4%로 1965년 통계 집계 이래 역대...</td>\n    </tr>\n    <tr>\n      <th>4</th>\n      <td>2020/01/01</td>\n      <td>서울신문</td>\n      <td>정치</td>\n      <td>“블루오션 잡아라”… 민주·정의, 청소년 당원 모시기 경쟁</td>\n      <td>http://www.seoul.co.kr/news/newsView.php?id=20...</td>\n      <td>민주, 16~18세이하 청소년 위원 모집…정의, 대규모 입당식 등 만 18세 챙기기...</td>\n    </tr>\n  </tbody>\n</table>\n</div>"
     },
     "metadata": {},
     "execution_count": 30
    }
   ],
   "source": [
    "train_data[:5]"
   ]
  },
  {
   "cell_type": "code",
   "execution_count": 26,
   "metadata": {},
   "outputs": [
    {
     "output_type": "stream",
     "name": "stdout",
     "text": [
      "False\n"
     ]
    }
   ],
   "source": [
    "train_data = train_data.dropna(how = 'any')\n",
    "print(train_data.isnull().values.any())"
   ]
  },
  {
   "cell_type": "code",
   "execution_count": 27,
   "metadata": {},
   "outputs": [
    {
     "output_type": "stream",
     "name": "stdout",
     "text": [
      "316376\n"
     ]
    }
   ],
   "source": [
    "print(len(train_data))"
   ]
  },
  {
   "cell_type": "code",
   "execution_count": 31,
   "metadata": {},
   "outputs": [],
   "source": [
    "train_data['text'] = train_data['text'].str.replace(\"[^ㄱ-ㅎㅏ-ㅣ가-힣 ]\",\"\")"
   ]
  },
  {
   "cell_type": "code",
   "execution_count": 34,
   "metadata": {},
   "outputs": [],
   "source": [
    "file = open(\"한국어불용어100.txt\", 'r', encoding=\"utf-8\")\n",
    "stopword=[]\n",
    "\n",
    "while True:\n",
    "    line = file.readline()\n",
    "    if not line: break\n",
    "    wordlist = line.split('\\t')\n",
    "    if (wordlist[1].startswith('N')):\n",
    "        stopword.append(wordlist[0])"
   ]
  },
  {
   "cell_type": "code",
   "execution_count": 35,
   "metadata": {},
   "outputs": [
    {
     "output_type": "error",
     "ename": "NameError",
     "evalue": "name 'stopwords' is not defined",
     "traceback": [
      "\u001b[1;31m---------------------------------------------------------------------------\u001b[0m",
      "\u001b[1;31mNameError\u001b[0m                                 Traceback (most recent call last)",
      "\u001b[1;32m<ipython-input-35-952d34c02433>\u001b[0m in \u001b[0;36m<module>\u001b[1;34m\u001b[0m\n\u001b[0;32m      3\u001b[0m \u001b[1;32mfor\u001b[0m \u001b[0msentence\u001b[0m \u001b[1;32min\u001b[0m \u001b[0mtrain_data\u001b[0m\u001b[1;33m[\u001b[0m\u001b[1;34m'text'\u001b[0m\u001b[1;33m]\u001b[0m\u001b[1;33m:\u001b[0m\u001b[1;33m\u001b[0m\u001b[1;33m\u001b[0m\u001b[0m\n\u001b[0;32m      4\u001b[0m     \u001b[0mtemp_X\u001b[0m \u001b[1;33m=\u001b[0m \u001b[0mokt\u001b[0m\u001b[1;33m.\u001b[0m\u001b[0mmorphs\u001b[0m\u001b[1;33m(\u001b[0m\u001b[0msentence\u001b[0m\u001b[1;33m,\u001b[0m \u001b[0mstem\u001b[0m\u001b[1;33m=\u001b[0m\u001b[1;32mTrue\u001b[0m\u001b[1;33m)\u001b[0m\u001b[1;33m\u001b[0m\u001b[1;33m\u001b[0m\u001b[0m\n\u001b[1;32m----> 5\u001b[1;33m     \u001b[0mtemp_X\u001b[0m \u001b[1;33m=\u001b[0m \u001b[1;33m[\u001b[0m\u001b[0mword\u001b[0m \u001b[1;32mfor\u001b[0m \u001b[0mword\u001b[0m \u001b[1;32min\u001b[0m \u001b[0mtemp_X\u001b[0m \u001b[1;32mif\u001b[0m \u001b[1;32mnot\u001b[0m \u001b[0mword\u001b[0m \u001b[1;32min\u001b[0m \u001b[0mstopwords\u001b[0m\u001b[1;33m]\u001b[0m\u001b[1;33m\u001b[0m\u001b[1;33m\u001b[0m\u001b[0m\n\u001b[0m\u001b[0;32m      6\u001b[0m     \u001b[0mtokenized_data\u001b[0m\u001b[1;33m.\u001b[0m\u001b[0mappend\u001b[0m\u001b[1;33m(\u001b[0m\u001b[0mtemp_X\u001b[0m\u001b[1;33m)\u001b[0m\u001b[1;33m\u001b[0m\u001b[1;33m\u001b[0m\u001b[0m\n",
      "\u001b[1;32m<ipython-input-35-952d34c02433>\u001b[0m in \u001b[0;36m<listcomp>\u001b[1;34m(.0)\u001b[0m\n\u001b[0;32m      3\u001b[0m \u001b[1;32mfor\u001b[0m \u001b[0msentence\u001b[0m \u001b[1;32min\u001b[0m \u001b[0mtrain_data\u001b[0m\u001b[1;33m[\u001b[0m\u001b[1;34m'text'\u001b[0m\u001b[1;33m]\u001b[0m\u001b[1;33m:\u001b[0m\u001b[1;33m\u001b[0m\u001b[1;33m\u001b[0m\u001b[0m\n\u001b[0;32m      4\u001b[0m     \u001b[0mtemp_X\u001b[0m \u001b[1;33m=\u001b[0m \u001b[0mokt\u001b[0m\u001b[1;33m.\u001b[0m\u001b[0mmorphs\u001b[0m\u001b[1;33m(\u001b[0m\u001b[0msentence\u001b[0m\u001b[1;33m,\u001b[0m \u001b[0mstem\u001b[0m\u001b[1;33m=\u001b[0m\u001b[1;32mTrue\u001b[0m\u001b[1;33m)\u001b[0m\u001b[1;33m\u001b[0m\u001b[1;33m\u001b[0m\u001b[0m\n\u001b[1;32m----> 5\u001b[1;33m     \u001b[0mtemp_X\u001b[0m \u001b[1;33m=\u001b[0m \u001b[1;33m[\u001b[0m\u001b[0mword\u001b[0m \u001b[1;32mfor\u001b[0m \u001b[0mword\u001b[0m \u001b[1;32min\u001b[0m \u001b[0mtemp_X\u001b[0m \u001b[1;32mif\u001b[0m \u001b[1;32mnot\u001b[0m \u001b[0mword\u001b[0m \u001b[1;32min\u001b[0m \u001b[0mstopwords\u001b[0m\u001b[1;33m]\u001b[0m\u001b[1;33m\u001b[0m\u001b[1;33m\u001b[0m\u001b[0m\n\u001b[0m\u001b[0;32m      6\u001b[0m     \u001b[0mtokenized_data\u001b[0m\u001b[1;33m.\u001b[0m\u001b[0mappend\u001b[0m\u001b[1;33m(\u001b[0m\u001b[0mtemp_X\u001b[0m\u001b[1;33m)\u001b[0m\u001b[1;33m\u001b[0m\u001b[1;33m\u001b[0m\u001b[0m\n",
      "\u001b[1;31mNameError\u001b[0m: name 'stopwords' is not defined"
     ]
    }
   ],
   "source": [
    "okt = Okt()\n",
    "tokenized_data = []\n",
    "for sentence in train_data['text']:\n",
    "    temp_X = okt.morphs(sentence, stem=True)\n",
    "    temp_X = [word for word in temp_X if not word in stopword]\n",
    "    tokenized_data.append(temp_X)"
   ]
  },
  {
   "cell_type": "code",
   "execution_count": null,
   "metadata": {},
   "outputs": [],
   "source": [
    "print('리뷰의 최대 길이 :',max(len(l) for l in tokenized_data))\n",
    "print('리뷰의 평균 길이 :',sum(map(len, tokenized_data))/len(tokenized_data))\n",
    "plt.hist([len(s) for s in tokenized_data], bins=50)\n",
    "plt.xlabel('length of samples')\n",
    "plt.ylabel('number of samples')\n",
    "plt.show()"
   ]
  },
  {
   "cell_type": "code",
   "execution_count": null,
   "metadata": {},
   "outputs": [],
   "source": []
  }
 ]
}
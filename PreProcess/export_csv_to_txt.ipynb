{
 "metadata": {
  "language_info": {
   "codemirror_mode": {
    "name": "ipython",
    "version": 3
   },
   "file_extension": ".py",
   "mimetype": "text/x-python",
   "name": "python",
   "nbconvert_exporter": "python",
   "pygments_lexer": "ipython3",
   "version": "3.8.5-final"
  },
  "orig_nbformat": 2,
  "kernelspec": {
   "name": "python3",
   "display_name": "Python 3.8.5 64-bit",
   "metadata": {
    "interpreter": {
     "hash": "00c48d4780e7fa7f4b695bd71b2ac9722a525fe5d5880a11d633cd1f8478baa2"
    }
   }
  }
 },
 "nbformat": 4,
 "nbformat_minor": 2,
 "cells": [
  {
   "cell_type": "code",
   "execution_count": 7,
   "metadata": {},
   "outputs": [
    {
     "output_type": "stream",
     "name": "stdout",
     "text": [
      "0        교육부가 서울대 등 서울 소재 대학 16곳의 정시 전형을 40% 이상으로 확대하고 ...\n1        진보 가치 유보하고 조국에 힘 보태자 지지세력 이탈, 기반 흔들선거법 개정 수혜 노...\n2        양승태 전 대법원장 48차 공판 지상중계 “그것은 관점의 차이입니다.”법원행정처 간...\n3        탈북민지원단체, VOA 방송과 인터뷰 단체 “韓도움 요청했지만 기다리라는 말만”외교...\n4        200만 관객을 돌파하면서 흥행 가도를 달리고 있는 영화 ‘블랙머니’는 검찰의 ‘론...\n                               ...                        \n27132    시진핑 중국 국가주석(왼쪽)과 도널드 트럼프 미국 대통령. 연합뉴스도널드 트럼프 미...\n27133    앙골라 법원이 호세 에두아르도 도스 산토스 전직 대통령의 딸이자 억만장자 이사벨 도...\n27134    송병기 울산시 경제부시장. 연합뉴스지난해 6·13 지방선거 당시 청와대와 함께 울산...\n27135    김기현 전 울산시장 측근 비리 의혹을 청와대에 최초 제보한 의혹을 받는 송병기(57...\n27136    법원이 지난해 지방선거를 앞두고 청와대에 김기현 전 울산시장(당시 시장)관련 비위 ...\nName: text, Length: 27137, dtype: object\n"
     ]
    }
   ],
   "source": [
    "import pandas as pd\n",
    "import sys\n",
    "\n",
    "#csv에서 news content를 txt로 변환\n",
    "\n",
    "csv=pd.read_csv('201912.csv',encoding='utf-8')\n",
    "\n",
    "text=csv['text']\n",
    "print(text)\n",
    "\n",
    "with open('News_Contents'.txt','w',encoding='utf-8') as file:\n",
    "    for item in text:\n",
    "        file.write(\"%s\\n\" % item)\n"
   ]
  },
  {
   "cell_type": "code",
   "execution_count": null,
   "metadata": {},
   "outputs": [],
   "source": []
  }
 ]
}
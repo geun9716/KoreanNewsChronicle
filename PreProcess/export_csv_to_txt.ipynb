{
 "metadata": {
  "language_info": {
   "codemirror_mode": {
    "name": "ipython",
    "version": 3
   },
   "file_extension": ".py",
   "mimetype": "text/x-python",
   "name": "python",
   "nbconvert_exporter": "python",
   "pygments_lexer": "ipython3",
   "version": "3.8.5-final"
  },
  "orig_nbformat": 2,
  "kernelspec": {
   "name": "python3",
   "display_name": "Python 3.8.5 64-bit",
   "metadata": {
    "interpreter": {
     "hash": "2db524e06e9f5f4ffedc911c917cb75e12dbc923643829bf417064a77eb14d37"
    }
   }
  }
 },
 "nbformat": 4,
 "nbformat_minor": 2,
 "cells": [
  {
   "cell_type": "code",
   "execution_count": 37,
   "metadata": {},
   "outputs": [
    {
     "output_type": "stream",
     "name": "stdout",
     "text": [
      "0        문희상 국회의장이 2019년 새해를 “대한민국 임시정부 100년, 임시의정원 100...\n1        내년도 대구와 경북의 경제성장률이 1%대에 그칠 것이란 암울한 전망이 나왔다.31일...\n2        경남 한국승강기안전공단이 지역과 상생하며 동반성장하는 다양한 활동에 나서고 있다.공...\n3        문재인 대통령은 1일 “이 겨울, 더 따뜻하게 세상을 밝히라는 촛불의 마음 결코 잊...\n4        이마트가 올해 상반기 동안 한우 등심 가격을 인하·동결한다고 1일 밝혔다. 이마트는...\n                               ...                        \n24467    2014년 3월26일 네덜란드 헤이그 미국대사관. 버락 오바마 대통령이 박근혜 대통...\n24468    일본에서 주장이 강한 여성 정치인이나 시민단체 활동가 등을 겨냥한 협박, 괴롭힘 사...\n24469    기사 내용과 무관. 게티이미지뱅크전북 고창의 한 아파트에서 80대 노부부가 숨진 채...\n24470    美언론 “류허, 中하이난서 정상회담 제안” 도널드 트럼프 미국 대통령과 시진핑 중국...\n24471    정시 합격자 발표가 이어지면서 재수를 결심하는 수험생들이 적지 않다. 지금부터 10...\nName: text, Length: 24472, dtype: object\n"
     ]
    }
   ],
   "source": [
    "import pandas as pd\n",
    "import sys\n",
    "\n",
    "csv=pd.read_csv('C:/Users/geun/KoreanNewsChronicle/PreProcess/201901.csv',encoding='utf-8')\n",
    "\n",
    "text=csv['text']\n",
    "print(text)\n",
    "\n",
    "with open('C:/Users/geun/KoreanNewsChronicle/PreProcess/datas.txt','w',encoding='utf-8') as file:\n",
    "    for item in text:\n",
    "        file.write(\"%s\\n\" % item)\n",
    "\n"
   ]
  },
  {
   "cell_type": "code",
   "execution_count": 36,
   "metadata": {},
   "outputs": [
    {
     "output_type": "stream",
     "name": "stdout",
     "text": [
      "export csv to txt\n"
     ]
    }
   ],
   "source": [
    "import pandas as pd\n",
    "import sys\n",
    "\n",
    "csv=pd.read_csv('C:/Users/geun/KoreanNewsChronicle/PreProcess/201901.csv',encoding='utf-8')\n",
    "\n",
    "csv.to_csv('201901.txt', index=False, header=True, sep=\"\\t\")\n",
    "print('export csv to txt')"
   ]
  },
  {
   "cell_type": "code",
   "execution_count": null,
   "metadata": {},
   "outputs": [],
   "source": []
  }
 ]
}
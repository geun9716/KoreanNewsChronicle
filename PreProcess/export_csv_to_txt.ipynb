{
 "metadata": {
  "language_info": {
   "codemirror_mode": {
    "name": "ipython",
    "version": 3
   },
   "file_extension": ".py",
   "mimetype": "text/x-python",
   "name": "python",
   "nbconvert_exporter": "python",
   "pygments_lexer": "ipython3",
   "version": "3.8.5-final"
  },
  "orig_nbformat": 2,
  "kernelspec": {
   "name": "python3",
   "display_name": "Python 3.8.5 64-bit",
   "metadata": {
    "interpreter": {
     "hash": "00c48d4780e7fa7f4b695bd71b2ac9722a525fe5d5880a11d633cd1f8478baa2"
    }
   }
  }
 },
 "nbformat": 4,
 "nbformat_minor": 2,
 "cells": [
  {
   "cell_type": "code",
   "execution_count": 7,
   "metadata": {},
   "outputs": [
    {
     "output_type": "stream",
     "name": "stdout",
     "text": [
      "0        교육부가 서울대 등 서울 소재 대학 16곳의 정시 전형을 40% 이상으로 확대하고 ...\n1        진보 가치 유보하고 조국에 힘 보태자 지지세력 이탈, 기반 흔들선거법 개정 수혜 노...\n2        양승태 전 대법원장 48차 공판 지상중계 “그것은 관점의 차이입니다.”법원행정처 간...\n3        탈북민지원단체, VOA 방송과 인터뷰 단체 “韓도움 요청했지만 기다리라는 말만”외교...\n4        200만 관객을 돌파하면서 흥행 가도를 달리고 있는 영화 ‘블랙머니’는 검찰의 ‘론...\n                               ...                        \n27132    시진핑 중국 국가주석(왼쪽)과 도널드 트럼프 미국 대통령. 연합뉴스도널드 트럼프 미...\n27133    앙골라 법원이 호세 에두아르도 도스 산토스 전직 대통령의 딸이자 억만장자 이사벨 도...\n27134    송병기 울산시 경제부시장. 연합뉴스지난해 6·13 지방선거 당시 청와대와 함께 울산...\n27135    김기현 전 울산시장 측근 비리 의혹을 청와대에 최초 제보한 의혹을 받는 송병기(57...\n27136    법원이 지난해 지방선거를 앞두고 청와대에 김기현 전 울산시장(당시 시장)관련 비위 ...\nName: text, Length: 27137, dtype: object\n"
     ]
    }
   ],
   "source": [
    "import pandas as pd\n",
    "import sys\n",
    "\n",
    "csv=pd.read_csv('201912.csv',encoding='utf-8')\n",
    "\n",
    "text=csv['text']\n",
    "print(text)\n",
    "\n",
    "with open('data12.txt','w',encoding='utf-8') as file:\n",
    "    for item in text:\n",
    "        file.write(\"%s\\n\" % item)\n"
   ]
  },
  {
   "cell_type": "code",
   "execution_count": 20,
   "metadata": {},
   "outputs": [
    {
     "output_type": "stream",
     "name": "stdout",
     "text": [
      "             date press  category  \\\n",
      "0      2019/02/01  국민일보  경제,사회,지역   \n",
      "1      2019/02/01  국민일보        정치   \n",
      "2      2019/02/01  국민일보        경제   \n",
      "3      2019/02/01  국민일보        정치   \n",
      "4      2019/02/01  국민일보  IT_과학,경제   \n",
      "...           ...   ...       ...   \n",
      "19667  2019/02/28  내일신문        사회   \n",
      "19668  2019/02/28  내일신문        사회   \n",
      "19669  2019/02/28  내일신문        사회   \n",
      "19670  2019/02/28  내일신문  사회,IT_과학   \n",
      "19671  2019/02/28  내일신문  사회,IT_과학   \n",
      "\n",
      "                                                headline  \\\n",
      "0                              상생 위한 대타협 ‘일자리 창출’ 새 길 열다   \n",
      "1                      외교 당국자 “2차 북·미 정상회담에서 평화체제 논의될 것”   \n",
      "2                              대우조선 민영화 방안은 현대중공업과 지주 합작   \n",
      "3         안보리 전문가 보고서 “韓, 정유 340t 신고 않고 대북 반입”… 제재 위반 지적   \n",
      "4                       안 터지네!… LG 스마트폰 매출 ‘뚝’ 영업손실률 19%   \n",
      "...                                                  ...   \n",
      "19667   2019 대입 수시 합격자 인터뷰! 김은아 학생(연세대 행정학과 19학번/혜성여고 졸)   \n",
      "19668                         중등영어 만점전략, 교과와 수행평가 모두 잡기!   \n",
      "19669                            세상에서 제일 싫은 것이 생각하는 거라고?   \n",
      "19670                          모의고사 만점 나와야 수능 영어 1등급 된다!   \n",
      "19671  2019 대입 수시 합격자 인터뷰! 김성연 학생(가톨릭대 간호학과 19학번/대진여고 졸)   \n",
      "\n",
      "                                                     url  \\\n",
      "0      http://news.kmib.co.kr/article/view.asp?arcid=...   \n",
      "1      http://news.kmib.co.kr/article/view.asp?arcid=...   \n",
      "2      http://news.kmib.co.kr/article/view.asp?arcid=...   \n",
      "3      http://news.kmib.co.kr/article/view.asp?arcid=...   \n",
      "4      http://news.kmib.co.kr/article/view.asp?arcid=...   \n",
      "...                                                  ...   \n",
      "19667      http://www.naeil.com/news_view/?id_art=305569   \n",
      "19668      http://www.naeil.com/news_view/?id_art=305570   \n",
      "19669      http://www.naeil.com/news_view/?id_art=305571   \n",
      "19670      http://www.naeil.com/news_view/?id_art=305572   \n",
      "19671      http://www.naeil.com/news_view/?id_art=305574   \n",
      "\n",
      "                                                    text  \\\n",
      "0      광주시와 현대차가 투자자로 참여하는 완성차 공장 설립이 ‘광주형 일자리’를 통해 험...   \n",
      "1      2월 말 2차 북·미 정상회담에서 한반도 평화체제를 위한 다자협상이 본격 논의될 것...   \n",
      "2      “양사(현대중공업과 대우조선해양)가 합병하는 게 아니고, ‘조선지주’ 밑에 수평적으...   \n",
      "3      한국 정부가 지난해 개성공단 내 남북공동연락사무소에 사용한 정유제품을 유엔 안전보장...   \n",
      "4      LG전자 스마트폰 사업이 좀처럼 반등 기회를 잡지 못하고 있다. 지난해 하반기 야심...   \n",
      "...                                                  ...   \n",
      "19667  아침을 뉴스와 함께 시작한다는 김은아 학생(혜성여고 졸). ‘계층이 낮은 사람들이 ...   \n",
      "19668  2019학년도 3월 신학기가 시작되는 시점이다. 중학교에 처음 발을 내딛는 중1의 ...   \n",
      "19669  2019년 특히 어려웠던 수능국어 앞으로 어떻게 대비해야 할까요?\\t더 좋은 강의를...   \n",
      "19670  에이플러스영어학원은 대치본원에 이어 지난해 5월 중계점을 개원했다. 그룹 과외와 학...   \n",
      "19671  병원에서 일하는 것이 꿈이었다는 김성연 학생(대진여고 졸). 학년이 올라갈수록 성적...   \n",
      "\n",
      "                                           topics  \n",
      "0        일자리, 광주, 협약, 만, 노사, 임금, 광주시, 현대차, 유예, 노동  \n",
      "1      미, 북, 회담, 북한, 협상, 당국자, 정상, 평화체제, 비핵화, 상응조치  \n",
      "2       대우조선, 산업은행, 회장, 중공업, 지원, 지주, 현대, 조, 억, 삼성  \n",
      "3        한국, 제재, 정부, 신고, 저, 재위, 전문가, 보고서, 대북, 지난해  \n",
      "4         사업, 전자, 조, 매출, 영업이익, 억, 본부, 지난해, 스마트, 폰  \n",
      "...                                           ...  \n",
      "19667      뉴스, 진로, 공부, 수능, 학생, 활동, 성적, 면접, 준비, 출제  \n",
      "19668     영어, 수능, 평가, 학년, 내신, 등급, 학년도, 대비, 진행, 수업  \n",
      "19669      능력, 독해, 아이, 글, 핵심, 훈련, 국어, 사고력, 과정, 향상  \n",
      "19670   영어, 등급, 모의고사, 수능, 학원, 학습, 내신, 원장, 수업, 파란색  \n",
      "19671      논술, 등급, 학년, 수능, 수학, 국어, 수리, 준비, 시작, 학생  \n",
      "\n",
      "[19672 rows x 7 columns]\n",
      "merge topics\n"
     ]
    }
   ],
   "source": [
    "import pandas as pd\n",
    "import sys\n",
    "\n",
    "csv = pd.read_csv('201902.csv',encoding='utf-8')\n",
    "topic = pd.read_csv('201902_topic.csv', encoding='utf-8')\n",
    "\n",
    "# print(csv)\n",
    "# print(topic['topics'])\n",
    "\n",
    "merge = pd.concat([csv, topic['topics']], axis=1)\n",
    "print(merge)\n",
    "merge.to_csv('201902_tst.csv', index=False, header=True,encoding=\"utf-8-sig\")\n",
    "print('merge topics')"
   ]
  },
  {
   "cell_type": "code",
   "execution_count": null,
   "metadata": {},
   "outputs": [],
   "source": []
  }
 ]
}
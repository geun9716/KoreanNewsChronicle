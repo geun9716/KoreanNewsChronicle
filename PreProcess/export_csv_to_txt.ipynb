{
 "metadata": {
  "language_info": {
   "codemirror_mode": {
    "name": "ipython",
    "version": 3
   },
   "file_extension": ".py",
   "mimetype": "text/x-python",
   "name": "python",
   "nbconvert_exporter": "python",
   "pygments_lexer": "ipython3",
   "version": "3.8.5-final"
  },
  "orig_nbformat": 2,
  "kernelspec": {
   "name": "python3",
   "display_name": "Python 3.8.5 64-bit",
   "metadata": {
    "interpreter": {
     "hash": "2db524e06e9f5f4ffedc911c917cb75e12dbc923643829bf417064a77eb14d37"
    }
   }
  }
 },
 "nbformat": 4,
 "nbformat_minor": 2,
 "cells": [
  {
   "cell_type": "code",
   "execution_count": 11,
   "metadata": {},
   "outputs": [
    {
     "output_type": "stream",
     "name": "stdout",
     "text": [
      "0        광주시와 현대차가 투자자로 참여하는 완성차 공장 설립이 ‘광주형 일자리’를 통해 험...\n1        2월 말 2차 북·미 정상회담에서 한반도 평화체제를 위한 다자협상이 본격 논의될 것...\n2        “양사(현대중공업과 대우조선해양)가 합병하는 게 아니고, ‘조선지주’ 밑에 수평적으...\n3        한국 정부가 지난해 개성공단 내 남북공동연락사무소에 사용한 정유제품을 유엔 안전보장...\n4        LG전자 스마트폰 사업이 좀처럼 반등 기회를 잡지 못하고 있다. 지난해 하반기 야심...\n                               ...                        \n19667    아침을 뉴스와 함께 시작한다는 김은아 학생(혜성여고 졸). ‘계층이 낮은 사람들이 ...\n19668    2019학년도 3월 신학기가 시작되는 시점이다. 중학교에 처음 발을 내딛는 중1의 ...\n19669    2019년 특히 어려웠던 수능국어 앞으로 어떻게 대비해야 할까요?\\t더 좋은 강의를...\n19670    에이플러스영어학원은 대치본원에 이어 지난해 5월 중계점을 개원했다. 그룹 과외와 학...\n19671    병원에서 일하는 것이 꿈이었다는 김성연 학생(대진여고 졸). 학년이 올라갈수록 성적...\nName: text, Length: 19672, dtype: object\n"
     ]
    }
   ],
   "source": [
    "import pandas as pd\n",
    "import sys\n",
    "\n",
    "csv=pd.read_csv('C:/Users/geun/KoreanNewsChronicle/Data/201902.csv',encoding='utf-8')\n",
    "\n",
    "text=csv['text']\n",
    "print(text)\n",
    "\n",
    "with open('C:/Users/geun/KoreanNewsChronicle/PreProcess/datas.txt','w',encoding='utf-8') as file:\n",
    "    for item in text:\n",
    "        file.write(\"%s\\n\" % item)\n"
   ]
  },
  {
   "cell_type": "code",
   "execution_count": 10,
   "metadata": {},
   "outputs": [
    {
     "output_type": "stream",
     "name": "stdout",
     "text": [
      "            date  ...                                        topics\n",
      "0     2019/02/01  ...      일자리, 광주, 만, 노사, 협약, 임금, 광주시, 현대차, 유예, 노동\n",
      "1     2019/02/01  ...       미, 북, 회담, 북한, 협상, 핵, 당국자, 정상, 평화체제, 비핵화\n",
      "2     2019/02/01  ...    대우조선, 산업은행, 회장, 중공업, 지주, 지원, 현대중공업, 현대, 삼성\n",
      "3     2019/02/01  ...       정부, 신고, 저, 재위, 한국, 제재, 남북, 전문가, 보고서, 대북\n",
      "4     2019/02/01  ...       사업, 전자, 조, 매출, 영업이익, 억, 본부, 지난해, 스마트, 폰\n",
      "...          ...  ...                                           ...\n",
      "4981  2019/02/11  ...        센서, 공기, 설치, 시설, 실내, 질, 미세, 먼지, 주민, 실시간\n",
      "4982  2019/02/11  ...     독립유공자, 지원, 귀국, 김, 주거, 보훈처, 유족, 영주, 정착, 주택\n",
      "4983  2019/02/11  ...        복합, 사업, 업무, 구, 착공, 개발, 구의역, 첨단, 단지, 규모\n",
      "4984  2019/02/11  ...  대, 차, E클래스, 중형, 세단, 만, 메르세데스-벤츠, 국내, 판매량, 국산\n",
      "4985  2019/02/11  ...       인증, 부품, 품, 펜더, 싼타페, 차, 출시, 소비자, 자동차, 전방\n",
      "\n",
      "[4986 rows x 7 columns]\n",
      "merge topics\n"
     ]
    }
   ],
   "source": [
    "import pandas as pd\n",
    "import sys\n",
    "\n",
    "csv = pd.read_csv('C:/Users/geun/KoreanNewsChronicle/Data/1_201902.csv',encoding='utf-8')\n",
    "topic = pd.read_csv('C:/Users/geun/KoreanNewsChronicle/PreProcess/1_201902_topic.csv', encoding='utf-8')\n",
    "\n",
    "# print(csv)\n",
    "# print(topic['topics'])\n",
    "\n",
    "merge = pd.concat([csv, topic['topics']], axis=1)\n",
    "print(merge)\n",
    "merge.to_csv('201902.csv', index=False, header=True, sep=\"\\t\")\n",
    "print('merge topics')"
   ]
  },
  {
   "cell_type": "code",
   "execution_count": null,
   "metadata": {},
   "outputs": [],
   "source": []
  }
 ]
}
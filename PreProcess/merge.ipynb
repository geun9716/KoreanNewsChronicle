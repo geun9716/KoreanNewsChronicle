{
 "cells": [
  {
   "cell_type": "code",
   "execution_count": 82,
   "metadata": {},
   "outputs": [],
   "source": [
    "f = open(\"pmi_token_upper100.txt\", \"r\", encoding = 'utf-8-sig')\n",
    "f2 = open(\"sorted_wordlist_end.txt\", \"r\", encoding = 'utf-8-sig')\n",
    "\n",
    "tokens = []\n",
    "counts = []\n",
    "\n",
    "for line in f:\n",
    "    token, count = line.split(\" , \")\n",
    "    tokens.append(token)\n",
    "    counts.append(int(count))\n",
    "\n",
    "values = []\n",
    "for count in counts:\n",
    "    values.append(count/(len(counts)*2))\n"
   ]
  },
  {
   "cell_type": "code",
   "execution_count": 83,
   "metadata": {},
   "outputs": [],
   "source": [
    "words = []\n",
    "tags = []\n",
    "scores = []\n",
    "\n",
    "for line in f2:\n",
    "    word, tag, score = line.split('\\t')\n",
    "    words.append(word)\n",
    "    tags.append('NNP')\n",
    "    scores.append(score.strip())\n",
    "\n",
    "for i in range(len(tokens)):\n",
    "    words.append(tokens[i])\n",
    "    words.append(tokens[i].replace(\" \", \"\"))\n",
    "    tags.append('NNG')\n",
    "    tags.append('NNG')\n",
    "    scores.append(values[i])\n",
    "    scores.append(values[i])\n"
   ]
  },
  {
   "cell_type": "code",
   "execution_count": 84,
   "metadata": {},
   "outputs": [],
   "source": [
    "f3 = open(\"new_wordlist.txt\", \"w\", encoding = 'utf-8-sig')\n",
    "for i in range(len(words)):\n",
    "    f3.write(words[i] + \"\\t\" + tags[i] + \"\\t\" + str(scores[i]) + \"\\n\")\n",
    "f3.close()\n",
    "f.close()\n",
    "f2.close()"
   ]
  },
  {
   "cell_type": "code",
   "execution_count": null,
   "metadata": {},
   "outputs": [],
   "source": []
  }
 ],
 "metadata": {
  "kernelspec": {
   "display_name": "Python 3",
   "language": "python",
   "name": "python3"
  },
  "language_info": {
   "codemirror_mode": {
    "name": "ipython",
    "version": 3
   },
   "file_extension": ".py",
   "mimetype": "text/x-python",
   "name": "python",
   "nbconvert_exporter": "python",
   "pygments_lexer": "ipython3",
   "version": "3.8.5"
  }
 },
 "nbformat": 4,
 "nbformat_minor": 4
}

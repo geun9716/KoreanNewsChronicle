{
 "metadata": {
  "language_info": {
   "codemirror_mode": {
    "name": "ipython",
    "version": 3
   },
   "file_extension": ".py",
   "mimetype": "text/x-python",
   "name": "python",
   "nbconvert_exporter": "python",
   "pygments_lexer": "ipython3",
   "version": "3.8.5-final"
  },
  "orig_nbformat": 2,
  "kernelspec": {
   "name": "Python 3.8.5 64-bit",
   "display_name": "Python 3.8.5 64-bit",
   "metadata": {
    "interpreter": {
     "hash": "00c48d4780e7fa7f4b695bd71b2ac9722a525fe5d5880a11d633cd1f8478baa2"
    }
   }
  }
 },
 "nbformat": 4,
 "nbformat_minor": 2,
 "cells": [
  {
   "cell_type": "code",
   "execution_count": 2,
   "metadata": {},
   "outputs": [
    {
     "output_type": "stream",
     "name": "stdout",
     "text": [
      "              date press category  \\\n0       2020/01/01  서울신문    국제,정치   \n1       2020/01/01  국민일보       정치   \n2       2020/01/01  국민일보       정치   \n3       2020/01/01  국민일보       경제   \n4       2020/01/01  서울신문       정치   \n...            ...   ...      ...   \n316384  2020/10/31  세계일보       정치   \n316385  2020/10/31  세계일보       정치   \n316386  2020/10/31  서울신문       국제   \n316387  2020/10/31  세계일보    사회,경제   \n316388  2020/10/31  세계일보       국제   \n\n                                             headline  \\\n0                            “교육이 계층이동 사다리 돼야 양극화 해소”   \n1                     국군 전사자 12만3000여명, 아직도 못 돌아오고 있다   \n2                 한국당의 처참한 성적표, “총사퇴는 쇼” “장기판 박카스 뚜껑”   \n3                  쌀값·외식비·학원비는 올랐는데, 소비자물가 상승률은 역대 최저   \n4                    “블루오션 잡아라”… 민주·정의, 청소년 당원 모시기 경쟁   \n...                                               ...   \n316384  서민 “조국, 자녀 관련 거짓말 끔찍이 싫어 고소… 아들 입대 두 달 남아” 압박   \n316385              ‘김신조 사건’ 후 52년… 북악산 철문 직접 연 文 대통령   \n316386          “주례 부탁드려도 될까요” 예비부부 부탁에 정세균 총리가 한 말은?   \n316387            서비스업 임금근로자 대출 늘고, 연체율도 최대… 올해가 더 걱정   \n316388     일일 신규 환자 10만명 넘었지만… 6대 경합주 격차 줄이는 ‘샤이 트럼프’   \n\n                                                      url  \\\n0       http://www.seoul.co.kr/news/newsView.php?id=20...   \n1       http://news.kmib.co.kr/article/view.asp?arcid=...   \n2       http://news.kmib.co.kr/article/view.asp?arcid=...   \n3       http://news.kmib.co.kr/article/view.asp?arcid=...   \n4       http://www.seoul.co.kr/news/newsView.php?id=20...   \n...                                                   ...   \n316384  http://www.segye.com/content/html/2020/10/31/2...   \n316385  http://www.segye.com/content/html/2020/10/31/2...   \n316386  http://www.seoul.co.kr/news/newsView.php?id=20...   \n316387  http://www.segye.com/content/html/2020/10/31/2...   \n316388  http://www.segye.com/content/html/2020/10/31/2...   \n\n                                                     text  \n0       [신년 인터뷰] ‘사회적 불평등’ 연구 대가 로버트 라이시 美 캘리포니아대학 교수 ...  \n1       사진=게티이미지6·25전쟁이 발발한 지 70년이 되는 새해에는 여섯 살 때 마지막으...  \n2       황교안(앞줄 왼쪽 네 번째) 자유한국당 대표가 31일 국회에서 인재영입위원들에게 임...  \n3       2019년 소비자물가 상승률이 전년 대비 0.4%로 1965년 통계 집계 이래 역대...  \n4       민주, 16~18세이하 청소년 위원 모집…정의, 대규모 입당식 등 만 18세 챙기기...  \n...                                                   ...  \n316384  ‘조국흑서’의 공동 저자이며 문재인 정부에 비판적 발언을 해온 서민 단국대 의대 교...  \n316385  문재인 대통령이 북한군 청와대 기습 시도 사건인 ‘김신조 사건’ 이후 52년만에 북...  \n316386  2020 코리아세일페스타 ‘최고!’정세균 국무총리가 31일 서울시청 ‘서울 ON’ ...  \n316387  지난해 서비스업에 종사하는 임금근로자의 대출이 크게 늘고 연체율도 높은 것으로 나타...  \n316388  트럼프·바이든 코로나19 대응으로 격돌미국 대선을 나흘 앞둔 30일(현지시간) 신종...  \n\n[316389 rows x 6 columns]\n"
     ]
    }
   ],
   "source": [
    "import os\n",
    "import pandas as pd\n",
    "\n",
    "class Reader:\n",
    "    def __init__(self, filePath):\n",
    "        newses=[]\n",
    "        news=pd.read_csv(filePath,encoding=\"UTF-8\")\n",
    "        newses.append(news)\n",
    "        self.docs=pd.concat(newses,ignore_index=True)\n",
    "    \n",
    "    def read(self, id):\n",
    "        if id==0:\n",
    "            return 0\n",
    "        return str(self.docs['text'][id-1])\n",
    "\n",
    "reader = Reader('../Data/2020(1_10).csv')\n",
    "\n",
    "print(reader.docs)"
   ]
  },
  {
   "cell_type": "code",
   "execution_count": 44,
   "metadata": {},
   "outputs": [
    {
     "output_type": "stream",
     "name": "stdout",
     "text": [
      "['것', '수', '이', '나', '사람', '등', '우리', '때', '년', '말', '일', '때문', '그것', '일', '문제', '사회', '중', '씨', '지금', '속', '하나', '집', '월', '데', '자신', '내', '경우', '명', '생각', '시간', '그녀', '앞', '번', '여자', '개', '전', '사실', '점', '정도', '원', '소리']\n"
     ]
    }
   ],
   "source": [
    "import sys\n",
    "import io\n",
    "import re # 정규표현식 패키지\n",
    "from kiwipiepy import Kiwi, Option\n",
    "import tomotopy as tp\n",
    "\n",
    "file = open(\"한국어불용어100.txt\", 'r', encoding=\"utf-8\")\n",
    "stopword=[]\n",
    "\n",
    "while True:\n",
    "    line = file.readline()\n",
    "    if not line: break\n",
    "    wordlist = line.split('\\t')\n",
    "    if (wordlist[1].startswith('N')):\n",
    "        stopword.append(wordlist[0])\n",
    "\n",
    "\n",
    "kiwi=Kiwi()\n",
    "kiwi.extract_add_words(reader.read)\n",
    "kiwi.prepare()\n",
    "\n",
    "print(stopword)"
   ]
  },
  {
   "cell_type": "code",
   "execution_count": 31,
   "metadata": {},
   "outputs": [],
   "source": [
    "stopwords = set(stopword)\n",
    "\n",
    "\n",
    "def tokenize(sent): # 파일의 라인을 분석할 tokenize 함수\n",
    "    res, score = kiwi.analyze(sent)[0] # 첫번째 결과를 사용한다, 분석할때 나오는 결과에서 단어만 추출\n",
    "    return [word\n",
    "            for word, tag, _, _ in res\n",
    "            if tag.startswith('N') or tag.startswith(\"VA\") and word not in stopwords] #불용어사전 적용"
   ]
  },
  {
   "cell_type": "code",
   "execution_count": 45,
   "metadata": {},
   "outputs": [
    {
     "output_type": "stream",
     "name": "stdout",
     "text": [
      "Topic #0\t경제, 미국, 기업, 세계, 상위, 년, 정치, 것, 트럼프, 부자\n",
      "Topic #0\t발굴, 유해, 년, 전사자, 아버지, 구, 전쟁, 월, 수, 만\n",
      "Topic #0\t당, 의원, 한국, 대표, 투쟁, 황, 것, 통합, 지도부, 국회\n",
      "Topic #0\t물가, 년, 상승, 전년, 대비, 가격, 등, 하락, 품목, 2019년\n",
      "Topic #0\t입당, 등, 일, 선거, 법, 연령, 고등학생, 예비, 대상, 당원\n",
      "Topic #0\t의원, 직, 없, 한국, 당, 총사퇴, 대표, 국민, 의장, 사퇴\n",
      "Topic #0\tP2P, 많, 자, 연체, 말, 기간, 계좌, 금융, 대출, 업체\n",
      "Topic #0\t대통령, 것, 국회, 법, 문, 야당, 국민, 군소, 편, 지지자\n",
      "Topic #0\t전셋값, 부동산, 수, 공급, 수요, 집값, 대책, 서울, 것, 정부\n",
      "Topic #0\t공무원, 국민, 사회, 경제, 규제, 공직, 새롭, 년, 성장, 정책\n",
      "Topic #0\t군사, 장관, 안보, 일, 군, 평화, 정, 미사일, 훈련, 태세\n",
      "Topic #0\t국회, 정치, 대한민국, 국민, 의장, 일, 년, 새롭, 문, 새해\n",
      "Topic #0\t공제, 신문, 소득, 년, 구독료, 혜택\n"
     ]
    },
    {
     "output_type": "error",
     "ename": "KeyboardInterrupt",
     "evalue": "",
     "traceback": [
      "\u001b[1;31m---------------------------------------------------------------------------\u001b[0m",
      "\u001b[1;31mKeyboardInterrupt\u001b[0m                         Traceback (most recent call last)",
      "\u001b[1;32m<ipython-input-45-1cc03e58a229>\u001b[0m in \u001b[0;36m<module>\u001b[1;34m\u001b[0m\n\u001b[0;32m     11\u001b[0m \u001b[1;32mfor\u001b[0m \u001b[0mi\u001b[0m \u001b[1;32min\u001b[0m \u001b[0mrange\u001b[0m\u001b[1;33m(\u001b[0m\u001b[0mlen\u001b[0m\u001b[1;33m(\u001b[0m\u001b[0mreader\u001b[0m\u001b[1;33m.\u001b[0m\u001b[0mdocs\u001b[0m\u001b[1;33m)\u001b[0m\u001b[1;33m)\u001b[0m\u001b[1;33m:\u001b[0m \u001b[1;31m#해당 경로의 파일을 받아와 한 라인씩 model에 추가\u001b[0m\u001b[1;33m\u001b[0m\u001b[1;33m\u001b[0m\u001b[0m\n\u001b[0;32m     12\u001b[0m     \u001b[0mmodel\u001b[0m \u001b[1;33m=\u001b[0m \u001b[0mtp\u001b[0m\u001b[1;33m.\u001b[0m\u001b[0mLDAModel\u001b[0m\u001b[1;33m(\u001b[0m\u001b[0mk\u001b[0m\u001b[1;33m=\u001b[0m\u001b[1;36m1\u001b[0m\u001b[1;33m,\u001b[0m \u001b[0malpha\u001b[0m\u001b[1;33m=\u001b[0m\u001b[1;36m0.1\u001b[0m\u001b[1;33m,\u001b[0m \u001b[0meta\u001b[0m\u001b[1;33m=\u001b[0m\u001b[1;36m0.01\u001b[0m\u001b[1;33m,\u001b[0m \u001b[0mmin_cf\u001b[0m\u001b[1;33m=\u001b[0m\u001b[1;36m3\u001b[0m\u001b[1;33m,\u001b[0m\u001b[0mmin_df\u001b[0m\u001b[1;33m=\u001b[0m\u001b[1;36m1\u001b[0m\u001b[1;33m,\u001b[0m \u001b[0mtw\u001b[0m\u001b[1;33m=\u001b[0m\u001b[0mtp\u001b[0m\u001b[1;33m.\u001b[0m\u001b[0mTermWeight\u001b[0m\u001b[1;33m.\u001b[0m\u001b[0mPMI\u001b[0m\u001b[1;33m)\u001b[0m\u001b[1;33m\u001b[0m\u001b[1;33m\u001b[0m\u001b[0m\n\u001b[1;32m---> 13\u001b[1;33m     \u001b[0mmodel\u001b[0m\u001b[1;33m.\u001b[0m\u001b[0madd_doc\u001b[0m\u001b[1;33m(\u001b[0m\u001b[0mtokenize\u001b[0m\u001b[1;33m(\u001b[0m\u001b[0mreader\u001b[0m\u001b[1;33m.\u001b[0m\u001b[0mdocs\u001b[0m\u001b[1;33m[\u001b[0m\u001b[1;34m'text'\u001b[0m\u001b[1;33m]\u001b[0m\u001b[1;33m[\u001b[0m\u001b[0mi\u001b[0m\u001b[1;33m]\u001b[0m\u001b[1;33m)\u001b[0m\u001b[1;33m)\u001b[0m \u001b[1;31m#추출하고 모델안의 문헌을 넣는다. 즉, 학습과정에 쓰일 문헌을 생성\u001b[0m\u001b[1;33m\u001b[0m\u001b[1;33m\u001b[0m\u001b[0m\n\u001b[0m\u001b[0;32m     14\u001b[0m \u001b[1;33m\u001b[0m\u001b[0m\n\u001b[0;32m     15\u001b[0m     \u001b[0mmodel\u001b[0m\u001b[1;33m.\u001b[0m\u001b[0mtrain\u001b[0m\u001b[1;33m(\u001b[0m\u001b[1;36m0\u001b[0m\u001b[1;33m)\u001b[0m \u001b[1;31m#학습 초기화\u001b[0m\u001b[1;33m\u001b[0m\u001b[1;33m\u001b[0m\u001b[0m\n",
      "\u001b[1;32m<ipython-input-31-e6b21550c985>\u001b[0m in \u001b[0;36mtokenize\u001b[1;34m(sent)\u001b[0m\n\u001b[0;32m      3\u001b[0m \u001b[1;33m\u001b[0m\u001b[0m\n\u001b[0;32m      4\u001b[0m \u001b[1;32mdef\u001b[0m \u001b[0mtokenize\u001b[0m\u001b[1;33m(\u001b[0m\u001b[0msent\u001b[0m\u001b[1;33m)\u001b[0m\u001b[1;33m:\u001b[0m \u001b[1;31m# 파일의 라인을 분석할 tokenize 함수\u001b[0m\u001b[1;33m\u001b[0m\u001b[1;33m\u001b[0m\u001b[0m\n\u001b[1;32m----> 5\u001b[1;33m     \u001b[0mres\u001b[0m\u001b[1;33m,\u001b[0m \u001b[0mscore\u001b[0m \u001b[1;33m=\u001b[0m \u001b[0mkiwi\u001b[0m\u001b[1;33m.\u001b[0m\u001b[0manalyze\u001b[0m\u001b[1;33m(\u001b[0m\u001b[0msent\u001b[0m\u001b[1;33m)\u001b[0m\u001b[1;33m[\u001b[0m\u001b[1;36m0\u001b[0m\u001b[1;33m]\u001b[0m \u001b[1;31m# 첫번째 결과를 사용한다, 분석할때 나오는 결과에서 단어만 추출\u001b[0m\u001b[1;33m\u001b[0m\u001b[1;33m\u001b[0m\u001b[0m\n\u001b[0m\u001b[0;32m      6\u001b[0m     return [word\n\u001b[0;32m      7\u001b[0m             \u001b[1;32mfor\u001b[0m \u001b[0mword\u001b[0m\u001b[1;33m,\u001b[0m \u001b[0mtag\u001b[0m\u001b[1;33m,\u001b[0m \u001b[0m_\u001b[0m\u001b[1;33m,\u001b[0m \u001b[0m_\u001b[0m \u001b[1;32min\u001b[0m \u001b[0mres\u001b[0m\u001b[1;33m\u001b[0m\u001b[1;33m\u001b[0m\u001b[0m\n",
      "\u001b[1;31mKeyboardInterrupt\u001b[0m: "
     ]
    }
   ],
   "source": [
    "import tomotopy as tp\n",
    "\n",
    "\n",
    "#LDA 모델을 적용해서 토픽 추출, k는 topic 개수\n",
    "#alpha는 문헌-토픽 디리클레 분포의 하이퍼 파라미터\n",
    "#eta는 토픽-단어 디리클레 분포의 하이퍼 파라미터 두개다 상수인듯하다\n",
    "#min_cf는 단어의 최소 장서 빈도수, 전체 문헌내 출현빈도\n",
    "#min_df는 단어의 최서 문헌 빈도수, 출현한 문헌 숫자수 의미\n",
    "#tw는 용어 가중치 기법으로, ONE, IDF, PMI를 사용가능, ONE 보다는 PMI나 IDF 둘중 하나 사용 \n",
    "\n",
    "for i in range(len(reader.docs)): #해당 경로의 파일을 받아와 한 라인씩 model에 추가\n",
    "    model = tp.LDAModel(k=1, alpha=0.1, eta=0.01, min_cf=3,min_df=1, tw=tp.TermWeight.PMI)\n",
    "    model.add_doc(tokenize(reader.docs['text'][i])) #추출하고 모델안의 문헌을 넣는다. 즉, 학습과정에 쓰일 문헌을 생성\n",
    "\n",
    "    model.train(0) #학습 초기화\n",
    "\n",
    " \n",
    "    for i in range(0,100):\n",
    "        model.train(20) #문헌 학습, 안에 숫자는 깁스 샘플링의 반복횟수\n",
    "\t\t#이때 기본값으로 시스템내 가용한 모든 스레드의 개수사용, 그리고 병렬화 방법을 찾아서 실행시켜준다\n",
    "  \n",
    "    for i in range(model.k): #k는 토픽의 개수\n",
    "        res = model.get_topic_words(i, top_n=10) #하위 토픽 i에 해당하는 top_n개의 단어 반환\n",
    "        print('Topic #{}'.format(i), end='\\t')\n",
    "        print(', '.join(w for w, p in res))"
   ]
  },
  {
   "cell_type": "code",
   "execution_count": null,
   "metadata": {},
   "outputs": [],
   "source": []
  }
 ]
}
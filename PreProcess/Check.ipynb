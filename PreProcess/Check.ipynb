{
 "metadata": {
  "language_info": {
   "codemirror_mode": {
    "name": "ipython",
    "version": 3
   },
   "file_extension": ".py",
   "mimetype": "text/x-python",
   "name": "python",
   "nbconvert_exporter": "python",
   "pygments_lexer": "ipython3",
   "version": "3.8.5-final"
  },
  "orig_nbformat": 2,
  "kernelspec": {
   "name": "Python 3.8.5 64-bit",
   "display_name": "Python 3.8.5 64-bit",
   "metadata": {
    "interpreter": {
     "hash": "00c48d4780e7fa7f4b695bd71b2ac9722a525fe5d5880a11d633cd1f8478baa2"
    }
   }
  }
 },
 "nbformat": 4,
 "nbformat_minor": 2,
 "cells": [
  {
   "cell_type": "code",
   "execution_count": 31,
   "metadata": {},
   "outputs": [],
   "source": [
    "import os\n",
    "import pandas as pd\n",
    "def searchFiles(path):\n",
    "    filelist=[]\n",
    "    filename=os.listdir(path)\n",
    "    for filename in filenames:\n",
    "        file_path=os.path.join(oath,filename)\n",
    "        filelist.append(file_path)\n",
    "    return filelist\n",
    "\n",
    "def main():\n",
    "    newses=[]\n",
    "    for filePath in searchFiles('../Data/'):\n",
    "        news=pd.read_csv(filePath,encoding=\"UTF-8\")\n",
    "        newses.append(news)\n",
    "    docs=pd.concat(newses,ignore_index=True)\n",
    "    print(docs)    \n"
   ]
  },
  {
   "cell_type": "code",
   "execution_count": null,
   "metadata": {},
   "outputs": [],
   "source": []
  }
 ]
}
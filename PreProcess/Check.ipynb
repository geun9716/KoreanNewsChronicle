{
 "metadata": {
  "language_info": {
   "codemirror_mode": {
    "name": "ipython",
    "version": 3
   },
   "file_extension": ".py",
   "mimetype": "text/x-python",
   "name": "python",
   "nbconvert_exporter": "python",
   "pygments_lexer": "ipython3",
   "version": "3.8.5-final"
  },
  "orig_nbformat": 2,
  "kernelspec": {
   "name": "Python 3.8.5 64-bit",
   "display_name": "Python 3.8.5 64-bit",
   "metadata": {
    "interpreter": {
     "hash": "00c48d4780e7fa7f4b695bd71b2ac9722a525fe5d5880a11d633cd1f8478baa2"
    }
   }
  }
 },
 "nbformat": 4,
 "nbformat_minor": 2,
 "cells": [
  {
   "cell_type": "code",
   "execution_count": 6,
   "metadata": {},
   "outputs": [],
   "source": [
    "import os\n",
    "import pandas as pd\n",
    "\n",
    "def searchFiles(path):\n",
    "    filelist=[]\n",
    "    filenames=os.listdir(path)\n",
    "    for filename in filenames:\n",
    "        file_path=os.path.join(path,filename)\n",
    "        filelist.append(file_path)\n",
    "    return filelist\n",
    "\n",
    "\n",
    "   \n"
   ]
  },
  {
   "cell_type": "code",
   "execution_count": 7,
   "metadata": {},
   "outputs": [
    {
     "output_type": "stream",
     "name": "stdout",
     "text": [
      "             date press category  \\\n0      2020/01/01  서울신문    국제,정치   \n1      2020/01/01  국민일보       정치   \n2      2020/01/01  국민일보       정치   \n3      2020/01/01  국민일보       경제   \n4      2020/01/01  서울신문       정치   \n...           ...   ...      ...   \n27943  2020/01/31  서울신문       사회   \n27944  2020/01/31  서울신문       국제   \n27945  2020/01/31  세계일보       국제   \n27946  2020/01/31  세계일보    국제,경제   \n27947  2020/01/31  중앙일보       국제   \n\n                                                    text  \\\n0      [신년 인터뷰] ‘사회적 불평등’ 연구 대가 로버트 라이시 美 캘리포니아대학 교수 ...   \n1      사진=게티이미지6·25전쟁이 발발한 지 70년이 되는 새해에는 여섯 살 때 마지막으...   \n2      황교안(앞줄 왼쪽 네 번째) 자유한국당 대표가 31일 국회에서 인재영입위원들에게 임...   \n3      2019년 소비자물가 상승률이 전년 대비 0.4%로 1965년 통계 집계 이래 역대...   \n4      민주, 16~18세이하 청소년 위원 모집…정의, 대규모 입당식 등 만 18세 챙기기...   \n...                                                  ...   \n27943  중국 후베이성 우한과 인근에서 철수하는 한국인 367명을 실은 정부 전세기가 31일...   \n27944  리스티안 린트마이어 WHO 대변인은 31일(현지시간) 유엔 제네바 사무소에서 기자들...   \n27945  “세상이 밤처럼 캄캄해지고 그들이 서로 부딪치는 소리가 천지를 진동했다. 남정네들은...   \n27946  되살아난 ‘메르스 소비실종’ 악몽 / 중국발 기업쇼크 전면 확산 조짐 / 소비진작·...   \n27947  신종 코로나바이러스 감염증(우한 폐렴)으로 봉쇄된 중국 후베이성 우한 등지에서 한국...   \n\n                                                     url  \\\n0      http://www.seoul.co.kr/news/newsView.php?id=20...   \n1      http://news.kmib.co.kr/article/view.asp?arcid=...   \n2      http://news.kmib.co.kr/article/view.asp?arcid=...   \n3      http://news.kmib.co.kr/article/view.asp?arcid=...   \n4      http://www.seoul.co.kr/news/newsView.php?id=20...   \n...                                                  ...   \n27943  http://www.seoul.co.kr/news/newsView.php?id=20...   \n27944  http://www.seoul.co.kr/news/newsView.php?id=20...   \n27945  http://www.segye.com/content/html/2020/01/31/2...   \n27946  http://www.segye.com/content/html/2020/01/31/2...   \n27947      https://news.joins.com/article/olink/23289625   \n\n                                                  text.1  \n0      [신년 인터뷰] ‘사회적 불평등’ 연구 대가 로버트 라이시 美 캘리포니아대학 교수 ...  \n1      사진=게티이미지6·25전쟁이 발발한 지 70년이 되는 새해에는 여섯 살 때 마지막으...  \n2      황교안(앞줄 왼쪽 네 번째) 자유한국당 대표가 31일 국회에서 인재영입위원들에게 임...  \n3      2019년 소비자물가 상승률이 전년 대비 0.4%로 1965년 통계 집계 이래 역대...  \n4      민주, 16~18세이하 청소년 위원 모집…정의, 대규모 입당식 등 만 18세 챙기기...  \n...                                                  ...  \n27943  중국 후베이성 우한과 인근에서 철수하는 한국인 367명을 실은 정부 전세기가 31일...  \n27944  리스티안 린트마이어 WHO 대변인은 31일(현지시간) 유엔 제네바 사무소에서 기자들...  \n27945  “세상이 밤처럼 캄캄해지고 그들이 서로 부딪치는 소리가 천지를 진동했다. 남정네들은...  \n27946  되살아난 ‘메르스 소비실종’ 악몽 / 중국발 기업쇼크 전면 확산 조짐 / 소비진작·...  \n27947  신종 코로나바이러스 감염증(우한 폐렴)으로 봉쇄된 중국 후베이성 우한 등지에서 한국...  \n\n[27948 rows x 6 columns]\n"
     ]
    }
   ],
   "source": [
    "newses=[]\n",
    "for filePath in searchFiles('../Data/'):\n",
    "    news=pd.read_csv(filePath,encoding=\"UTF-8\")\n",
    "    newses.append(news)\n",
    "docs=pd.concat(newses,ignore_index=True)\n",
    "print(docs) "
   ]
  },
  {
   "cell_type": "code",
   "execution_count": null,
   "metadata": {},
   "outputs": [],
   "source": []
  }
 ]
}
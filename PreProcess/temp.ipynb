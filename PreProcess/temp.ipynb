{
 "cells": [
  {
   "cell_type": "code",
   "execution_count": 1,
   "metadata": {},
   "outputs": [
    {
     "name": "stdout",
     "output_type": "stream",
     "text": [
      "0        美대표 “이행 점검 장·차관급 회담 年 6회 中, 합의 안 지킬 땐 관세 폭탄 즉시...\n",
      "1        법원 “여성 2명·자녀 6명 송환 의무 없어” 벨기에 “10세 이하 어린이는 데려올...\n",
      "2        “국제 원조 받아들이고 대선 다시 치러야”“美 인도주의적 쇼 원조물품 일단 회수를”...\n",
      "3        전과자 등 총기 소유 막기 위해 의무화 상원 반대·트럼프 거부에 통과 불투명민주당이...\n",
      "4        성능 실험서 배수 등 중대 결함 발견  도널드 트럼프 미국 대통령이 국경장벽 건설을...\n",
      "                               ...                        \n",
      "22383    청문회서 결정적 흠결 드러나 / 잇단 부실 검증 책임 물어야 / 인사기준 강화가 우...\n",
      "22384    자유한국당이 축구장 선거유세 논란에 대해 “선거관리위원회로부터 유권해석을 받은 것”...\n",
      "22385    일회용 비닐봉투 금지된 대형마트일회용 비닐봉투 사용이 금지된 1일 서울의 한 대형마...\n",
      "22386    현대모비스는 일산 킨텍스에서 열린 ‘2019 서울모터쇼’를 통해 연말까지 글로벌 최...\n",
      "22387    문재인 대통령이 31일 조동호 과학기술정보통신부 장관 후보자에 대한 지명을 철회했다...\n",
      "Name: text, Length: 22388, dtype: object\n"
     ]
    }
   ],
   "source": [
    "import pandas as pd\n",
    "import sys\n",
    "\n",
    "#csv에서 news content를 txt로 변환\n",
    "\n",
    "csv=pd.read_csv('../Data/201903.csv',encoding='utf-8-sig')\n",
    "\n",
    "text=csv['text']\n",
    "print(text)\n",
    "\n",
    "with open('News_Contents.txt','w',encoding='utf-8-sig') as file:\n",
    "    for item in text:\n",
    "        file.write(\"%s\\n\" % item)\n"
   ]
  },
  {
   "cell_type": "code",
   "execution_count": 2,
   "metadata": {},
   "outputs": [],
   "source": [
    "import pandas as pd\n",
    "\n",
    "df = pd.read_csv('../Data/201903.csv', encoding='utf-8-sig')"
   ]
  },
  {
   "cell_type": "code",
   "execution_count": 3,
   "metadata": {},
   "outputs": [],
   "source": [
    "from kiwipiepy import Kiwi\n",
    "import pandas as pd\n",
    "import math\n",
    "\n",
    "kiwi = Kiwi()\n",
    "kiwi.load_user_dictionary('new_wordlist2.txt')\n",
    "kiwi.prepare()\n",
    "\n",
    "stopword = []\n",
    "def rm_stopword(stopword_file): \n",
    "    files = open(stopword_file, 'r', encoding=\"utf-8-sig\")\n",
    "    while True: #불용어 리스트 생성\n",
    "        line = files.readline()\n",
    "        if not line: break\n",
    "        wordlist = line.split('\\t')\n",
    "        if wordlist[1].startswith('N'):\n",
    "            stopword.append(wordlist[0])\n",
    "    stopwords = set(stopword)\n",
    "    files.close()\n",
    "    return stopword\n",
    "\n",
    "def npmi(a, b, n, z):\n",
    "    return (math.log((n*z)/(a*b))) / (math.log(n/z))\n",
    "\n",
    "# def npmi3(a, b, c, n, z):\n",
    "#     a = math.log((n*n*z)/(a*b*c))\n",
    "#     b = 2*math.log(n/z)\n",
    "#     return a / b"
   ]
  },
  {
   "cell_type": "code",
   "execution_count": 4,
   "metadata": {},
   "outputs": [],
   "source": [
    "import tomotopy as tp\n",
    "\n",
    "def extract_topic(doc):\n",
    "    model = tp.LDAModel(k=1, min_cf=2, min_df=1, tw=tp.TermWeight.PMI)\n",
    "    for line in doc:\n",
    "        if(len(line) == 0):\n",
    "            continue\n",
    "        model.add_doc(line) #추출하고 모델안의 문헌을 넣는다. 즉, 학습과정에 쓰일 문헌을 생성\n",
    "    model.train(0) #학습 초기화\n",
    "    for j in range(0,100):\n",
    "        model.train(10) #문헌 학습, 안에 숫자는 깁스 샘플링의 반복횟수\n",
    "\t\t#이때 기본값으로 시스템내 가용한 모든 스레드의 개수사용, 그리고 병렬화 방법을 찾아서 실행시켜준다\n",
    "    s = []\n",
    "    for k in range(model.k): #k는 토픽의 개수\n",
    "        res = model.get_topic_words(k, top_n=10) #하위 토픽 i에 해당하는 top_n개의 단어 반환\n",
    "#         print(k,res)\n",
    "        for w, p in res:\n",
    "            s.append(w)\n",
    "\n",
    "        # s = ', '.join(w for w, p in res)\n",
    "    # print(s)\n",
    "    return ', '.join(s)"
   ]
  },
  {
   "cell_type": "code",
   "execution_count": 5,
   "metadata": {},
   "outputs": [
    {
     "name": "stdout",
     "output_type": "stream",
     "text": [
      "1000\n",
      "2000\n",
      "3000\n",
      "4000\n",
      "5000\n",
      "6000\n",
      "7000\n",
      "8000\n",
      "9000\n",
      "10000\n",
      "11000\n",
      "12000\n",
      "13000\n",
      "14000\n",
      "15000\n",
      "16000\n",
      "17000\n",
      "18000\n",
      "19000\n",
      "20000\n",
      "21000\n",
      "22000\n"
     ]
    }
   ],
   "source": [
    "from kss import split_sentences\n",
    "from collections import Counter\n",
    "import pprint as pp\n",
    "import re\n",
    "\n",
    "rm_stopword('한국어불용어100.txt')\n",
    "docs = []\n",
    "merge_token = []\n",
    "bi_gram = {}\n",
    "LDA_Topics = []\n",
    "i = 0\n",
    "for news in open('News_Contents.txt', encoding='utf-8'):\n",
    "    doc = []\n",
    "    context = []\n",
    "    com = []\n",
    "    lines = split_sentences(news)\n",
    "\n",
    "    #형태소 분석\n",
    "    for res in kiwi.analyze(lines):\n",
    "        content = [word.strip() for word, tag, _, _ in res[0][0] if tag.startswith('N') and word not in stopword] #불용어사전 적용\n",
    "#         context += content\n",
    "        doc.append(content)\n",
    "    LDA_Topics.append(extract_topic(doc))\n",
    "#     #2 token npmi\n",
    "#     for line in doc:\n",
    "#         com += list(zip(line, line[1:]))\n",
    "#     nmi = {}\n",
    "#     n = len(context)\n",
    "#     cnt = Counter(context)\n",
    "#     z = Counter(com)\n",
    "#     for pair in com:\n",
    "#         pmi = npmi(cnt[pair[0]], cnt[pair[1]], n, z[pair])\n",
    "#         if -1 < pmi < 1:\n",
    "#             nmi[pair] = pmi\n",
    "#     result = sorted(nmi.items(), key = lambda item : item[1], reverse=True)\n",
    "#     tmp = [key[0]+\" \"+key[1] for key, item in result if item > 0.89]\n",
    "\n",
    "    #2 token N_GRAM 연결\n",
    "    # tmp = []\n",
    "    # for line in doc:\n",
    "    #     tmp += list(zip(line, line[1:]))\n",
    "#     for word in tmp:\n",
    "#         if word in bi_gram:\n",
    "#             bi_gram[word] += 1\n",
    "#         else:\n",
    "#             bi_gram[word] = 1\n",
    "    \n",
    "    # bi_gram = sorted(bi_gram.items(), key = lambda item : item[1], reverse=True)\n",
    "    # merge_token = {key for key, item in bi_gram if item > 2}\n",
    "    # print(merge_token)\n",
    "\n",
    "    \n",
    "    # 토큰을 합치는 내용\n",
    "    # for token in merge_token:\n",
    "    #     for content in doc:\n",
    "    #         for i in range(len(content)-1):\n",
    "    #             cmp_str = '_'.join(content[i:i+2])\n",
    "    #             if cmp_str == token:\n",
    "    #                 content.pop(i)\n",
    "    #                 content.pop(i)\n",
    "    #                 content.insert(i, token)\n",
    "    docs.append(doc)\n",
    "    # print(len(docs),\"===================================\")\n",
    "    if len(docs) % 1000 == 0:\n",
    "        print(len(docs))\n",
    "\n",
    "# bi_gram = sorted(bi_gram.items(), key = lambda item : item[1], reverse=True)\n",
    "\n",
    "# with open('pmi_token.txt','w',encoding='utf-8-sig') as file:\n",
    "#     for key, value in bi_gram:\n",
    "#         file.write(\"%s\" % (key+' , '+str(value)+\"\\n\"))\n",
    "#         if value < 20:\n",
    "#             break\n",
    "\n",
    "\n",
    "df['N_list'] = docs\n",
    "df['topics'] = LDA_Topics\n",
    "df.to_csv('../Data/2019/201903_LDA.csv', encoding='utf-8-sig', index = False)"
   ]
  },
  {
   "cell_type": "code",
   "execution_count": 163,
   "metadata": {},
   "outputs": [
    {
     "name": "stdout",
     "output_type": "stream",
     "text": [
      "[['문희상', '국회', '의장', '새해', '대한민국 임시정부', '임시', '정원', '해', '역경', '시련', '질곡', '영광', '매듭', '역사', '시작', '기념비', '한 해'], ['문 의장', '신년사', '대한민국', '기적', '변화', '세계', '주목', '북한 비핵화', '한반도 평화', '프로세스', '실현', '중대', '기로'], ['문 의장', '차 산업', '혁명', '거대한', '물결', '민생', '경제', '성패', '가늠', '수십', '퇴보', '절체절명'], ['문 의장', '대', '국회', '개헌', '선거', '제도', '정치', '개혁', '실천', '여부', '판가름', '마지막', '해', '선거', '제도', '개혁', '강조'], ['문 의장', '국민', '통합', '한반도', '평화', '협치', '신뢰', '세계', '미래', '도약', '대한민국', '원년', '대한민국', '국회', '혼신', '힘', '다짐'], ['다음', '신년사', '전문', '김태규', '기자']]\n"
     ]
    }
   ],
   "source": [
    "i = 0\n",
    "s_list = []\n",
    "\n",
    "for doc in docs:\n",
    "    if(i%100 == 99):\n",
    "        break\n",
    "    print(doc)\n",
    "    break"
   ]
  },
  {
   "cell_type": "code",
   "execution_count": null,
   "metadata": {},
   "outputs": [],
   "source": []
  }
 ],
 "metadata": {
  "kernelspec": {
   "display_name": "Python 3",
   "language": "python",
   "name": "python3"
  },
  "language_info": {
   "codemirror_mode": {
    "name": "ipython",
    "version": 3
   },
   "file_extension": ".py",
   "mimetype": "text/x-python",
   "name": "python",
   "nbconvert_exporter": "python",
   "pygments_lexer": "ipython3",
   "version": "3.8.5"
  },
  "metadata": {
   "interpreter": {
    "hash": "2db524e06e9f5f4ffedc911c917cb75e12dbc923643829bf417064a77eb14d37"
   }
  }
 },
 "nbformat": 4,
 "nbformat_minor": 2
}

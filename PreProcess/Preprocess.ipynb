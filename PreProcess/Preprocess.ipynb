{
 "cells": [
  {
   "cell_type": "code",
   "execution_count": 2,
   "metadata": {},
   "outputs": [
    {
     "output_type": "stream",
     "name": "stdout",
     "text": [
      "0         문희상 국회의장이 2019년 새해를 “대한민국 임시정부 100년, 임시의정원 100...\n1         경남 한국승강기안전공단이 지역과 상생하며 동반성장하는 다양한 활동에 나서고 있다. ...\n2         문재인 대통령은 1일 “이 겨울, 더 따뜻하게 세상을 밝히라는 촛불의 마음 결코 잊...\n3         올해 7월까지 ‘웻(Wet)에이징’ 숙성 한우 등심 33% 할인된 가격으로 동결바이...\n4         지난해 8월 16일 국회 내에 신설된 익명 단체인 ‘국회 페미’가 최근 언론 인터뷰...\n                                ...                        \n128646    By Robert R. Monroe (former director of the De...\n128647    일본이 강제징용 판결에 대해 경제보복 카드를 꺼내든다고 한다. 일본 정부가 TV·스...\n128648    국회가 지난 28일 자유한국당을 포함한 여야 5당이 모두 참석한 가운데 본회의를 열...\n128649    분단·냉전 상징서 역사적 만남 / 트럼프 “북·미 실무협상 할 것” / 北 비핵화 ...\n128650    조국 청와대 민정수석이 30일 남북미 세 정상의 판문점 회동에 대해 \"세 지도자의 ...\nName: text, Length: 128651, dtype: object\n"
     ]
    }
   ],
   "source": [
    "import pandas as pd\n",
    "import sys\n",
    "\n",
    "#csv에서 news content를 txt로 변환\n",
    "\n",
    "df=pd.read_csv('../Data/2019/2019.csv',encoding='utf-8-sig')\n",
    "\n",
    "text=df['text']\n",
    "print(text)\n",
    "\n",
    "with open('News_Contents.txt','w',encoding='utf-8-sig') as file:\n",
    "    for item in text:\n",
    "        file.write(\"%s\\n\" % item)\n"
   ]
  },
  {
   "cell_type": "code",
   "execution_count": 34,
   "metadata": {},
   "outputs": [
    {
     "output_type": "stream",
     "name": "stdout",
     "text": [
      "['사람', '등', '여자', '데', '들', '개', '있', '집', '앞', '만', '것', '우리', '보', '다음', '않', '시키', '억', '생각', '월', '내', '개월', '후', '없', '초', '이번', '때', '점', '전', '사실', '사회', '무엇', '같', '년', '아니', '일', '지금', '주', '자신', '정도', '문제', '그것', '번', '시', '경우', '당시', '분', '때문', '하나', '시간', '이후', '이날', '되', '오전', '속', '수', '그', '씨', '명', '소리', '오후', '우선', '중', '말']\n"
     ]
    }
   ],
   "source": [
    "from kiwipiepy import Kiwi\n",
    "import pandas as pd\n",
    "import math\n",
    "\n",
    "kiwi = Kiwi()\n",
    "kiwi.load_user_dictionary('sorted_wordlist_end.txt')\n",
    "kiwi.prepare()\n",
    "\n",
    "def rm_stopword(stopword_file): \n",
    "    stopwords = []\n",
    "    files = open(stopword_file, 'r', encoding=\"utf-8-sig\")\n",
    "    for line in files.readlines():\n",
    "        arr = line.split('\\t')\n",
    "        stopwords.append(arr[0])\n",
    "    files.close()\n",
    "    return list(set(stopwords))\n",
    "\n",
    "stopword_list = rm_stopword('한국어불용어100.txt')\n",
    "print(stopword_list)"
   ]
  },
  {
   "cell_type": "code",
   "execution_count": 35,
   "metadata": {},
   "outputs": [
    {
     "output_type": "stream",
     "name": "stdout",
     "text": [
      "[[['문희상', '국회', '의장', '새해', '대한민국 임시정부', '임시', '정원', '해', '역경', '시련', '질곡', '영광', '매듭', '역사', '시작', '기념비', '해'], ['문', '의장', '신년사', '대한민국', '기적', '변화', '세계', '주목', '북한 비핵화', '한반도', '평화', '프로세스', '실현', '중대', '기로'], ['문', '의장', '차', '산업', '혁명', '거대', '물결', '민생', '경제', '성패', '가늠', '수십', '퇴보', '절체절명'], ['문', '의장', '대', '국회', '개헌', '선거', '제도', '정치', '개혁', '실천', '여부', '판가름', '마지막', '해', '선거', '제도', '개혁', '강조'], ['문', '의장', '국민', '통합', '한반도', '평화', '협치', '신뢰', '세계', '미래', '도약', '대한민국', '원년', '대한민국', '국회', '혼신', '힘', '다짐'], ['신년사', '전문', '김태규', '기자']]]\n"
     ]
    }
   ],
   "source": [
    "from kss import split_sentences\n",
    "from collections import Counter\n",
    "import pprint as pp\n",
    "import re\n",
    "\n",
    "docs = []\n",
    "corpus = []\n",
    "for news in open('News_Contents.txt', encoding='utf-8'):\n",
    "    doc = []\n",
    "    context=[]\n",
    "    lines = split_sentences(news)\n",
    "\n",
    "    #형태소 분석\n",
    "    for res in kiwi.analyze(lines):\n",
    "        content = [word.strip() for word, tag, _, _ in res[0][0] if tag.startswith('N') and word not in stopword_list] #불용어사전 적용\n",
    "        doc.append(content)\n",
    "    docs.append(doc)\n",
    "    if len(docs) % 10000 == 0:\n",
    "        print(i)\n",
    "df['N_list'] = docs\n",
    "df.to_csv('../Data/2019/2019_pre.csv', encoding='utf-8-sig', index = False)"
   ]
  }
 ],
 "metadata": {
  "kernelspec": {
   "name": "python3",
   "display_name": "Python 3.8.5 64-bit ('base': conda)"
  },
  "language_info": {
   "codemirror_mode": {
    "name": "ipython",
    "version": 3
   },
   "file_extension": ".py",
   "mimetype": "text/x-python",
   "name": "python",
   "nbconvert_exporter": "python",
   "pygments_lexer": "ipython3",
   "version": "3.8.5"
  },
  "metadata": {
   "interpreter": {
    "hash": "2db524e06e9f5f4ffedc911c917cb75e12dbc923643829bf417064a77eb14d37"
   }
  },
  "interpreter": {
   "hash": "b3ba2566441a7c06988d0923437866b63cedc61552a5af99d1f4fb67d367b25f"
  }
 },
 "nbformat": 4,
 "nbformat_minor": 2
}
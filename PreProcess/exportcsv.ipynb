{
 "metadata": {
  "language_info": {
   "codemirror_mode": {
    "name": "ipython",
    "version": 3
   },
   "file_extension": ".py",
   "mimetype": "text/x-python",
   "name": "python",
   "nbconvert_exporter": "python",
   "pygments_lexer": "ipython3",
   "version": "3.8.5-final"
  },
  "orig_nbformat": 2,
  "kernelspec": {
   "name": "Python 3.8.5 64-bit",
   "display_name": "Python 3.8.5 64-bit",
   "metadata": {
    "interpreter": {
     "hash": "00c48d4780e7fa7f4b695bd71b2ac9722a525fe5d5880a11d633cd1f8478baa2"
    }
   }
  }
 },
 "nbformat": 4,
 "nbformat_minor": 2,
 "cells": [
  {
   "cell_type": "code",
   "execution_count": 5,
   "metadata": {},
   "outputs": [
    {
     "output_type": "stream",
     "name": "stdout",
     "text": [
      "0        [신년 인터뷰] ‘사회적 불평등’ 연구 대가 로버트 라이시 美 캘리포니아대학 교수 ...\n1        사진=게티이미지6·25전쟁이 발발한 지 70년이 되는 새해에는 여섯 살 때 마지막으...\n2        황교안(앞줄 왼쪽 네 번째) 자유한국당 대표가 31일 국회에서 인재영입위원들에게 임...\n3        2019년 소비자물가 상승률이 전년 대비 0.4%로 1965년 통계 집계 이래 역대...\n4        민주, 16~18세이하 청소년 위원 모집…정의, 대규모 입당식 등 만 18세 챙기기...\n                               ...                        \n27943    중국 후베이성 우한과 인근에서 철수하는 한국인 367명을 실은 정부 전세기가 31일...\n27944    리스티안 린트마이어 WHO 대변인은 31일(현지시간) 유엔 제네바 사무소에서 기자들...\n27945    “세상이 밤처럼 캄캄해지고 그들이 서로 부딪치는 소리가 천지를 진동했다. 남정네들은...\n27946    되살아난 ‘메르스 소비실종’ 악몽 / 중국발 기업쇼크 전면 확산 조짐 / 소비진작·...\n27947    신종 코로나바이러스 감염증(우한 폐렴)으로 봉쇄된 중국 후베이성 우한 등지에서 한국...\nName: text, Length: 27948, dtype: object\n"
     ]
    },
    {
     "output_type": "error",
     "ename": "PermissionError",
     "evalue": "[Errno 13] Permission denied: 'D:/Script/analysis/KoreanNewsChronicle/Data'",
     "traceback": [
      "\u001b[1;31m---------------------------------------------------------------------------\u001b[0m",
      "\u001b[1;31mPermissionError\u001b[0m                           Traceback (most recent call last)",
      "\u001b[1;32m<ipython-input-5-9720e63dd178>\u001b[0m in \u001b[0;36m<module>\u001b[1;34m\u001b[0m\n\u001b[0;32m      8\u001b[0m \u001b[0mprint\u001b[0m\u001b[1;33m(\u001b[0m\u001b[0mtext\u001b[0m\u001b[1;33m)\u001b[0m\u001b[1;33m\u001b[0m\u001b[1;33m\u001b[0m\u001b[0m\n\u001b[0;32m      9\u001b[0m \u001b[1;33m\u001b[0m\u001b[0m\n\u001b[1;32m---> 10\u001b[1;33m \u001b[1;32mwith\u001b[0m \u001b[0mopen\u001b[0m\u001b[1;33m(\u001b[0m\u001b[1;34m'D:/Script/analysis/KoreanNewsChronicle/Data'\u001b[0m\u001b[1;33m,\u001b[0m\u001b[1;34m'w'\u001b[0m\u001b[1;33m,\u001b[0m\u001b[1;33m-\u001b[0m\u001b[1;36m1\u001b[0m\u001b[1;33m,\u001b[0m\u001b[1;34m'utf-8'\u001b[0m\u001b[1;33m)\u001b[0m \u001b[1;32mas\u001b[0m \u001b[0mfile\u001b[0m\u001b[1;33m:\u001b[0m\u001b[1;33m\u001b[0m\u001b[1;33m\u001b[0m\u001b[0m\n\u001b[0m\u001b[0;32m     11\u001b[0m         \u001b[0mfile\u001b[0m\u001b[1;33m.\u001b[0m\u001b[0mwritelines\u001b[0m\u001b[1;33m(\u001b[0m\u001b[0mtext\u001b[0m\u001b[1;33m)\u001b[0m\u001b[1;33m\u001b[0m\u001b[1;33m\u001b[0m\u001b[0m\n\u001b[0;32m     12\u001b[0m \u001b[1;33m\u001b[0m\u001b[0m\n",
      "\u001b[1;31mPermissionError\u001b[0m: [Errno 13] Permission denied: 'D:/Script/analysis/KoreanNewsChronicle/Data'"
     ]
    }
   ],
   "source": [
    "import pandas as pd\n",
    "import sys\n",
    "\n",
    "\n",
    "csv=pd.read_csv('D:/Script/analysis/KoreanNewsChronicle/Data/data.csv',encoding='utf-8')\n",
    "\n",
    "text=csv['text']\n",
    "print(text)\n",
    "\n",
    "with open('D:/Script/analysis/KoreanNewsChronicle/Data/datas.txt','w',encoding='utf-8') as file:\n",
    "    for item in text:\n",
    "        file.write(\"%s\\n\" % item)\n",
    "\n"
   ]
  },
  {
   "cell_type": "code",
   "execution_count": null,
   "metadata": {},
   "outputs": [],
   "source": []
  }
 ]
}
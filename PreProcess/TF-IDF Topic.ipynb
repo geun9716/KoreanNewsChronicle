{
 "cells": [
  {
   "cell_type": "code",
   "execution_count": 52,
   "metadata": {},
   "outputs": [],
   "source": [
    "import pandas as pd\n",
    "df = pd.read_csv(\"../Data/2019/201901_LDA.csv\")\n",
    "df = df.append(pd.read_csv(\"../Data/2019/201902_LDA.csv\"), ignore_index = True)\n",
    "df = df.append(pd.read_csv(\"../Data/2019/201903_LDA.csv\"), ignore_index = True)\n",
    "df = df.append(pd.read_csv(\"../Data/2019/201904_LDA.csv\"), ignore_index = True)\n",
    "df = df.append(pd.read_csv(\"../Data/2019/201905_LDA.csv\"), ignore_index = True)\n",
    "df = df.append(pd.read_csv(\"../Data/2019/201906_LDA.csv\"), ignore_index = True)\n"
   ]
  },
  {
   "cell_type": "code",
   "execution_count": 53,
   "metadata": {},
   "outputs": [],
   "source": [
    "df = df.drop('topics', axis = 1)\n",
    "df = df.dropna()"
   ]
  },
  {
   "cell_type": "code",
   "execution_count": 3,
   "metadata": {},
   "outputs": [],
   "source": [
    "N_list = df['N_list']\n",
    "# N_list = N_list.head(100)"
   ]
  },
  {
   "cell_type": "code",
   "execution_count": 4,
   "metadata": {},
   "outputs": [],
   "source": [
    "corpus = []\n",
    "for Nouns in N_list:\n",
    "    Nouns = Nouns.replace(\"[\", \"\").replace(\"]\", \"\").replace(\"'\", \"\")\n",
    "    corpus.append(\" \".join(Nouns.split(', ')))"
   ]
  },
  {
   "cell_type": "code",
   "execution_count": 6,
   "metadata": {},
   "outputs": [
    {
     "name": "stdout",
     "output_type": "stream",
     "text": [
      "0\n",
      "10000\n",
      "20000\n",
      "30000\n",
      "40000\n",
      "50000\n",
      "60000\n",
      "70000\n",
      "80000\n",
      "90000\n",
      "100000\n",
      "110000\n",
      "120000\n"
     ]
    }
   ],
   "source": [
    "from sklearn.feature_extraction.text import TfidfVectorizer\n",
    "from collections import defaultdict\n",
    "\n",
    "vectorizer = TfidfVectorizer()\n",
    "sp_matrix = vectorizer.fit_transform(corpus)\n",
    "\n",
    "word2id = defaultdict(lambda : 0)\n",
    "for idx, feature in enumerate(vectorizer.get_feature_names()):\n",
    "    word2id[feature] = idx\n",
    "\n",
    "mylist = []\n",
    "for i, sent in enumerate(corpus):\n",
    "#     print('====== document[%d] ======' % i)\n",
    "    mylist.append([(token, sp_matrix[i, word2id[token]]) for token in sent.split()])\n",
    "#     print( [ (token, sp_matrix[i, word2id[token]]) for token in sent.split() ] )\n",
    "    if i % 10000 == 0:\n",
    "        print(i)"
   ]
  },
  {
   "cell_type": "code",
   "execution_count": 15,
   "metadata": {},
   "outputs": [],
   "source": [
    "docs = []\n",
    "for m in mylist:\n",
    "    words = []\n",
    "    values = []\n",
    "    for noun in m:\n",
    "        words.append(noun[0])\n",
    "        values.append(noun[1])\n",
    "    doc = pd.DataFrame({\"word\":words, \"value\":values})\n",
    "    doc = doc.drop_duplicates(['word'])\n",
    "    doc = doc.sort_values(by = 'value', ascending = False)\n",
    "    docs.append(doc)"
   ]
  },
  {
   "cell_type": "code",
   "execution_count": 50,
   "metadata": {},
   "outputs": [],
   "source": [
    "topics = []\n",
    "for doc in docs:\n",
    "    df2 = pd.DataFrame(doc)\n",
    "    topic = []\n",
    "    for i in range(len(df2)):\n",
    "        topic.append(df2.iloc[i]['word'])\n",
    "        if(i == 9):\n",
    "            break\n",
    "    topics.append(', '.join(topic))"
   ]
  },
  {
   "cell_type": "code",
   "execution_count": 54,
   "metadata": {},
   "outputs": [],
   "source": [
    "df['topics'] = topics"
   ]
  },
  {
   "cell_type": "code",
   "execution_count": 57,
   "metadata": {},
   "outputs": [],
   "source": [
    "df.to_csv(\"../Data/2019/2019_TFIDF.csv\", encoding = 'utf-8-sig')"
   ]
  },
  {
   "cell_type": "code",
   "execution_count": null,
   "metadata": {},
   "outputs": [],
   "source": []
  }
 ],
 "metadata": {
  "kernelspec": {
   "display_name": "Python 3",
   "language": "python",
   "name": "python3"
  },
  "language_info": {
   "codemirror_mode": {
    "name": "ipython",
    "version": 3
   },
   "file_extension": ".py",
   "mimetype": "text/x-python",
   "name": "python",
   "nbconvert_exporter": "python",
   "pygments_lexer": "ipython3",
   "version": "3.8.5"
  }
 },
 "nbformat": 4,
 "nbformat_minor": 4
}

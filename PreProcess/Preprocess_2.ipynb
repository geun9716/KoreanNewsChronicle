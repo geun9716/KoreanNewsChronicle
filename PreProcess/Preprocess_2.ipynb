{
 "metadata": {
  "language_info": {
   "codemirror_mode": {
    "name": "ipython",
    "version": 3
   },
   "file_extension": ".py",
   "mimetype": "text/x-python",
   "name": "python",
   "nbconvert_exporter": "python",
   "pygments_lexer": "ipython3",
   "version": "3.8.5"
  },
  "orig_nbformat": 2,
  "kernelspec": {
   "name": "python385jvsc74a57bd02db524e06e9f5f4ffedc911c917cb75e12dbc923643829bf417064a77eb14d37",
   "display_name": "Python 3.8.5 64-bit"
  },
  "metadata": {
   "interpreter": {
    "hash": "2db524e06e9f5f4ffedc911c917cb75e12dbc923643829bf417064a77eb14d37"
   }
  }
 },
 "nbformat": 4,
 "nbformat_minor": 2,
 "cells": [
  {
   "cell_type": "code",
   "execution_count": 120,
   "metadata": {
    "tags": []
   },
   "outputs": [],
   "source": [
    "import pandas as pd\n",
    "import re\n",
    "\n",
    "#csv에서 news content를 txt로 변환\n",
    "\n",
    "csv=pd.read_csv('../Data/201905.csv',encoding='utf-8-sig')\n",
    "\n",
    "text=csv['text']\n",
    "\n",
    "with open('News_Contents.txt','w',encoding='utf-8-sig') as file:\n",
    "    for item in text:\n",
    "        test = re.sub(r'\\([^)]*\\)|\\[[^)]*\\]|[/@]', '', item)\n",
    "        file.write(\"%s\\n\" % test)"
   ]
  },
  {
   "cell_type": "code",
   "execution_count": 121,
   "metadata": {},
   "outputs": [
    {
     "output_type": "execute_result",
     "data": {
      "text/plain": [
       "             date press category  \\\n",
       "22832  2019/05/31  서울신문       사회   \n",
       "22833  2019/05/31  세계일보       사회   \n",
       "22834  2019/05/31  동아일보       국제   \n",
       "22835  2019/05/31  중앙일보    사회,지역   \n",
       "22836  2019/05/31  세계일보       국제   \n",
       "\n",
       "                                                headline  \\\n",
       "22832                    ‘집단성폭행’ 최종훈 “구속여부 다시 판단을”…법원 기각   \n",
       "22833  “또 개물림 사고” 목줄 풀린 ‘말라뮤트’가 초등생 물어 “머리 등 2∼3㎝가량 찢어져”   \n",
       "22834             부다페스트 유람선 사고 유발한 크루즈선 소유주는 노르웨이 출신 사업가   \n",
       "22835               올해 대학진학률 76.5%…강남구 46.8%, 가장 낮은 이유는?   \n",
       "22836                            헝가리 외교장관 \"선체인양 온힘 다할 것\"   \n",
       "\n",
       "                                                     url  \\\n",
       "22832  http://www.seoul.co.kr/news/newsView.php?id=20...   \n",
       "22833  http://www.segye.com/content/html/2019/05/31/2...   \n",
       "22834    http://news.donga.com/3/all/20190531/95795499/1   \n",
       "22835      https://news.joins.com/article/olink/23077732   \n",
       "22836  http://www.segye.com/content/html/2019/05/31/2...   \n",
       "\n",
       "                                                    text  \\\n",
       "22832  성폭력처벌법상 특수준강간 등의 혐의를 받고 있는 가수 최종훈이 9일 서울 서초구 서...   \n",
       "22833  경기 수원시 장안구 한 놀이터에서 대형견인 말라뮤트가 놀고 있는 초등생을 무는 사고...   \n",
       "22834  29일(현지 시간)헝가리 부다페스트 다뉴브강에서 한국인 관광객 등 35명을 태운 유...   \n",
       "22835  서울 내에서 강남구 대학진학률이 46.8%로 25개 자치구 중 최저인 것으로 나타났...   \n",
       "22836  강경화 장관과 공동회견\"강 하류 인접 국가들에도 수색협조 요청\"세월호 참사, 자국의...   \n",
       "\n",
       "                                                     img  \n",
       "22832  ['//img.seoul.co.kr/img/upload/2019/05/09/SSI_...  \n",
       "22833  ['//img.segye.com/content/image/2019/05/31/201...  \n",
       "22834  ['https://dimg.donga.com/wps/NEWS/IMAGE/2019/0...  \n",
       "22835  ['https://pds.joins.com/news/component/htmlpho...  \n",
       "22836  ['//img.segye.com/content/image/2019/05/31/201...  "
      ],
      "text/html": "<div>\n<style scoped>\n    .dataframe tbody tr th:only-of-type {\n        vertical-align: middle;\n    }\n\n    .dataframe tbody tr th {\n        vertical-align: top;\n    }\n\n    .dataframe thead th {\n        text-align: right;\n    }\n</style>\n<table border=\"1\" class=\"dataframe\">\n  <thead>\n    <tr style=\"text-align: right;\">\n      <th></th>\n      <th>date</th>\n      <th>press</th>\n      <th>category</th>\n      <th>headline</th>\n      <th>url</th>\n      <th>text</th>\n      <th>img</th>\n    </tr>\n  </thead>\n  <tbody>\n    <tr>\n      <th>22832</th>\n      <td>2019/05/31</td>\n      <td>서울신문</td>\n      <td>사회</td>\n      <td>‘집단성폭행’ 최종훈 “구속여부 다시 판단을”…법원 기각</td>\n      <td>http://www.seoul.co.kr/news/newsView.php?id=20...</td>\n      <td>성폭력처벌법상 특수준강간 등의 혐의를 받고 있는 가수 최종훈이 9일 서울 서초구 서...</td>\n      <td>['//img.seoul.co.kr/img/upload/2019/05/09/SSI_...</td>\n    </tr>\n    <tr>\n      <th>22833</th>\n      <td>2019/05/31</td>\n      <td>세계일보</td>\n      <td>사회</td>\n      <td>“또 개물림 사고” 목줄 풀린 ‘말라뮤트’가 초등생 물어 “머리 등 2∼3㎝가량 찢어져”</td>\n      <td>http://www.segye.com/content/html/2019/05/31/2...</td>\n      <td>경기 수원시 장안구 한 놀이터에서 대형견인 말라뮤트가 놀고 있는 초등생을 무는 사고...</td>\n      <td>['//img.segye.com/content/image/2019/05/31/201...</td>\n    </tr>\n    <tr>\n      <th>22834</th>\n      <td>2019/05/31</td>\n      <td>동아일보</td>\n      <td>국제</td>\n      <td>부다페스트 유람선 사고 유발한 크루즈선 소유주는 노르웨이 출신 사업가</td>\n      <td>http://news.donga.com/3/all/20190531/95795499/1</td>\n      <td>29일(현지 시간)헝가리 부다페스트 다뉴브강에서 한국인 관광객 등 35명을 태운 유...</td>\n      <td>['https://dimg.donga.com/wps/NEWS/IMAGE/2019/0...</td>\n    </tr>\n    <tr>\n      <th>22835</th>\n      <td>2019/05/31</td>\n      <td>중앙일보</td>\n      <td>사회,지역</td>\n      <td>올해 대학진학률 76.5%…강남구 46.8%, 가장 낮은 이유는?</td>\n      <td>https://news.joins.com/article/olink/23077732</td>\n      <td>서울 내에서 강남구 대학진학률이 46.8%로 25개 자치구 중 최저인 것으로 나타났...</td>\n      <td>['https://pds.joins.com/news/component/htmlpho...</td>\n    </tr>\n    <tr>\n      <th>22836</th>\n      <td>2019/05/31</td>\n      <td>세계일보</td>\n      <td>국제</td>\n      <td>헝가리 외교장관 \"선체인양 온힘 다할 것\"</td>\n      <td>http://www.segye.com/content/html/2019/05/31/2...</td>\n      <td>강경화 장관과 공동회견\"강 하류 인접 국가들에도 수색협조 요청\"세월호 참사, 자국의...</td>\n      <td>['//img.segye.com/content/image/2019/05/31/201...</td>\n    </tr>\n  </tbody>\n</table>\n</div>"
     },
     "metadata": {},
     "execution_count": 121
    }
   ],
   "source": [
    "import pandas as pd\n",
    "\n",
    "df = pd.read_csv('../Data/201905.csv', encoding='utf-8-sig')\n",
    "df.tail()"
   ]
  },
  {
   "cell_type": "code",
   "execution_count": 122,
   "metadata": {},
   "outputs": [],
   "source": [
    "from kiwipiepy import Kiwi\n",
    "import pandas as pd\n",
    "import numpy as np\n",
    "import math\n",
    "import tomotopy as tp\n",
    "\n",
    "kiwi = Kiwi()\n",
    "kiwi.load_user_dictionary('sorted_wordlist_end.txt')\n",
    "kiwi.prepare()\n",
    "\n",
    "stopword = []\n",
    "def rm_stopword(stopword_file): \n",
    "    files = open(stopword_file, 'r', encoding=\"utf-8\")\n",
    "    while True: #불용어 리스트 생성\n",
    "        line = files.readline()\n",
    "        if not line: break\n",
    "        wordlist = line.split('\\t')\n",
    "        if wordlist[1].startswith('N'):\n",
    "            stopword.append(wordlist[0])\n",
    "    stopwords = set(stopword)\n",
    "    files.close()\n",
    "    return stopword\n",
    "\n",
    "def npmi(a, b, n, z):\n",
    "    return (math.log((n*z)/(a*b))) / (math.log(n/z))\n",
    "\n",
    "def extract_topic(doc):\n",
    "    model = tp.LDAModel(k=1, min_cf=2, min_df=1, tw=tp.TermWeight.PMI)\n",
    "    for line in doc:\n",
    "        model.add_doc(line) #추출하고 모델안의 문헌을 넣는다. 즉, 학습과정에 쓰일 문헌을 생성\n",
    "    model.train(0) #학습 초기화\n",
    "    s = []\n",
    "    for j in range(0,100):\n",
    "        model.train(10) #문헌 학습, 안에 숫자는 깁스 샘플링의 반복횟수\n",
    "\t\t#이때 기본값으로 시스템내 가용한 모든 스레드의 개수사용, 그리고 병렬화 방법을 찾아서 실행시켜준다\n",
    "    for k in range(model.k): #k는 토픽의 개수\n",
    "        res = model.get_topic_words(k, top_n=10) #하위 토픽 i에 해당하는 top_n개의 단어 반환\n",
    "        for w, p in res:\n",
    "            s.append(w)\n",
    "        # s = ', '.join(w for w, p in res)\n",
    "    return ', '.join(s)"
   ]
  },
  {
   "cell_type": "code",
   "execution_count": 123,
   "metadata": {},
   "outputs": [
    {
     "output_type": "stream",
     "name": "stdout",
     "text": [
      "1000\n",
      "2000\n",
      "3000\n",
      "4000\n",
      "5000\n",
      "6000\n",
      "7000\n",
      "8000\n",
      "9000\n",
      "10000\n",
      "11000\n",
      "12000\n",
      "13000\n",
      "14000\n",
      "15000\n",
      "16000\n",
      "17000\n",
      "18000\n",
      "19000\n",
      "20000\n",
      "21000\n",
      "22000\n"
     ]
    }
   ],
   "source": [
    "from kss import split_sentences\n",
    "from collections import Counter\n",
    "import pprint as pp\n",
    "import re\n",
    "\n",
    "rm_stopword('한국어불용어100.txt')\n",
    "docs = []\n",
    "topics = []\n",
    "line_topics = []\n",
    "for news in open('News_Contents.txt', encoding='utf-8'):\n",
    "    doc = []\n",
    "    com = []\n",
    "    lines = split_sentences(news)\n",
    "    context = []\n",
    "    #형태소 분석\n",
    "    for res in kiwi.analyze(lines):\n",
    "        content = [word.strip() for word, tag, _, _ in res[0][0] if tag.startswith('N') and word not in stopword] #불용어사전 적용\n",
    "        doc.append(content)\n",
    "    docs.append(doc)\n",
    "    line_topics.append(extract_topic(doc))\n",
    "\n",
    "    if len(docs) % 1000 == 0:\n",
    "        print(len(docs))\n",
    "df['N_list'] = docs\n",
    "df['Topics'] = line_topics\n",
    "df.to_csv('../Topic_Abstract/201905_LDA.csv', encoding='utf-8-sig', index=False)"
   ]
  },
  {
   "cell_type": "code",
   "execution_count": 20,
   "metadata": {},
   "outputs": [],
   "source": []
  },
  {
   "cell_type": "code",
   "execution_count": null,
   "metadata": {},
   "outputs": [],
   "source": []
  }
 ]
}
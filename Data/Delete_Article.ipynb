{
 "metadata": {
  "language_info": {
   "codemirror_mode": {
    "name": "ipython",
    "version": 3
   },
   "file_extension": ".py",
   "mimetype": "text/x-python",
   "name": "python",
   "nbconvert_exporter": "python",
   "pygments_lexer": "ipython3",
   "version": "3.8.5"
  },
  "orig_nbformat": 2,
  "kernelspec": {
   "name": "python385jvsc74a57bd02db524e06e9f5f4ffedc911c917cb75e12dbc923643829bf417064a77eb14d37",
   "display_name": "Python 3.8.5 64-bit"
  },
  "metadata": {
   "interpreter": {
    "hash": "2db524e06e9f5f4ffedc911c917cb75e12dbc923643829bf417064a77eb14d37"
   }
  }
 },
 "nbformat": 4,
 "nbformat_minor": 2,
 "cells": [
  {
   "source": [
    "\\[실시간 수도권 날씨\\]\n",
    "\n",
    "궂긴 소식"
   ],
   "cell_type": "markdown",
   "metadata": {}
  },
  {
   "cell_type": "code",
   "execution_count": 147,
   "metadata": {},
   "outputs": [
    {
     "output_type": "stream",
     "name": "stdout",
     "text": [
      "201901\n",
      "Int64Index([], dtype='int64')\n",
      "201902\n",
      "Int64Index([ 1015,  1060,  1124,  1125,  1202,  1244,  1273,  1315,  1316,\n",
      "             2775,  3975,  3976,  4228,  4229,  9139,  9225,  9456,  9457,\n",
      "             9482,  9683,  9684, 14768, 14769, 14929, 15057, 15058],\n",
      "           dtype='int64')\n",
      "201903\n",
      "Int64Index([ 567,  847,  859,  860,  902, 1033, 1035, 1102, 5173, 6217, 6256,\n",
      "            6338, 6339, 6604, 6638, 6639, 7849, 9010, 9102],\n",
      "           dtype='int64')\n",
      "201904\n",
      "Int64Index([ 5878,  5982,  5996,  5997,  6032,  6230,  6231, 12075, 12105,\n",
      "            12106, 12160, 12201, 12399, 12400, 18096, 18410, 18411, 18747,\n",
      "            18748, 24853, 24876, 24877, 25168, 25169, 25175],\n",
      "           dtype='int64')\n",
      "201905\n",
      "Int64Index([ 1606,  2997,  2998,  3270,  3271,  8739,  8740,  9030,  9031,\n",
      "            10179, 15039, 15040, 15083, 15093, 15332, 15333, 21722, 21723,\n",
      "            22745],\n",
      "           dtype='int64')\n",
      "201906\n",
      "Int64Index([  247,   248,  5473,  5785,  5786,  6094,  6095,  6114, 12098,\n",
      "            12099, 12345, 12346, 13283, 16796, 17597, 18037, 18359, 18360,\n",
      "            18630, 18631, 23405, 24755, 24953, 24954, 25504, 25505],\n",
      "           dtype='int64')\n",
      "201907\n",
      "Int64Index([ 1132,  6417,  6418,  6770,  6771, 13146, 13147, 13487, 13488,\n",
      "            19755, 19791, 19878, 19879, 20058, 20192, 20193, 26634, 26635,\n",
      "            26839, 26923, 26997, 26998],\n",
      "           dtype='int64')\n",
      "201908\n",
      "Int64Index([ 2322,  2388,  2400,  2401,  3216,  3781,  4848,  8104,  8105,\n",
      "             8436,  8437, 12733, 13980, 14034, 14035, 14359, 14360, 19872,\n",
      "            20265, 20266, 20606, 20607, 27248, 27249],\n",
      "           dtype='int64')\n",
      "201909\n",
      "Int64Index([  295,   296,  6883,  6941,  6942,  7290,  7291,  8546, 11787,\n",
      "            11788, 12118, 12119, 16909, 18246, 18247, 18307, 18309, 18647,\n",
      "            18648, 23593, 25206, 25207, 25545, 25546, 25571],\n",
      "           dtype='int64')\n",
      "201910\n",
      "Int64Index([ 4337,  4338,  7753, 10334, 10335, 10672, 10673, 17116, 17117,\n",
      "            17470, 17471, 23259, 24093, 24094, 24405, 24406],\n",
      "           dtype='int64')\n",
      "201911\n",
      "Int64Index([ 1232,  1233,  1589,  1590,  2684,  7682,  7683,  7754,  8027,\n",
      "             8028, 14288, 14387, 14388, 14436, 14742, 14743, 19378, 20811,\n",
      "            20812, 21098, 21099, 21108, 26921, 26922],\n",
      "           dtype='int64')\n",
      "201912\n",
      "Int64Index([  297,   298,  5903,  6222,  6223,  6527,  6528, 12425, 12426,\n",
      "            17694, 18973, 18974, 19272, 19273, 23046, 24493, 24618, 24619,\n",
      "            24952, 24953],\n",
      "           dtype='int64')\n"
     ]
    }
   ],
   "source": [
    "import pandas as pd\n",
    "filename = ''\n",
    "year = str(2019)\n",
    "for i in range(1,13):\n",
    "    if i < 10:\n",
    "        filename = year+'0'+str(i)\n",
    "    else:\n",
    "        filename = year+str(i)\n",
    "    print(filename)\n",
    "    delete_row(filename)"
   ]
  },
  {
   "cell_type": "code",
   "execution_count": 146,
   "metadata": {},
   "outputs": [],
   "source": [
    "def delete_row(filename):\n",
    "    df = pd.read_csv(filename+'.csv', encoding='utf-8')\n",
    "    die_index =  df[df['headline'].str.contains('궂긴 소식')].index\n",
    "    weather_index = df[df['headline'].str.contains('실시간 수도권 날씨|실시간 전국 날씨')].index\n",
    "    index_list = die_index.union(weather_index)\n",
    "    print(index_list)\n",
    "    df = df.drop(index = index_list)\n",
    "    df.to_csv(filename+'.csv', encoding='utf-8-sig', index = False)"
   ]
  },
  {
   "cell_type": "code",
   "execution_count": 133,
   "metadata": {},
   "outputs": [],
   "source": []
  }
 ]
}
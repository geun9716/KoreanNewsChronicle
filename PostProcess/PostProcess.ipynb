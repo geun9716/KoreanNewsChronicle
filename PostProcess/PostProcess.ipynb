{
 "metadata": {
  "language_info": {
   "codemirror_mode": {
    "name": "ipython",
    "version": 3
   },
   "file_extension": ".py",
   "mimetype": "text/x-python",
   "name": "python",
   "nbconvert_exporter": "python",
   "pygments_lexer": "ipython3",
   "version": "3.8.5"
  },
  "orig_nbformat": 2,
  "kernelspec": {
   "name": "python385jvsc74a57bd02db524e06e9f5f4ffedc911c917cb75e12dbc923643829bf417064a77eb14d37",
   "display_name": "Python 3.8.5 64-bit"
  },
  "metadata": {
   "interpreter": {
    "hash": "2db524e06e9f5f4ffedc911c917cb75e12dbc923643829bf417064a77eb14d37"
   }
  }
 },
 "nbformat": 4,
 "nbformat_minor": 2,
 "cells": [
  {
   "cell_type": "code",
   "execution_count": 2,
   "metadata": {},
   "outputs": [],
   "source": [
    "import pandas as pd\n",
    "from collections import Counter\n",
    "import re\n",
    "import math\n",
    "df = pd.read_csv(\"./Data/201901_DBSCAN_CV.csv\", encoding='utf-8-sig')"
   ]
  },
  {
   "cell_type": "code",
   "execution_count": 3,
   "metadata": {},
   "outputs": [
    {
     "output_type": "execute_result",
     "data": {
      "text/plain": [
       "                                                N_list category        date  \\\n",
       "345  [['일본군', '위안부', '피해자', '김복동', '사진', '할머니', '별세...       국제  2019/01/29   \n",
       "346  [['위안부', '피해자', '인권', '운동', '기부', '김복동', '할머니'...    국제,사회  2019/01/28   \n",
       "347  [['일본군', '위안부', '피해자', '김복동', '할머니', '별세'], ['...       국제  2019/01/28   \n",
       "348  [['일본군', '위안부', '피해자', '이모', '할머니', '오전', '반',...       국제  2019/01/29   \n",
       "340  [['일본', '아베', '총리', '진심', '사죄', '일본군', '위안부', ...       국제  2019/01/29   \n",
       "\n",
       "                                     headline  \\\n",
       "345                유엔서 ‘위안부 피해’ 증언 김복동 할머니 별세   \n",
       "346           '위안부 피해자' 김복동 할머니 별세… 생존자 23명으로   \n",
       "347                    ‘위안부 피해’ 김복동 할머니마저 떠났다   \n",
       "348             위안부 피해 할머니 또 별세, 생존자 24명으로 줄어   \n",
       "340  ‘아이 캔 스피크’ 주인공 김복동 할머니 별세…이루지 못한 생전 소원은?   \n",
       "\n",
       "                                                   img press  \\\n",
       "345                                                 []  국민일보   \n",
       "346  ['//img.segye.com/content/image/2019/01/28/201...  세계일보   \n",
       "347  ['http://img.hani.co.kr/imgdb/resize/2019/0128...   한겨레   \n",
       "348  ['https://dimg.donga.com/a/258/230/90/2/wps/NE...  동아일보   \n",
       "340  ['http://image.kmib.co.kr/online_image/2019/01...  국민일보   \n",
       "\n",
       "                                                  text  \\\n",
       "345  일본군 위안부 피해자인 김복동(사진) 할머니가 28일 별세했다. 향년 93세.김 할...   \n",
       "346  위안부 피해자로서 인권운동과 기부에 앞장서 온 김복동 할머니가 28일 별세했다. 향...   \n",
       "347  일본군 ‘위안부’ 피해자 김복동 할머니가 별세했다. 향년 93. 암 투병 중이던 김...   \n",
       "348  일본군 위안부 피해자 이모 할머니가 28일 오전 7시 반경 노환으로 별세했다. 향년...   \n",
       "340  “죽기 전에 일본 아베 총리의 진심 어린 사죄를 받고 싶다”고 했던 일본군 위안부 ...   \n",
       "\n",
       "                                        topics  \\\n",
       "345        위안부, 피해, 김, 별세, 일본군, 피해자, 세, 암, 할머니   \n",
       "346  위안부, 김, 피해, 피해자, 김복동, 기부, 할머니, 일본군, 딸, 별세   \n",
       "347   할머니, 피해, 별세, 위안부, 일본군, 기금, 기억, 학교, 김, 재일   \n",
       "348                피해자, 별세, 일본, 할머니, 세, 뒤, 위안부   \n",
       "340  말씀, 위안부, 피해자, 할머니, 끝, 일본군, 세계, 피해, 기부, 저희   \n",
       "\n",
       "                                                   url  labels  cnt  \n",
       "345  http://news.kmib.co.kr/article/view.asp?arcid=...      29    9  \n",
       "346  http://www.segye.com/content/html/2019/01/28/2...      29    9  \n",
       "347  http://www.hani.co.kr/arti/society/society_gen...      29    9  \n",
       "348    http://news.donga.com/3/all/20190129/93900903/1      29    9  \n",
       "340  http://news.kmib.co.kr/article/view.asp?arcid=...      29    9  "
      ],
      "text/html": "<div>\n<style scoped>\n    .dataframe tbody tr th:only-of-type {\n        vertical-align: middle;\n    }\n\n    .dataframe tbody tr th {\n        vertical-align: top;\n    }\n\n    .dataframe thead th {\n        text-align: right;\n    }\n</style>\n<table border=\"1\" class=\"dataframe\">\n  <thead>\n    <tr style=\"text-align: right;\">\n      <th></th>\n      <th>N_list</th>\n      <th>category</th>\n      <th>date</th>\n      <th>headline</th>\n      <th>img</th>\n      <th>press</th>\n      <th>text</th>\n      <th>topics</th>\n      <th>url</th>\n      <th>labels</th>\n      <th>cnt</th>\n    </tr>\n  </thead>\n  <tbody>\n    <tr>\n      <th>345</th>\n      <td>[['일본군', '위안부', '피해자', '김복동', '사진', '할머니', '별세...</td>\n      <td>국제</td>\n      <td>2019/01/29</td>\n      <td>유엔서 ‘위안부 피해’ 증언 김복동 할머니 별세</td>\n      <td>[]</td>\n      <td>국민일보</td>\n      <td>일본군 위안부 피해자인 김복동(사진) 할머니가 28일 별세했다. 향년 93세.김 할...</td>\n      <td>위안부, 피해, 김, 별세, 일본군, 피해자, 세, 암, 할머니</td>\n      <td>http://news.kmib.co.kr/article/view.asp?arcid=...</td>\n      <td>29</td>\n      <td>9</td>\n    </tr>\n    <tr>\n      <th>346</th>\n      <td>[['위안부', '피해자', '인권', '운동', '기부', '김복동', '할머니'...</td>\n      <td>국제,사회</td>\n      <td>2019/01/28</td>\n      <td>'위안부 피해자' 김복동 할머니 별세… 생존자 23명으로</td>\n      <td>['//img.segye.com/content/image/2019/01/28/201...</td>\n      <td>세계일보</td>\n      <td>위안부 피해자로서 인권운동과 기부에 앞장서 온 김복동 할머니가 28일 별세했다. 향...</td>\n      <td>위안부, 김, 피해, 피해자, 김복동, 기부, 할머니, 일본군, 딸, 별세</td>\n      <td>http://www.segye.com/content/html/2019/01/28/2...</td>\n      <td>29</td>\n      <td>9</td>\n    </tr>\n    <tr>\n      <th>347</th>\n      <td>[['일본군', '위안부', '피해자', '김복동', '할머니', '별세'], ['...</td>\n      <td>국제</td>\n      <td>2019/01/28</td>\n      <td>‘위안부 피해’ 김복동 할머니마저 떠났다</td>\n      <td>['http://img.hani.co.kr/imgdb/resize/2019/0128...</td>\n      <td>한겨레</td>\n      <td>일본군 ‘위안부’ 피해자 김복동 할머니가 별세했다. 향년 93. 암 투병 중이던 김...</td>\n      <td>할머니, 피해, 별세, 위안부, 일본군, 기금, 기억, 학교, 김, 재일</td>\n      <td>http://www.hani.co.kr/arti/society/society_gen...</td>\n      <td>29</td>\n      <td>9</td>\n    </tr>\n    <tr>\n      <th>348</th>\n      <td>[['일본군', '위안부', '피해자', '이모', '할머니', '오전', '반',...</td>\n      <td>국제</td>\n      <td>2019/01/29</td>\n      <td>위안부 피해 할머니 또 별세, 생존자 24명으로 줄어</td>\n      <td>['https://dimg.donga.com/a/258/230/90/2/wps/NE...</td>\n      <td>동아일보</td>\n      <td>일본군 위안부 피해자 이모 할머니가 28일 오전 7시 반경 노환으로 별세했다. 향년...</td>\n      <td>피해자, 별세, 일본, 할머니, 세, 뒤, 위안부</td>\n      <td>http://news.donga.com/3/all/20190129/93900903/1</td>\n      <td>29</td>\n      <td>9</td>\n    </tr>\n    <tr>\n      <th>340</th>\n      <td>[['일본', '아베', '총리', '진심', '사죄', '일본군', '위안부', ...</td>\n      <td>국제</td>\n      <td>2019/01/29</td>\n      <td>‘아이 캔 스피크’ 주인공 김복동 할머니 별세…이루지 못한 생전 소원은?</td>\n      <td>['http://image.kmib.co.kr/online_image/2019/01...</td>\n      <td>국민일보</td>\n      <td>“죽기 전에 일본 아베 총리의 진심 어린 사죄를 받고 싶다”고 했던 일본군 위안부 ...</td>\n      <td>말씀, 위안부, 피해자, 할머니, 끝, 일본군, 세계, 피해, 기부, 저희</td>\n      <td>http://news.kmib.co.kr/article/view.asp?arcid=...</td>\n      <td>29</td>\n      <td>9</td>\n    </tr>\n  </tbody>\n</table>\n</div>"
     },
     "metadata": {},
     "execution_count": 3
    }
   ],
   "source": [
    "df = df.sort_values(by='labels', ascending=True)\n",
    "df.tail()"
   ]
  },
  {
   "cell_type": "code",
   "execution_count": 4,
   "metadata": {},
   "outputs": [],
   "source": [
    "def npmi(a, b, n, z):\n",
    "    x = math.log((n*z)/(a*b))\n",
    "    y = math.log(n/z)\n",
    "    return x / y"
   ]
  },
  {
   "cell_type": "code",
   "execution_count": 5,
   "metadata": {},
   "outputs": [],
   "source": [
    "docs = []\n",
    "for article in df['N_list']:\n",
    "    doc = []\n",
    "    com = []\n",
    "    context = []\n",
    "    merge_token = []\n",
    "    merge_token2 = []\n",
    "\n",
    "    # str -> list\n",
    "    for line in article.split('], ['):\n",
    "        arr = re.sub(\"[\\[,'\\]]\", '', line).split(' ')\n",
    "        doc.append(arr)\n",
    "        context += arr\n",
    "\n",
    "    #2 PMI 적용\n",
    "    for line in doc:\n",
    "        com += list(zip(line, line[1:]))\n",
    "    n = len(context)\n",
    "    cnt = Counter(context)\n",
    "    nmi = {}\n",
    "    z = Counter(com)\n",
    "    for pair in com:\n",
    "        pmi = npmi(cnt[pair[0]], cnt[pair[1]], n, z[pair])\n",
    "        if -1 < pmi < 1:\n",
    "            nmi[pair] = pmi\n",
    "    result = sorted(nmi.items(), key = lambda item : item[1], reverse=True)\n",
    "    merge_token = [key[0]+\" \"+key[1] for key, item in result if item >= 0.91]\n",
    "\n",
    "    # 토큰을 합치는 내용\n",
    "    for token in merge_token:\n",
    "        for content in doc:\n",
    "            for i in range(len(content)-1):\n",
    "                cmp_str = ' '.join(content[i:i+2])\n",
    "                if cmp_str == token:\n",
    "                    del content[i:i+2]\n",
    "                    content.insert(i, token)\n",
    "    docs.append(doc)"
   ]
  },
  {
   "cell_type": "code",
   "execution_count": 6,
   "metadata": {},
   "outputs": [
    {
     "output_type": "execute_result",
     "data": {
      "text/plain": [
       "                                                N_list category        date  \\\n",
       "345  [[일본군, 위안부, 피해자, 김복동, 사진, 할머니, 별세], [향, 세, 김, ...       국제  2019/01/29   \n",
       "346  [[위안부 피해자, 인권, 운동, 기부, 김복동, 할머니, 별세], [향, 세, 정...    국제,사회  2019/01/28   \n",
       "347  [[일본군, 위안부, 피해자, 김복동, 할머니, 별세], [향, 암, 투병, 김, ...       국제  2019/01/28   \n",
       "348  [[일본군, 위안부, 피해자, 이모, 할머니, 오전, 반, 노환, 별세], [향, ...       국제  2019/01/29   \n",
       "340  [[일본, 아베, 총리, 진심, 사죄, 일본군, 위안부, 피해자, 김복동, 할머니,...       국제  2019/01/29   \n",
       "\n",
       "                                     headline  \\\n",
       "345                유엔서 ‘위안부 피해’ 증언 김복동 할머니 별세   \n",
       "346           '위안부 피해자' 김복동 할머니 별세… 생존자 23명으로   \n",
       "347                    ‘위안부 피해’ 김복동 할머니마저 떠났다   \n",
       "348             위안부 피해 할머니 또 별세, 생존자 24명으로 줄어   \n",
       "340  ‘아이 캔 스피크’ 주인공 김복동 할머니 별세…이루지 못한 생전 소원은?   \n",
       "\n",
       "                                                   img press  \\\n",
       "345                                                 []  국민일보   \n",
       "346  ['//img.segye.com/content/image/2019/01/28/201...  세계일보   \n",
       "347  ['http://img.hani.co.kr/imgdb/resize/2019/0128...   한겨레   \n",
       "348  ['https://dimg.donga.com/a/258/230/90/2/wps/NE...  동아일보   \n",
       "340  ['http://image.kmib.co.kr/online_image/2019/01...  국민일보   \n",
       "\n",
       "                                                  text  \\\n",
       "345  일본군 위안부 피해자인 김복동(사진) 할머니가 28일 별세했다. 향년 93세.김 할...   \n",
       "346  위안부 피해자로서 인권운동과 기부에 앞장서 온 김복동 할머니가 28일 별세했다. 향...   \n",
       "347  일본군 ‘위안부’ 피해자 김복동 할머니가 별세했다. 향년 93. 암 투병 중이던 김...   \n",
       "348  일본군 위안부 피해자 이모 할머니가 28일 오전 7시 반경 노환으로 별세했다. 향년...   \n",
       "340  “죽기 전에 일본 아베 총리의 진심 어린 사죄를 받고 싶다”고 했던 일본군 위안부 ...   \n",
       "\n",
       "                                        topics  \\\n",
       "345        위안부, 피해, 김, 별세, 일본군, 피해자, 세, 암, 할머니   \n",
       "346  위안부, 김, 피해, 피해자, 김복동, 기부, 할머니, 일본군, 딸, 별세   \n",
       "347   할머니, 피해, 별세, 위안부, 일본군, 기금, 기억, 학교, 김, 재일   \n",
       "348                피해자, 별세, 일본, 할머니, 세, 뒤, 위안부   \n",
       "340  말씀, 위안부, 피해자, 할머니, 끝, 일본군, 세계, 피해, 기부, 저희   \n",
       "\n",
       "                                                   url  labels  cnt  \n",
       "345  http://news.kmib.co.kr/article/view.asp?arcid=...      29    9  \n",
       "346  http://www.segye.com/content/html/2019/01/28/2...      29    9  \n",
       "347  http://www.hani.co.kr/arti/society/society_gen...      29    9  \n",
       "348    http://news.donga.com/3/all/20190129/93900903/1      29    9  \n",
       "340  http://news.kmib.co.kr/article/view.asp?arcid=...      29    9  "
      ],
      "text/html": "<div>\n<style scoped>\n    .dataframe tbody tr th:only-of-type {\n        vertical-align: middle;\n    }\n\n    .dataframe tbody tr th {\n        vertical-align: top;\n    }\n\n    .dataframe thead th {\n        text-align: right;\n    }\n</style>\n<table border=\"1\" class=\"dataframe\">\n  <thead>\n    <tr style=\"text-align: right;\">\n      <th></th>\n      <th>N_list</th>\n      <th>category</th>\n      <th>date</th>\n      <th>headline</th>\n      <th>img</th>\n      <th>press</th>\n      <th>text</th>\n      <th>topics</th>\n      <th>url</th>\n      <th>labels</th>\n      <th>cnt</th>\n    </tr>\n  </thead>\n  <tbody>\n    <tr>\n      <th>345</th>\n      <td>[[일본군, 위안부, 피해자, 김복동, 사진, 할머니, 별세], [향, 세, 김, ...</td>\n      <td>국제</td>\n      <td>2019/01/29</td>\n      <td>유엔서 ‘위안부 피해’ 증언 김복동 할머니 별세</td>\n      <td>[]</td>\n      <td>국민일보</td>\n      <td>일본군 위안부 피해자인 김복동(사진) 할머니가 28일 별세했다. 향년 93세.김 할...</td>\n      <td>위안부, 피해, 김, 별세, 일본군, 피해자, 세, 암, 할머니</td>\n      <td>http://news.kmib.co.kr/article/view.asp?arcid=...</td>\n      <td>29</td>\n      <td>9</td>\n    </tr>\n    <tr>\n      <th>346</th>\n      <td>[[위안부 피해자, 인권, 운동, 기부, 김복동, 할머니, 별세], [향, 세, 정...</td>\n      <td>국제,사회</td>\n      <td>2019/01/28</td>\n      <td>'위안부 피해자' 김복동 할머니 별세… 생존자 23명으로</td>\n      <td>['//img.segye.com/content/image/2019/01/28/201...</td>\n      <td>세계일보</td>\n      <td>위안부 피해자로서 인권운동과 기부에 앞장서 온 김복동 할머니가 28일 별세했다. 향...</td>\n      <td>위안부, 김, 피해, 피해자, 김복동, 기부, 할머니, 일본군, 딸, 별세</td>\n      <td>http://www.segye.com/content/html/2019/01/28/2...</td>\n      <td>29</td>\n      <td>9</td>\n    </tr>\n    <tr>\n      <th>347</th>\n      <td>[[일본군, 위안부, 피해자, 김복동, 할머니, 별세], [향, 암, 투병, 김, ...</td>\n      <td>국제</td>\n      <td>2019/01/28</td>\n      <td>‘위안부 피해’ 김복동 할머니마저 떠났다</td>\n      <td>['http://img.hani.co.kr/imgdb/resize/2019/0128...</td>\n      <td>한겨레</td>\n      <td>일본군 ‘위안부’ 피해자 김복동 할머니가 별세했다. 향년 93. 암 투병 중이던 김...</td>\n      <td>할머니, 피해, 별세, 위안부, 일본군, 기금, 기억, 학교, 김, 재일</td>\n      <td>http://www.hani.co.kr/arti/society/society_gen...</td>\n      <td>29</td>\n      <td>9</td>\n    </tr>\n    <tr>\n      <th>348</th>\n      <td>[[일본군, 위안부, 피해자, 이모, 할머니, 오전, 반, 노환, 별세], [향, ...</td>\n      <td>국제</td>\n      <td>2019/01/29</td>\n      <td>위안부 피해 할머니 또 별세, 생존자 24명으로 줄어</td>\n      <td>['https://dimg.donga.com/a/258/230/90/2/wps/NE...</td>\n      <td>동아일보</td>\n      <td>일본군 위안부 피해자 이모 할머니가 28일 오전 7시 반경 노환으로 별세했다. 향년...</td>\n      <td>피해자, 별세, 일본, 할머니, 세, 뒤, 위안부</td>\n      <td>http://news.donga.com/3/all/20190129/93900903/1</td>\n      <td>29</td>\n      <td>9</td>\n    </tr>\n    <tr>\n      <th>340</th>\n      <td>[[일본, 아베, 총리, 진심, 사죄, 일본군, 위안부, 피해자, 김복동, 할머니,...</td>\n      <td>국제</td>\n      <td>2019/01/29</td>\n      <td>‘아이 캔 스피크’ 주인공 김복동 할머니 별세…이루지 못한 생전 소원은?</td>\n      <td>['http://image.kmib.co.kr/online_image/2019/01...</td>\n      <td>국민일보</td>\n      <td>“죽기 전에 일본 아베 총리의 진심 어린 사죄를 받고 싶다”고 했던 일본군 위안부 ...</td>\n      <td>말씀, 위안부, 피해자, 할머니, 끝, 일본군, 세계, 피해, 기부, 저희</td>\n      <td>http://news.kmib.co.kr/article/view.asp?arcid=...</td>\n      <td>29</td>\n      <td>9</td>\n    </tr>\n  </tbody>\n</table>\n</div>"
     },
     "metadata": {},
     "execution_count": 6
    }
   ],
   "source": [
    "df['N_list'] = docs\n",
    "df.tail()"
   ]
  },
  {
   "cell_type": "code",
   "execution_count": 1,
   "metadata": {},
   "outputs": [
    {
     "output_type": "error",
     "ename": "NameError",
     "evalue": "name 'df' is not defined",
     "traceback": [
      "\u001b[1;31m---------------------------------------------------------------------------\u001b[0m",
      "\u001b[1;31mNameError\u001b[0m                                 Traceback (most recent call last)",
      "\u001b[1;32m<ipython-input-1-2de91ec6fd32>\u001b[0m in \u001b[0;36m<module>\u001b[1;34m\u001b[0m\n\u001b[0;32m      4\u001b[0m \u001b[1;33m\u001b[0m\u001b[0m\n\u001b[0;32m      5\u001b[0m \u001b[1;33m\u001b[0m\u001b[0m\n\u001b[1;32m----> 6\u001b[1;33m \u001b[1;32mfor\u001b[0m \u001b[0mi\u001b[0m \u001b[1;32min\u001b[0m \u001b[0mrange\u001b[0m\u001b[1;33m(\u001b[0m\u001b[0mdf\u001b[0m\u001b[1;33m[\u001b[0m\u001b[1;34m'labels'\u001b[0m\u001b[1;33m]\u001b[0m\u001b[1;33m.\u001b[0m\u001b[0mmax\u001b[0m\u001b[1;33m(\u001b[0m\u001b[1;33m)\u001b[0m\u001b[1;33m+\u001b[0m\u001b[1;36m1\u001b[0m\u001b[1;33m)\u001b[0m\u001b[1;33m:\u001b[0m\u001b[1;33m\u001b[0m\u001b[1;33m\u001b[0m\u001b[0m\n\u001b[0m\u001b[0;32m      7\u001b[0m     \u001b[0mword_list\u001b[0m \u001b[1;33m=\u001b[0m \u001b[1;33m[\u001b[0m\u001b[1;33m]\u001b[0m\u001b[1;33m\u001b[0m\u001b[1;33m\u001b[0m\u001b[0m\n\u001b[0;32m      8\u001b[0m     \u001b[1;32mfor\u001b[0m \u001b[0marticle\u001b[0m \u001b[1;32min\u001b[0m \u001b[0mdf\u001b[0m\u001b[1;33m[\u001b[0m\u001b[0mdf\u001b[0m\u001b[1;33m[\u001b[0m\u001b[1;34m'labels'\u001b[0m\u001b[1;33m]\u001b[0m \u001b[1;33m==\u001b[0m \u001b[0mi\u001b[0m\u001b[1;33m]\u001b[0m\u001b[1;33m[\u001b[0m\u001b[1;34m'N_list'\u001b[0m\u001b[1;33m]\u001b[0m\u001b[1;33m:\u001b[0m\u001b[1;33m\u001b[0m\u001b[1;33m\u001b[0m\u001b[0m\n",
      "\u001b[1;31mNameError\u001b[0m: name 'df' is not defined"
     ]
    }
   ],
   "source": [
    "import pandas as pd\n",
    "from gensim.models import word2vec\n",
    "from gensim.models import Word2Vec\n",
    "\n",
    "\n",
    "for i in range(df['labels'].max()+1):\n",
    "    word_list = []\n",
    "    for article in df[df['labels'] == i]['N_list']:\n",
    "        doc = []\n",
    "        for line in article:\n",
    "            doc += line\n",
    "            word_list.append(doc)\n",
    "    print(len(word_list))\n",
    "    # to = df['topics']\n",
    "    # to = topics.dropna()\n",
    "    # fopic in topics:\n",
    "    #   rd = topic.split(', ')\n",
    "    #   r w in word:\n",
    "    #     if(len(w) <= 1):\n",
    "    #         word.remove(w)\n",
    "    #   rd_list.append(word)\n",
    "    # # l = Word2Vec.load('C:/Users/ghdtk/Project_test/ko.bin')\n",
    "    # # l.wv.save_word2vec_format('C:/Users/ghdtk/Project_test/ko.bin.gz', binary = False)\n",
    "    my_m = Word2Vec(word_list, window = 100, size = 200, min_count = 1, sg = 1)\n",
    "\n",
    "\n",
    "    # myel.intersect_word2vec_format('C:/Users/ghdtk/Project_test/ko.bin.gz', binary = False)\n",
    "\n",
    "    wordtors = my_model.wv\n",
    "    word_vectors.vocab.keys()\n",
    "    wordtors_list = [word_vectors[v] for v in vocabs]\n",
    "\n",
    "    # prword_vectors.similarity(w1='정부', w2='대통령'))\n",
    "    prinrd_vectors.most_similar(\"김정은\")\n",
    "    break"
   ]
  },
  {
   "cell_type": "code",
   "execution_count": null,
   "metadata": {},
   "outputs": [],
   "source": [
    "    "
   ]
  }
 ]
}
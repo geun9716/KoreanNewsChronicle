{
 "metadata": {
  "language_info": {
   "codemirror_mode": {
    "name": "ipython",
    "version": 3
   },
   "file_extension": ".py",
   "mimetype": "text/x-python",
   "name": "python",
   "nbconvert_exporter": "python",
   "pygments_lexer": "ipython3",
   "version": "3.8.5"
  },
  "orig_nbformat": 2,
  "kernelspec": {
   "name": "python385jvsc74a57bd02db524e06e9f5f4ffedc911c917cb75e12dbc923643829bf417064a77eb14d37",
   "display_name": "Python 3.8.5 64-bit"
  },
  "metadata": {
   "interpreter": {
    "hash": "2db524e06e9f5f4ffedc911c917cb75e12dbc923643829bf417064a77eb14d37"
   }
  }
 },
 "nbformat": 4,
 "nbformat_minor": 2,
 "cells": [
  {
   "cell_type": "code",
   "execution_count": 102,
   "metadata": {},
   "outputs": [],
   "source": [
    "import pandas as pd\n",
    "from collections import Counter\n",
    "import re\n",
    "import math\n",
    "df = pd.read_csv(\"./Data/201901_DBSCAN_CV.csv\", encoding='utf-8-sig')"
   ]
  },
  {
   "cell_type": "code",
   "execution_count": 103,
   "metadata": {},
   "outputs": [
    {
     "output_type": "execute_result",
     "data": {
      "text/plain": [
       "                                                N_list category  ... labels cnt\n",
       "345  [['일본군', '위안부', '피해자', '김복동', '사진', '할머니', '별세...       국제  ...     29   9\n",
       "346  [['위안부', '피해자', '인권', '운동', '기부', '김복동', '할머니'...    국제,사회  ...     29   9\n",
       "347  [['일본군', '위안부', '피해자', '김복동', '할머니', '별세'], ['...       국제  ...     29   9\n",
       "348  [['일본군', '위안부', '피해자', '이모', '할머니', '오전', '반',...       국제  ...     29   9\n",
       "340  [['일본', '아베', '총리', '진심', '사죄', '일본군', '위안부', ...       국제  ...     29   9\n",
       "\n",
       "[5 rows x 11 columns]"
      ],
      "text/html": "<div>\n<style scoped>\n    .dataframe tbody tr th:only-of-type {\n        vertical-align: middle;\n    }\n\n    .dataframe tbody tr th {\n        vertical-align: top;\n    }\n\n    .dataframe thead th {\n        text-align: right;\n    }\n</style>\n<table border=\"1\" class=\"dataframe\">\n  <thead>\n    <tr style=\"text-align: right;\">\n      <th></th>\n      <th>N_list</th>\n      <th>category</th>\n      <th>date</th>\n      <th>headline</th>\n      <th>img</th>\n      <th>press</th>\n      <th>text</th>\n      <th>topics</th>\n      <th>url</th>\n      <th>labels</th>\n      <th>cnt</th>\n    </tr>\n  </thead>\n  <tbody>\n    <tr>\n      <th>345</th>\n      <td>[['일본군', '위안부', '피해자', '김복동', '사진', '할머니', '별세...</td>\n      <td>국제</td>\n      <td>2019/01/29</td>\n      <td>유엔서 ‘위안부 피해’ 증언 김복동 할머니 별세</td>\n      <td>[]</td>\n      <td>국민일보</td>\n      <td>일본군 위안부 피해자인 김복동(사진) 할머니가 28일 별세했다. 향년 93세.김 할...</td>\n      <td>위안부, 피해, 김, 별세, 일본군, 피해자, 세, 암, 할머니</td>\n      <td>http://news.kmib.co.kr/article/view.asp?arcid=...</td>\n      <td>29</td>\n      <td>9</td>\n    </tr>\n    <tr>\n      <th>346</th>\n      <td>[['위안부', '피해자', '인권', '운동', '기부', '김복동', '할머니'...</td>\n      <td>국제,사회</td>\n      <td>2019/01/28</td>\n      <td>'위안부 피해자' 김복동 할머니 별세… 생존자 23명으로</td>\n      <td>['//img.segye.com/content/image/2019/01/28/201...</td>\n      <td>세계일보</td>\n      <td>위안부 피해자로서 인권운동과 기부에 앞장서 온 김복동 할머니가 28일 별세했다. 향...</td>\n      <td>위안부, 김, 피해, 피해자, 김복동, 기부, 할머니, 일본군, 딸, 별세</td>\n      <td>http://www.segye.com/content/html/2019/01/28/2...</td>\n      <td>29</td>\n      <td>9</td>\n    </tr>\n    <tr>\n      <th>347</th>\n      <td>[['일본군', '위안부', '피해자', '김복동', '할머니', '별세'], ['...</td>\n      <td>국제</td>\n      <td>2019/01/28</td>\n      <td>‘위안부 피해’ 김복동 할머니마저 떠났다</td>\n      <td>['http://img.hani.co.kr/imgdb/resize/2019/0128...</td>\n      <td>한겨레</td>\n      <td>일본군 ‘위안부’ 피해자 김복동 할머니가 별세했다. 향년 93. 암 투병 중이던 김...</td>\n      <td>할머니, 피해, 별세, 위안부, 일본군, 기금, 기억, 학교, 김, 재일</td>\n      <td>http://www.hani.co.kr/arti/society/society_gen...</td>\n      <td>29</td>\n      <td>9</td>\n    </tr>\n    <tr>\n      <th>348</th>\n      <td>[['일본군', '위안부', '피해자', '이모', '할머니', '오전', '반',...</td>\n      <td>국제</td>\n      <td>2019/01/29</td>\n      <td>위안부 피해 할머니 또 별세, 생존자 24명으로 줄어</td>\n      <td>['https://dimg.donga.com/a/258/230/90/2/wps/NE...</td>\n      <td>동아일보</td>\n      <td>일본군 위안부 피해자 이모 할머니가 28일 오전 7시 반경 노환으로 별세했다. 향년...</td>\n      <td>피해자, 별세, 일본, 할머니, 세, 뒤, 위안부</td>\n      <td>http://news.donga.com/3/all/20190129/93900903/1</td>\n      <td>29</td>\n      <td>9</td>\n    </tr>\n    <tr>\n      <th>340</th>\n      <td>[['일본', '아베', '총리', '진심', '사죄', '일본군', '위안부', ...</td>\n      <td>국제</td>\n      <td>2019/01/29</td>\n      <td>‘아이 캔 스피크’ 주인공 김복동 할머니 별세…이루지 못한 생전 소원은?</td>\n      <td>['http://image.kmib.co.kr/online_image/2019/01...</td>\n      <td>국민일보</td>\n      <td>“죽기 전에 일본 아베 총리의 진심 어린 사죄를 받고 싶다”고 했던 일본군 위안부 ...</td>\n      <td>말씀, 위안부, 피해자, 할머니, 끝, 일본군, 세계, 피해, 기부, 저희</td>\n      <td>http://news.kmib.co.kr/article/view.asp?arcid=...</td>\n      <td>29</td>\n      <td>9</td>\n    </tr>\n  </tbody>\n</table>\n</div>"
     },
     "metadata": {},
     "execution_count": 103
    }
   ],
   "source": [
    "df = df.sort_values(by='labels', ascending=True)\n",
    "df.tail()"
   ]
  },
  {
   "cell_type": "code",
   "execution_count": 104,
   "metadata": {},
   "outputs": [],
   "source": [
    "def npmi(a, b, n, z):\n",
    "    x = math.log((n*z)/(a*b))\n",
    "    y = math.log(n/z)\n",
    "    return x / y"
   ]
  },
  {
   "cell_type": "code",
   "execution_count": 109,
   "metadata": {},
   "outputs": [],
   "source": [
    "docs = []\n",
    "for article in df['N_list']:\n",
    "    doc = []\n",
    "    com = []\n",
    "    context = []\n",
    "    merge_token = []\n",
    "    merge_token2 = []\n",
    "\n",
    "    # str -> list\n",
    "    for line in article.split('], ['):\n",
    "        arr = re.sub(\"[\\[,'\\]]\", '', line).split(' ')\n",
    "        doc.append(arr)\n",
    "        context += arr\n",
    "\n",
    "    #2 PMI 적용\n",
    "    for line in doc:\n",
    "        com += list(zip(line, line[1:]))\n",
    "    n = len(context)\n",
    "    cnt = Counter(context)\n",
    "    nmi = {}\n",
    "    z = Counter(com)\n",
    "    for pair in com:\n",
    "        pmi = npmi(cnt[pair[0]], cnt[pair[1]], n, z[pair])\n",
    "        if -1 < pmi < 1:\n",
    "            nmi[pair] = pmi\n",
    "    result = sorted(nmi.items(), key = lambda item : item[1], reverse=True)\n",
    "    merge_token = [key[0]+\" \"+key[1] for key, item in result if item >= 0.91]\n",
    "\n",
    "    # 토큰을 합치는 내용\n",
    "    for token in merge_token:\n",
    "        for content in doc:\n",
    "            for i in range(len(content)-1):\n",
    "                cmp_str = ' '.join(content[i:i+2])\n",
    "                if cmp_str == token:\n",
    "                    del content[i:i+2]\n",
    "                    content.insert(i, token)\n",
    "    docs.append(doc)"
   ]
  },
  {
   "cell_type": "code",
   "execution_count": 134,
   "metadata": {},
   "outputs": [
    {
     "output_type": "execute_result",
     "data": {
      "text/plain": [
       "                                                N_list category  ... labels cnt\n",
       "345  [[일본군, 위안부, 피해자, 김복동, 사진, 할머니, 별세], [향, 세, 김, ...       국제  ...     29   9\n",
       "346  [[위안부 피해자, 인권, 운동, 기부, 김복동, 할머니, 별세], [향, 세, 정...    국제,사회  ...     29   9\n",
       "347  [[일본군, 위안부, 피해자, 김복동, 할머니, 별세], [향, 암, 투병, 김, ...       국제  ...     29   9\n",
       "348  [[일본군, 위안부, 피해자, 이모, 할머니, 오전, 반, 노환, 별세], [향, ...       국제  ...     29   9\n",
       "340  [[일본, 아베, 총리, 진심, 사죄, 일본군, 위안부, 피해자, 김복동, 할머니,...       국제  ...     29   9\n",
       "\n",
       "[5 rows x 11 columns]"
      ],
      "text/html": "<div>\n<style scoped>\n    .dataframe tbody tr th:only-of-type {\n        vertical-align: middle;\n    }\n\n    .dataframe tbody tr th {\n        vertical-align: top;\n    }\n\n    .dataframe thead th {\n        text-align: right;\n    }\n</style>\n<table border=\"1\" class=\"dataframe\">\n  <thead>\n    <tr style=\"text-align: right;\">\n      <th></th>\n      <th>N_list</th>\n      <th>category</th>\n      <th>date</th>\n      <th>headline</th>\n      <th>img</th>\n      <th>press</th>\n      <th>text</th>\n      <th>topics</th>\n      <th>url</th>\n      <th>labels</th>\n      <th>cnt</th>\n    </tr>\n  </thead>\n  <tbody>\n    <tr>\n      <th>345</th>\n      <td>[[일본군, 위안부, 피해자, 김복동, 사진, 할머니, 별세], [향, 세, 김, ...</td>\n      <td>국제</td>\n      <td>2019/01/29</td>\n      <td>유엔서 ‘위안부 피해’ 증언 김복동 할머니 별세</td>\n      <td>[]</td>\n      <td>국민일보</td>\n      <td>일본군 위안부 피해자인 김복동(사진) 할머니가 28일 별세했다. 향년 93세.김 할...</td>\n      <td>위안부, 피해, 김, 별세, 일본군, 피해자, 세, 암, 할머니</td>\n      <td>http://news.kmib.co.kr/article/view.asp?arcid=...</td>\n      <td>29</td>\n      <td>9</td>\n    </tr>\n    <tr>\n      <th>346</th>\n      <td>[[위안부 피해자, 인권, 운동, 기부, 김복동, 할머니, 별세], [향, 세, 정...</td>\n      <td>국제,사회</td>\n      <td>2019/01/28</td>\n      <td>'위안부 피해자' 김복동 할머니 별세… 생존자 23명으로</td>\n      <td>['//img.segye.com/content/image/2019/01/28/201...</td>\n      <td>세계일보</td>\n      <td>위안부 피해자로서 인권운동과 기부에 앞장서 온 김복동 할머니가 28일 별세했다. 향...</td>\n      <td>위안부, 김, 피해, 피해자, 김복동, 기부, 할머니, 일본군, 딸, 별세</td>\n      <td>http://www.segye.com/content/html/2019/01/28/2...</td>\n      <td>29</td>\n      <td>9</td>\n    </tr>\n    <tr>\n      <th>347</th>\n      <td>[[일본군, 위안부, 피해자, 김복동, 할머니, 별세], [향, 암, 투병, 김, ...</td>\n      <td>국제</td>\n      <td>2019/01/28</td>\n      <td>‘위안부 피해’ 김복동 할머니마저 떠났다</td>\n      <td>['http://img.hani.co.kr/imgdb/resize/2019/0128...</td>\n      <td>한겨레</td>\n      <td>일본군 ‘위안부’ 피해자 김복동 할머니가 별세했다. 향년 93. 암 투병 중이던 김...</td>\n      <td>할머니, 피해, 별세, 위안부, 일본군, 기금, 기억, 학교, 김, 재일</td>\n      <td>http://www.hani.co.kr/arti/society/society_gen...</td>\n      <td>29</td>\n      <td>9</td>\n    </tr>\n    <tr>\n      <th>348</th>\n      <td>[[일본군, 위안부, 피해자, 이모, 할머니, 오전, 반, 노환, 별세], [향, ...</td>\n      <td>국제</td>\n      <td>2019/01/29</td>\n      <td>위안부 피해 할머니 또 별세, 생존자 24명으로 줄어</td>\n      <td>['https://dimg.donga.com/a/258/230/90/2/wps/NE...</td>\n      <td>동아일보</td>\n      <td>일본군 위안부 피해자 이모 할머니가 28일 오전 7시 반경 노환으로 별세했다. 향년...</td>\n      <td>피해자, 별세, 일본, 할머니, 세, 뒤, 위안부</td>\n      <td>http://news.donga.com/3/all/20190129/93900903/1</td>\n      <td>29</td>\n      <td>9</td>\n    </tr>\n    <tr>\n      <th>340</th>\n      <td>[[일본, 아베, 총리, 진심, 사죄, 일본군, 위안부, 피해자, 김복동, 할머니,...</td>\n      <td>국제</td>\n      <td>2019/01/29</td>\n      <td>‘아이 캔 스피크’ 주인공 김복동 할머니 별세…이루지 못한 생전 소원은?</td>\n      <td>['http://image.kmib.co.kr/online_image/2019/01...</td>\n      <td>국민일보</td>\n      <td>“죽기 전에 일본 아베 총리의 진심 어린 사죄를 받고 싶다”고 했던 일본군 위안부 ...</td>\n      <td>말씀, 위안부, 피해자, 할머니, 끝, 일본군, 세계, 피해, 기부, 저희</td>\n      <td>http://news.kmib.co.kr/article/view.asp?arcid=...</td>\n      <td>29</td>\n      <td>9</td>\n    </tr>\n  </tbody>\n</table>\n</div>"
     },
     "metadata": {},
     "execution_count": 134
    }
   ],
   "source": [
    "df['N_list'] = docs\n",
    "df.tail()"
   ]
  },
  {
   "cell_type": "code",
   "execution_count": 141,
   "metadata": {},
   "outputs": [
    {
     "output_type": "stream",
     "name": "stdout",
     "text": [
      "454\n"
     ]
    }
   ],
   "source": [
    "import pandas as pd\n",
    "from gensim.models import word2vec\n",
    "from gensim.models import Word2Vec\n",
    "\n",
    "word_list = []\n",
    "for i in range(df['labels'].max()+1):\n",
    "    for article in df[df['labels'] == i]['N_list']:\n",
    "        doc = []\n",
    "        for line in article:\n",
    "            doc += line\n",
    "        word_list.append(doc)\n",
    "# topics = df['topics']\n",
    "# topics = topics.dropna()\n",
    "# for topic in topics:\n",
    "#     word = topic.split(', ')\n",
    "#     for w in word:\n",
    "#         if(len(w) <= 1):\n",
    "#             word.remove(w)\n",
    "#     word_list.append(word)\n",
    "# # model = Word2Vec.load('C:/Users/ghdtk/Project_test/ko.bin')\n",
    "# # model.wv.save_word2vec_format('C:/Users/ghdtk/Project_test/ko.bin.gz', binary = False)\n",
    "my_model = Word2Vec(word_list, window = 100, size = 200, min_count = 1, sg = 1)\n",
    "\n",
    "\n",
    "# my_model.intersect_word2vec_format('C:/Users/ghdtk/Project_test/ko.bin.gz', binary = False)\n",
    "\n",
    "word_vectors = my_model.wv\n",
    "vocabs = word_vectors.vocab.keys()\n",
    "word_vectors_list = [word_vectors[v] for v in vocabs]\n",
    "\n",
    "# print(word_vectors.similarity(w1='정부', w2='대통령'))\n",
    "print(word_vectors.most_similar(\"문재인\"))\n"
   ]
  },
  {
   "cell_type": "code",
   "execution_count": null,
   "metadata": {},
   "outputs": [],
   "source": []
  }
 ]
}
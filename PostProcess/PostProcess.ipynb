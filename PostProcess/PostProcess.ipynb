{
 "metadata": {
  "language_info": {
   "codemirror_mode": {
    "name": "ipython",
    "version": 3
   },
   "file_extension": ".py",
   "mimetype": "text/x-python",
   "name": "python",
   "nbconvert_exporter": "python",
   "pygments_lexer": "ipython3",
   "version": "3.8.5"
  },
  "orig_nbformat": 2,
  "kernelspec": {
   "name": "python385jvsc74a57bd000c48d4780e7fa7f4b695bd71b2ac9722a525fe5d5880a11d633cd1f8478baa2",
   "display_name": "Python 3.8.5 64-bit"
  },
  "metadata": {
   "interpreter": {
    "hash": "00c48d4780e7fa7f4b695bd71b2ac9722a525fe5d5880a11d633cd1f8478baa2"
   }
  }
 },
 "nbformat": 4,
 "nbformat_minor": 2,
 "cells": [
  {
   "cell_type": "code",
   "execution_count": 62,
   "metadata": {},
   "outputs": [],
   "source": [
    "import pandas as pd\n",
    "from collections import Counter\n",
    "import re\n",
    "import math\n",
    "df = pd.read_csv(\"./Data/2019_TFIDF_DBSCAN_CV_eps8_mp20.csv\", encoding='utf-8-sig')"
   ]
  },
  {
   "cell_type": "code",
   "execution_count": 63,
   "metadata": {},
   "outputs": [
    {
     "output_type": "execute_result",
     "data": {
      "text/plain": [
       "      Unnamed: 0        date press category  \\\n",
       "3099      124744  2019-06-26  동아일보    국제,사회   \n",
       "3098      125841  2019-06-27  동아일보    정치,사회   \n",
       "3097      128155  2019-06-30  세계일보    사회,국제   \n",
       "3108      127260  2019-06-28  중앙일보    국제,정치   \n",
       "3069      123860  2019-06-25  세계일보    국제,사회   \n",
       "\n",
       "                                 headline  \\\n",
       "3099          강제철거 반나절만에 재설치… 광화문 ‘천막 전쟁’   \n",
       "3098         2년째 그 자리… 불법 흉물천막이 거리의 주인 됐다   \n",
       "3097  '광화문 천막 사태' 재발 우려…트럼프 떠난 뒤 다시 칠 가능성   \n",
       "3108       조원진 “우리공화당 광화문 천막 다른곳으로 일시 이동”   \n",
       "3069   광화문광장 천막 첫 강제철거…비용 2억에 무단점거 변상금 별도   \n",
       "\n",
       "                                                    url  \\\n",
       "3099  http://www.donga.com/news/article/all/20190626...   \n",
       "3098  http://www.donga.com/news/article/all/20190627...   \n",
       "3097  http://www.segye.com/content/html/2019/06/30/2...   \n",
       "3108      https://news.joins.com/article/olink/23102219   \n",
       "3069  http://www.segye.com/content/html/2019/06/25/2...   \n",
       "\n",
       "                                                   text  \\\n",
       "3099  서울시, 우리공화당 텐트 없애자 조원진 “한개 치우면 두개 세울것”원래 있던 자리에...   \n",
       "3098  청와대앞 인도에 줄줄이 설치 주민들 길막혀 차도로 걷기도세종문화회관 주변도 텐트 점...   \n",
       "3097  우리공화당, 세 번째 설치땐 행정대집행 불가피서울시 \"근본대책 절실\"경찰, 시설물보...   \n",
       "3108  우리공화당(구 대한애국당)이 도널드 트럼프 미국 대통령 방한을 하루 앞두고 애초 밝...   \n",
       "3069  광화문광장에 설치된 대한애국당(현 우리공화당) 천막 강제철거 비용은 2억원 선에 이...   \n",
       "\n",
       "                                                    img  \\\n",
       "3099  ['https://dimg.donga.com/wps/NEWS/IMAGE/2019/0...   \n",
       "3098  ['https://dimg.donga.com/wps/NEWS/IMAGE/2019/0...   \n",
       "3097  ['//img.segye.com/content/image/2019/06/30/201...   \n",
       "3108  ['https://pds.joins.com/news/component/htmlpho...   \n",
       "3069  ['//img.segye.com/content/image/2019/06/25/201...   \n",
       "\n",
       "                                                 N_list  \\\n",
       "3099  [['서울시', '우리공화당', '텐트', '조원진', '자리', '그늘', '서울...   \n",
       "3098  [['청와대', '인도', '줄', '주민', '길', '차도', '세종문화회관',...   \n",
       "3097  [['우리공화당', '행정', '집행', '서울시', '근본', '대책', '경찰'...   \n",
       "3108  [['우리공화당', '도널드 트럼프', '미국', '대통령', '방한', '하루',...   \n",
       "3069  [['광화문광장', '설치', '대한애국당', '천막', '강제', '철거', '비...   \n",
       "\n",
       "                                               topics  labels  cnt  \n",
       "3099     철거, 천막, 공화당, 서울시, 강제, 집행, 지지자, 그늘, 행정, 광화문광장      60   61  \n",
       "3098  천막, 철거, 우리공화당, 설치, 조원진, 서울시, 광화문광장, 계고장, 불법, 구청      60   61  \n",
       "3097    천막, 우리공화당, 광화문광장, 서울시, 행정, 집회, 집행, 철거, 경찰, 광장      60   61  \n",
       "3108    천막, 우리공화당, 광화문광장, 철거, 광화문, 광장, 설치, 텐트, 애국, 빌딩      60   61  \n",
       "3069  천막, 우리공화당, 광화문광장, 철거, 상금, 비용, 설치, 집행, 행정, 대한애국당      60   61  "
      ],
      "text/html": "<div>\n<style scoped>\n    .dataframe tbody tr th:only-of-type {\n        vertical-align: middle;\n    }\n\n    .dataframe tbody tr th {\n        vertical-align: top;\n    }\n\n    .dataframe thead th {\n        text-align: right;\n    }\n</style>\n<table border=\"1\" class=\"dataframe\">\n  <thead>\n    <tr style=\"text-align: right;\">\n      <th></th>\n      <th>Unnamed: 0</th>\n      <th>date</th>\n      <th>press</th>\n      <th>category</th>\n      <th>headline</th>\n      <th>url</th>\n      <th>text</th>\n      <th>img</th>\n      <th>N_list</th>\n      <th>topics</th>\n      <th>labels</th>\n      <th>cnt</th>\n    </tr>\n  </thead>\n  <tbody>\n    <tr>\n      <th>3099</th>\n      <td>124744</td>\n      <td>2019-06-26</td>\n      <td>동아일보</td>\n      <td>국제,사회</td>\n      <td>강제철거 반나절만에 재설치… 광화문 ‘천막 전쟁’</td>\n      <td>http://www.donga.com/news/article/all/20190626...</td>\n      <td>서울시, 우리공화당 텐트 없애자 조원진 “한개 치우면 두개 세울것”원래 있던 자리에...</td>\n      <td>['https://dimg.donga.com/wps/NEWS/IMAGE/2019/0...</td>\n      <td>[['서울시', '우리공화당', '텐트', '조원진', '자리', '그늘', '서울...</td>\n      <td>철거, 천막, 공화당, 서울시, 강제, 집행, 지지자, 그늘, 행정, 광화문광장</td>\n      <td>60</td>\n      <td>61</td>\n    </tr>\n    <tr>\n      <th>3098</th>\n      <td>125841</td>\n      <td>2019-06-27</td>\n      <td>동아일보</td>\n      <td>정치,사회</td>\n      <td>2년째 그 자리… 불법 흉물천막이 거리의 주인 됐다</td>\n      <td>http://www.donga.com/news/article/all/20190627...</td>\n      <td>청와대앞 인도에 줄줄이 설치 주민들 길막혀 차도로 걷기도세종문화회관 주변도 텐트 점...</td>\n      <td>['https://dimg.donga.com/wps/NEWS/IMAGE/2019/0...</td>\n      <td>[['청와대', '인도', '줄', '주민', '길', '차도', '세종문화회관',...</td>\n      <td>천막, 철거, 우리공화당, 설치, 조원진, 서울시, 광화문광장, 계고장, 불법, 구청</td>\n      <td>60</td>\n      <td>61</td>\n    </tr>\n    <tr>\n      <th>3097</th>\n      <td>128155</td>\n      <td>2019-06-30</td>\n      <td>세계일보</td>\n      <td>사회,국제</td>\n      <td>'광화문 천막 사태' 재발 우려…트럼프 떠난 뒤 다시 칠 가능성</td>\n      <td>http://www.segye.com/content/html/2019/06/30/2...</td>\n      <td>우리공화당, 세 번째 설치땐 행정대집행 불가피서울시 \"근본대책 절실\"경찰, 시설물보...</td>\n      <td>['//img.segye.com/content/image/2019/06/30/201...</td>\n      <td>[['우리공화당', '행정', '집행', '서울시', '근본', '대책', '경찰'...</td>\n      <td>천막, 우리공화당, 광화문광장, 서울시, 행정, 집회, 집행, 철거, 경찰, 광장</td>\n      <td>60</td>\n      <td>61</td>\n    </tr>\n    <tr>\n      <th>3108</th>\n      <td>127260</td>\n      <td>2019-06-28</td>\n      <td>중앙일보</td>\n      <td>국제,정치</td>\n      <td>조원진 “우리공화당 광화문 천막 다른곳으로 일시 이동”</td>\n      <td>https://news.joins.com/article/olink/23102219</td>\n      <td>우리공화당(구 대한애국당)이 도널드 트럼프 미국 대통령 방한을 하루 앞두고 애초 밝...</td>\n      <td>['https://pds.joins.com/news/component/htmlpho...</td>\n      <td>[['우리공화당', '도널드 트럼프', '미국', '대통령', '방한', '하루',...</td>\n      <td>천막, 우리공화당, 광화문광장, 철거, 광화문, 광장, 설치, 텐트, 애국, 빌딩</td>\n      <td>60</td>\n      <td>61</td>\n    </tr>\n    <tr>\n      <th>3069</th>\n      <td>123860</td>\n      <td>2019-06-25</td>\n      <td>세계일보</td>\n      <td>국제,사회</td>\n      <td>광화문광장 천막 첫 강제철거…비용 2억에 무단점거 변상금 별도</td>\n      <td>http://www.segye.com/content/html/2019/06/25/2...</td>\n      <td>광화문광장에 설치된 대한애국당(현 우리공화당) 천막 강제철거 비용은 2억원 선에 이...</td>\n      <td>['//img.segye.com/content/image/2019/06/25/201...</td>\n      <td>[['광화문광장', '설치', '대한애국당', '천막', '강제', '철거', '비...</td>\n      <td>천막, 우리공화당, 광화문광장, 철거, 상금, 비용, 설치, 집행, 행정, 대한애국당</td>\n      <td>60</td>\n      <td>61</td>\n    </tr>\n  </tbody>\n</table>\n</div>"
     },
     "metadata": {},
     "execution_count": 63
    }
   ],
   "source": [
    "df = df.sort_values(by='labels', ascending=True)\n",
    "df.tail()"
   ]
  },
  {
   "cell_type": "code",
   "execution_count": 14,
   "metadata": {},
   "outputs": [],
   "source": [
    "def npmi(a, b, n, z):\n",
    "    x = math.log((n*z)/(a*b))\n",
    "    y = math.log(n/z)\n",
    "    return x / y"
   ]
  },
  {
   "cell_type": "code",
   "execution_count": 64,
   "metadata": {},
   "outputs": [],
   "source": [
    "docs = []\n",
    "for article in df['N_list']:\n",
    "    doc = []\n",
    "    com = []\n",
    "    context = []\n",
    "    merge_token = []\n",
    "    merge_token2 = []\n",
    "\n",
    "    # str -> list\n",
    "    for line in article.split('], ['):\n",
    "        arr = re.sub(\"[\\[,'\\]]\", '', line).split(' ')\n",
    "        doc.append(arr)\n",
    "        context += arr\n",
    "\n",
    "    #2 PMI 적용\n",
    "    for line in doc:\n",
    "        com += list(zip(line, line[1:]))\n",
    "    n = len(context)\n",
    "    cnt = Counter(context)\n",
    "    nmi = {}\n",
    "    z = Counter(com)\n",
    "    for pair in com:\n",
    "        pmi = npmi(cnt[pair[0]], cnt[pair[1]], n, z[pair])\n",
    "        if -1 < pmi < 1:\n",
    "            nmi[pair] = pmi\n",
    "    result = sorted(nmi.items(), key = lambda item : item[1], reverse=True)\n",
    "    merge_token = [key[0]+\" \"+key[1] for key, item in result if item >= 0.91]\n",
    "\n",
    "    # 토큰을 합치는 내용\n",
    "    for token in merge_token:\n",
    "        for content in doc:\n",
    "            for i in range(len(content)-1):\n",
    "                cmp_str = ' '.join(content[i:i+2])\n",
    "                if cmp_str == token:\n",
    "                    del content[i:i+2]\n",
    "                    content.insert(i, token)\n",
    "    docs.append(doc)"
   ]
  },
  {
   "cell_type": "code",
   "execution_count": 65,
   "metadata": {},
   "outputs": [
    {
     "output_type": "execute_result",
     "data": {
      "text/plain": [
       "      Unnamed: 0        date press category  \\\n",
       "4419       20660  2019/01/31  서울신문       정치   \n",
       "4418        3978  2019/01/07   한겨레       정치   \n",
       "4417       16383  2019/01/25  동아일보       정치   \n",
       "4409       33657  2019/02/25  국민일보       정치   \n",
       "4415       63667  2019/04/04  서울신문       정치   \n",
       "4410       33294  2019/02/23  중앙일보       정치   \n",
       "4414       30012  2019/02/19  국민일보       정치   \n",
       "4413       12728  2019/01/20  세계일보    정치,국제   \n",
       "4412       25573  2019/02/12  국민일보       정치   \n",
       "4416       28294  2019/02/15  서울신문       정치   \n",
       "4411       38804  2019/03/04  서울신문       정치   \n",
       "4420       36738  2019/02/28  국민일보       정치   \n",
       "\n",
       "                                               headline  \\\n",
       "4419                            “북·미, 영변 핵시설 폐기에 우선 집중”   \n",
       "4418                           [김지석 칼럼] 개성공단·금강산관광 재개부터   \n",
       "4417             웃으며 트럼프 친서 내보인 김정은… “한발 한발 함께” 추가조치 요구   \n",
       "4409                      [단독] 北, 비건에게 “이번엔 영변 폐기까지” 통보   \n",
       "4415                  “대북 특사 파견하거나 원포인트 판문점 남북정상회담 바람직”   \n",
       "4410                       “북한, 영변폐기 합의 후 ‘살라미 전술’ 가능성”   \n",
       "4414              “北·美, 연락관 교환 신중 검토… 공식 외교관계 수립 향한 조치”   \n",
       "4413                    스몰딜이냐 빅딜이냐… 北·美 6주간의 치열한 수싸움 돌입   \n",
       "4412            북 비핵화의 관문 영변 핵시설, 30년 넘게 지켜지지 않았던 폐기 약속   \n",
       "4416       폼페이오 ‘先비핵화’ 대신 “대북제재 완화” 공론화…영변 폐기 넘는 성과 거둘까   \n",
       "4411  [특별기고] 하노이 북미 정상회담 이후 한국 정부의 과제/정성장 세종연구소 연구기획본부장   \n",
       "4420                     북·미, 영변 핵시설 폐기-일부 제재 완화 주고받을 듯   \n",
       "\n",
       "                                                    url  \\\n",
       "4419  http://www.seoul.co.kr/news/newsView.php?id=20...   \n",
       "4418  http://www.hani.co.kr/arti/opinion/column/8773...   \n",
       "4417    http://news.donga.com/3/all/20190125/93854637/1   \n",
       "4409  http://news.kmib.co.kr/article/view.asp?arcid=...   \n",
       "4415  http://www.seoul.co.kr/news/newsView.php?id=20...   \n",
       "4410      https://news.joins.com/article/olink/22986164   \n",
       "4414  http://news.kmib.co.kr/article/view.asp?arcid=...   \n",
       "4413  http://www.segye.com/content/html/2019/01/20/2...   \n",
       "4412  http://news.kmib.co.kr/article/view.asp?arcid=...   \n",
       "4416  http://www.seoul.co.kr/news/newsView.php?id=20...   \n",
       "4411  http://www.seoul.co.kr/news/newsView.php?id=20...   \n",
       "4420  http://news.kmib.co.kr/article/view.asp?arcid=...   \n",
       "\n",
       "                                                   text  \\\n",
       "4419  외교당국자 “美 상당한 상응조치 할 것” 북·미 정상회담을 위한 실무회담에서 북한의...   \n",
       "4418  북한이 김정은 국무위원장의 신년사를 통해 밝힌 올해 국가전략은 두개의 구호로 집약된...   \n",
       "4417  [北美 비핵화 협상]2차회담 높아지는 빅딜 기대감김정은 북한 국무위원장이 전례 없는...   \n",
       "4409  북한이 2차 북·미 정상회담 의제를 놓고 지난 6~8일 평양에서 미국 측과 실무협상...   \n",
       "4415  한국 정부가 한미정상회담 전 대북 특사를 파견하거나 원포인트 판문점 남북정상회담 개...   \n",
       "4410  김정은 북한 국무위원장이 2차 북미 정상회담에서 영변 핵시설 폐기와 추가적인 비핵화...   \n",
       "4414  베트남 하노이에서 열릴 2차 북·미 정상회담을 앞두고 북한과 미국이 서로 연락관을 ...   \n",
       "4413  일정 윤곽 잡힌 ‘核 담판’ 전망 / 영변核·ICBM 폐기·대북제재 완화 등 다양한...   \n",
       "4412  오는 27~28일 베트남 하노이에서 열리는 2차 북·미 정상회담의 성패는 영변 핵시...   \n",
       "4416  제재 완화 운 떼며 김정은에 비핵화 약속 이행 촉구  마이크 폼페이오 미국 국무장관...   \n",
       "4411  정성장 세종연구소 연구기획본부장다수의 전문가들은 하노이 제2차 북미 정상회담에서 북...   \n",
       "4420  김정은 북한 국무위원장과 도널드 트럼프 미국 대통령이 2차 정상회담의 결과물로 내놓...   \n",
       "\n",
       "                                                    img  \\\n",
       "4419                                                 []   \n",
       "4418  ['http://img.hani.co.kr/imgdb/resize/2019/0107...   \n",
       "4417  ['https://dimg.donga.com/wps/NEWS/IMAGE/2019/0...   \n",
       "4409                                                 []   \n",
       "4415  ['//img.seoul.co.kr/img/upload/2019/04/04/SSI_...   \n",
       "4410  ['https://pds.joins.com/news/component/htmlpho...   \n",
       "4414                                                 []   \n",
       "4413  ['//img.segye.com/content/image/2019/01/20/201...   \n",
       "4412                                                 []   \n",
       "4416  ['//img.seoul.co.kr/img/upload/2019/02/15/SSI_...   \n",
       "4411  ['//img.seoul.co.kr/img/upload/2019/03/03/SSI_...   \n",
       "4420                                                 []   \n",
       "\n",
       "                                                 N_list  \\\n",
       "4419  [[외교, 당국자, 상당, 상응, 조치, 북, 미, 정상, 회담, 실무, 회담, 북...   \n",
       "4418  [[북한, 김정은, 국무위원, 장, 신년사, 올해, 국가, 전략, 구호, 집약], ...   \n",
       "4417  [[비핵화, 협상, 차, 회담, 빅딜, 기대감, 김정, 북한, 국무위원, 장, 전례...   \n",
       "4409  [[북한, 차, 북, 미, 정상, 회담, 의제, 평양, 미국, 측, 실무, 협상, ...   \n",
       "4415  [[한국, 정부, 한미정상회담, 대북, 특사, 파견, 포인트 판문점, 남북, 정상 ...   \n",
       "4410  [[김정, 북한, 국무, 위원장, 차, 북미, 정상 회담, 영변, 핵, 시설, 폐기...   \n",
       "4414  [[베트남 하노이, 차, 북 미, 정상 회담, 북한, 미국, 연락관, 교환, 방안,...   \n",
       "4413  [[일정, 윤곽, 담판, 전망, 영변, 폐기, 대북, 제재, 완화, 다양 카드, 본...   \n",
       "4412  [[베트남, 하노이, 차, 북, 미, 정상 회담, 성패, 영변, 핵, 시설, 폐기,...   \n",
       "4416  [[제재 완화, 운, 김정은, 핵, 약속, 이행, 촉구, 마이크, 폼페이오, 미국,...   \n",
       "4411  [[성장, 세종, 연구소, 연구, 기획, 본부장, 다수, 전문가, 하노이, 차, 북...   \n",
       "4420  [[김정, 북한, 국무위원, 장, 도널드, 트럼프, 미국, 대통령, 차, 정상, 회...   \n",
       "\n",
       "                                          topics  labels  cnt  \n",
       "4419      영변, 상응, 폐기, 조치, 미국, 북한, 시설, 협상, 회담, 평양      36   12  \n",
       "4418     북한, 협상, 조처, 시설, 영변, 상응, 미국, 폐기, 제재, 비핵화      36   12  \n",
       "4417     북미, 폐기, 빅딜, 정상, 회담, 영변, 북한, 시설, 미국, 결단력      36   12  \n",
       "4409     영변, 시설, 북한, 회담, 폐기, 동결, 정상, 협상, 알파, 플러스      36   12  \n",
       "4415  북한, 한미정상회담, 회담, 협상, 미국, 제재, 영변, 시설, 폐기, 정상      36   12  \n",
       "4410     영변, 시설, 폐기, 북한, 살라미, 회담, 정상, 협상, 조치, 합의      36   12  \n",
       "4414     폐기, 영변, 시설, 검증, 회담, 북한, 정상, 미국, 양측, 비핵화      36   12  \n",
       "4413    북한, 미국, 회담, 대북, 제재, 스몰, 협상, 폐기, 영변, 부위원장      36   12  \n",
       "4412      영변, 시설, 폐기, 북한, 회담, 협상, 실무, 정상, 약속, 상응      36   12  \n",
       "4416    완화, 북한, 제재, 폼페이오, 영변, 폐기, 검증, 회담, 미국, 협상      36   12  \n",
       "4411     회담, 북한, 영변, 폐기, 북미, 조치, 제재, 정상, 시설, 안보리      36   12  \n",
       "4420      영변, 제재, 회담, 공동, 북한, 폐기, 조치, 정상, 시설, 성명      36   12  "
      ],
      "text/html": "<div>\n<style scoped>\n    .dataframe tbody tr th:only-of-type {\n        vertical-align: middle;\n    }\n\n    .dataframe tbody tr th {\n        vertical-align: top;\n    }\n\n    .dataframe thead th {\n        text-align: right;\n    }\n</style>\n<table border=\"1\" class=\"dataframe\">\n  <thead>\n    <tr style=\"text-align: right;\">\n      <th></th>\n      <th>Unnamed: 0</th>\n      <th>date</th>\n      <th>press</th>\n      <th>category</th>\n      <th>headline</th>\n      <th>url</th>\n      <th>text</th>\n      <th>img</th>\n      <th>N_list</th>\n      <th>topics</th>\n      <th>labels</th>\n      <th>cnt</th>\n    </tr>\n  </thead>\n  <tbody>\n    <tr>\n      <th>4419</th>\n      <td>20660</td>\n      <td>2019/01/31</td>\n      <td>서울신문</td>\n      <td>정치</td>\n      <td>“북·미, 영변 핵시설 폐기에 우선 집중”</td>\n      <td>http://www.seoul.co.kr/news/newsView.php?id=20...</td>\n      <td>외교당국자 “美 상당한 상응조치 할 것” 북·미 정상회담을 위한 실무회담에서 북한의...</td>\n      <td>[]</td>\n      <td>[[외교, 당국자, 상당, 상응, 조치, 북, 미, 정상, 회담, 실무, 회담, 북...</td>\n      <td>영변, 상응, 폐기, 조치, 미국, 북한, 시설, 협상, 회담, 평양</td>\n      <td>36</td>\n      <td>12</td>\n    </tr>\n    <tr>\n      <th>4418</th>\n      <td>3978</td>\n      <td>2019/01/07</td>\n      <td>한겨레</td>\n      <td>정치</td>\n      <td>[김지석 칼럼] 개성공단·금강산관광 재개부터</td>\n      <td>http://www.hani.co.kr/arti/opinion/column/8773...</td>\n      <td>북한이 김정은 국무위원장의 신년사를 통해 밝힌 올해 국가전략은 두개의 구호로 집약된...</td>\n      <td>['http://img.hani.co.kr/imgdb/resize/2019/0107...</td>\n      <td>[[북한, 김정은, 국무위원, 장, 신년사, 올해, 국가, 전략, 구호, 집약], ...</td>\n      <td>북한, 협상, 조처, 시설, 영변, 상응, 미국, 폐기, 제재, 비핵화</td>\n      <td>36</td>\n      <td>12</td>\n    </tr>\n    <tr>\n      <th>4417</th>\n      <td>16383</td>\n      <td>2019/01/25</td>\n      <td>동아일보</td>\n      <td>정치</td>\n      <td>웃으며 트럼프 친서 내보인 김정은… “한발 한발 함께” 추가조치 요구</td>\n      <td>http://news.donga.com/3/all/20190125/93854637/1</td>\n      <td>[北美 비핵화 협상]2차회담 높아지는 빅딜 기대감김정은 북한 국무위원장이 전례 없는...</td>\n      <td>['https://dimg.donga.com/wps/NEWS/IMAGE/2019/0...</td>\n      <td>[[비핵화, 협상, 차, 회담, 빅딜, 기대감, 김정, 북한, 국무위원, 장, 전례...</td>\n      <td>북미, 폐기, 빅딜, 정상, 회담, 영변, 북한, 시설, 미국, 결단력</td>\n      <td>36</td>\n      <td>12</td>\n    </tr>\n    <tr>\n      <th>4409</th>\n      <td>33657</td>\n      <td>2019/02/25</td>\n      <td>국민일보</td>\n      <td>정치</td>\n      <td>[단독] 北, 비건에게 “이번엔 영변 폐기까지” 통보</td>\n      <td>http://news.kmib.co.kr/article/view.asp?arcid=...</td>\n      <td>북한이 2차 북·미 정상회담 의제를 놓고 지난 6~8일 평양에서 미국 측과 실무협상...</td>\n      <td>[]</td>\n      <td>[[북한, 차, 북, 미, 정상, 회담, 의제, 평양, 미국, 측, 실무, 협상, ...</td>\n      <td>영변, 시설, 북한, 회담, 폐기, 동결, 정상, 협상, 알파, 플러스</td>\n      <td>36</td>\n      <td>12</td>\n    </tr>\n    <tr>\n      <th>4415</th>\n      <td>63667</td>\n      <td>2019/04/04</td>\n      <td>서울신문</td>\n      <td>정치</td>\n      <td>“대북 특사 파견하거나 원포인트 판문점 남북정상회담 바람직”</td>\n      <td>http://www.seoul.co.kr/news/newsView.php?id=20...</td>\n      <td>한국 정부가 한미정상회담 전 대북 특사를 파견하거나 원포인트 판문점 남북정상회담 개...</td>\n      <td>['//img.seoul.co.kr/img/upload/2019/04/04/SSI_...</td>\n      <td>[[한국, 정부, 한미정상회담, 대북, 특사, 파견, 포인트 판문점, 남북, 정상 ...</td>\n      <td>북한, 한미정상회담, 회담, 협상, 미국, 제재, 영변, 시설, 폐기, 정상</td>\n      <td>36</td>\n      <td>12</td>\n    </tr>\n    <tr>\n      <th>4410</th>\n      <td>33294</td>\n      <td>2019/02/23</td>\n      <td>중앙일보</td>\n      <td>정치</td>\n      <td>“북한, 영변폐기 합의 후 ‘살라미 전술’ 가능성”</td>\n      <td>https://news.joins.com/article/olink/22986164</td>\n      <td>김정은 북한 국무위원장이 2차 북미 정상회담에서 영변 핵시설 폐기와 추가적인 비핵화...</td>\n      <td>['https://pds.joins.com/news/component/htmlpho...</td>\n      <td>[[김정, 북한, 국무, 위원장, 차, 북미, 정상 회담, 영변, 핵, 시설, 폐기...</td>\n      <td>영변, 시설, 폐기, 북한, 살라미, 회담, 정상, 협상, 조치, 합의</td>\n      <td>36</td>\n      <td>12</td>\n    </tr>\n    <tr>\n      <th>4414</th>\n      <td>30012</td>\n      <td>2019/02/19</td>\n      <td>국민일보</td>\n      <td>정치</td>\n      <td>“北·美, 연락관 교환 신중 검토… 공식 외교관계 수립 향한 조치”</td>\n      <td>http://news.kmib.co.kr/article/view.asp?arcid=...</td>\n      <td>베트남 하노이에서 열릴 2차 북·미 정상회담을 앞두고 북한과 미국이 서로 연락관을 ...</td>\n      <td>[]</td>\n      <td>[[베트남 하노이, 차, 북 미, 정상 회담, 북한, 미국, 연락관, 교환, 방안,...</td>\n      <td>폐기, 영변, 시설, 검증, 회담, 북한, 정상, 미국, 양측, 비핵화</td>\n      <td>36</td>\n      <td>12</td>\n    </tr>\n    <tr>\n      <th>4413</th>\n      <td>12728</td>\n      <td>2019/01/20</td>\n      <td>세계일보</td>\n      <td>정치,국제</td>\n      <td>스몰딜이냐 빅딜이냐… 北·美 6주간의 치열한 수싸움 돌입</td>\n      <td>http://www.segye.com/content/html/2019/01/20/2...</td>\n      <td>일정 윤곽 잡힌 ‘核 담판’ 전망 / 영변核·ICBM 폐기·대북제재 완화 등 다양한...</td>\n      <td>['//img.segye.com/content/image/2019/01/20/201...</td>\n      <td>[[일정, 윤곽, 담판, 전망, 영변, 폐기, 대북, 제재, 완화, 다양 카드, 본...</td>\n      <td>북한, 미국, 회담, 대북, 제재, 스몰, 협상, 폐기, 영변, 부위원장</td>\n      <td>36</td>\n      <td>12</td>\n    </tr>\n    <tr>\n      <th>4412</th>\n      <td>25573</td>\n      <td>2019/02/12</td>\n      <td>국민일보</td>\n      <td>정치</td>\n      <td>북 비핵화의 관문 영변 핵시설, 30년 넘게 지켜지지 않았던 폐기 약속</td>\n      <td>http://news.kmib.co.kr/article/view.asp?arcid=...</td>\n      <td>오는 27~28일 베트남 하노이에서 열리는 2차 북·미 정상회담의 성패는 영변 핵시...</td>\n      <td>[]</td>\n      <td>[[베트남, 하노이, 차, 북, 미, 정상 회담, 성패, 영변, 핵, 시설, 폐기,...</td>\n      <td>영변, 시설, 폐기, 북한, 회담, 협상, 실무, 정상, 약속, 상응</td>\n      <td>36</td>\n      <td>12</td>\n    </tr>\n    <tr>\n      <th>4416</th>\n      <td>28294</td>\n      <td>2019/02/15</td>\n      <td>서울신문</td>\n      <td>정치</td>\n      <td>폼페이오 ‘先비핵화’ 대신 “대북제재 완화” 공론화…영변 폐기 넘는 성과 거둘까</td>\n      <td>http://www.seoul.co.kr/news/newsView.php?id=20...</td>\n      <td>제재 완화 운 떼며 김정은에 비핵화 약속 이행 촉구  마이크 폼페이오 미국 국무장관...</td>\n      <td>['//img.seoul.co.kr/img/upload/2019/02/15/SSI_...</td>\n      <td>[[제재 완화, 운, 김정은, 핵, 약속, 이행, 촉구, 마이크, 폼페이오, 미국,...</td>\n      <td>완화, 북한, 제재, 폼페이오, 영변, 폐기, 검증, 회담, 미국, 협상</td>\n      <td>36</td>\n      <td>12</td>\n    </tr>\n    <tr>\n      <th>4411</th>\n      <td>38804</td>\n      <td>2019/03/04</td>\n      <td>서울신문</td>\n      <td>정치</td>\n      <td>[특별기고] 하노이 북미 정상회담 이후 한국 정부의 과제/정성장 세종연구소 연구기획본부장</td>\n      <td>http://www.seoul.co.kr/news/newsView.php?id=20...</td>\n      <td>정성장 세종연구소 연구기획본부장다수의 전문가들은 하노이 제2차 북미 정상회담에서 북...</td>\n      <td>['//img.seoul.co.kr/img/upload/2019/03/03/SSI_...</td>\n      <td>[[성장, 세종, 연구소, 연구, 기획, 본부장, 다수, 전문가, 하노이, 차, 북...</td>\n      <td>회담, 북한, 영변, 폐기, 북미, 조치, 제재, 정상, 시설, 안보리</td>\n      <td>36</td>\n      <td>12</td>\n    </tr>\n    <tr>\n      <th>4420</th>\n      <td>36738</td>\n      <td>2019/02/28</td>\n      <td>국민일보</td>\n      <td>정치</td>\n      <td>북·미, 영변 핵시설 폐기-일부 제재 완화 주고받을 듯</td>\n      <td>http://news.kmib.co.kr/article/view.asp?arcid=...</td>\n      <td>김정은 북한 국무위원장과 도널드 트럼프 미국 대통령이 2차 정상회담의 결과물로 내놓...</td>\n      <td>[]</td>\n      <td>[[김정, 북한, 국무위원, 장, 도널드, 트럼프, 미국, 대통령, 차, 정상, 회...</td>\n      <td>영변, 제재, 회담, 공동, 북한, 폐기, 조치, 정상, 시설, 성명</td>\n      <td>36</td>\n      <td>12</td>\n    </tr>\n  </tbody>\n</table>\n</div>"
     },
     "metadata": {},
     "execution_count": 65
    }
   ],
   "source": [
    "df['N_list'] = docs\n",
    "df[df['labels']==36]"
   ]
  },
  {
   "cell_type": "code",
   "execution_count": 1,
   "metadata": {},
   "outputs": [
    {
     "output_type": "error",
     "ename": "NameError",
     "evalue": "name 'df' is not defined",
     "traceback": [
      "\u001b[1;31m---------------------------------------------------------------------------\u001b[0m",
      "\u001b[1;31mNameError\u001b[0m                                 Traceback (most recent call last)",
      "\u001b[1;32m<ipython-input-1-2de91ec6fd32>\u001b[0m in \u001b[0;36m<module>\u001b[1;34m\u001b[0m\n\u001b[0;32m      4\u001b[0m \u001b[1;33m\u001b[0m\u001b[0m\n\u001b[0;32m      5\u001b[0m \u001b[1;33m\u001b[0m\u001b[0m\n\u001b[1;32m----> 6\u001b[1;33m \u001b[1;32mfor\u001b[0m \u001b[0mi\u001b[0m \u001b[1;32min\u001b[0m \u001b[0mrange\u001b[0m\u001b[1;33m(\u001b[0m\u001b[0mdf\u001b[0m\u001b[1;33m[\u001b[0m\u001b[1;34m'labels'\u001b[0m\u001b[1;33m]\u001b[0m\u001b[1;33m.\u001b[0m\u001b[0mmax\u001b[0m\u001b[1;33m(\u001b[0m\u001b[1;33m)\u001b[0m\u001b[1;33m+\u001b[0m\u001b[1;36m1\u001b[0m\u001b[1;33m)\u001b[0m\u001b[1;33m:\u001b[0m\u001b[1;33m\u001b[0m\u001b[1;33m\u001b[0m\u001b[0m\n\u001b[0m\u001b[0;32m      7\u001b[0m     \u001b[0mword_list\u001b[0m \u001b[1;33m=\u001b[0m \u001b[1;33m[\u001b[0m\u001b[1;33m]\u001b[0m\u001b[1;33m\u001b[0m\u001b[1;33m\u001b[0m\u001b[0m\n\u001b[0;32m      8\u001b[0m     \u001b[1;32mfor\u001b[0m \u001b[0marticle\u001b[0m \u001b[1;32min\u001b[0m \u001b[0mdf\u001b[0m\u001b[1;33m[\u001b[0m\u001b[0mdf\u001b[0m\u001b[1;33m[\u001b[0m\u001b[1;34m'labels'\u001b[0m\u001b[1;33m]\u001b[0m \u001b[1;33m==\u001b[0m \u001b[0mi\u001b[0m\u001b[1;33m]\u001b[0m\u001b[1;33m[\u001b[0m\u001b[1;34m'N_list'\u001b[0m\u001b[1;33m]\u001b[0m\u001b[1;33m:\u001b[0m\u001b[1;33m\u001b[0m\u001b[1;33m\u001b[0m\u001b[0m\n",
      "\u001b[1;31mNameError\u001b[0m: name 'df' is not defined"
     ]
    }
   ],
   "source": [
    "import pandas as pd\n",
    "from gensim.models import word2vec\n",
    "from gensim.models import Word2Vec\n",
    "\n",
    "\n",
    "for i in range(df['labels'].max()+1):\n",
    "    word_list = []\n",
    "    for article in df[df['labels'] == i]['N_list']:\n",
    "        doc = []\n",
    "        for line in article:\n",
    "            doc += line\n",
    "            word_list.append(doc)\n",
    "    print(len(word_list))\n",
    "    # to = df['topics']\n",
    "    # to = topics.dropna()\n",
    "    # fopic in topics:\n",
    "    #   rd = topic.split(', ')\n",
    "    #   r w in word:\n",
    "    #     if(len(w) <= 1):\n",
    "    #         word.remove(w)\n",
    "    #   rd_list.append(word)\n",
    "    # # l = Word2Vec.load('C:/Users/ghdtk/Project_test/ko.bin')\n",
    "    # # l.wv.save_word2vec_format('C:/Users/ghdtk/Project_test/ko.bin.gz', binary = False)\n",
    "    my_m = Word2Vec(word_list, window = 100, vector_size=200, min_count = 1, sg = 1,workers=4)\n",
    "\n",
    "\n",
    "    # myel.intersect_word2vec_format('C:/Users/ghdtk/Project_test/ko.bin.gz', binary = False)\n",
    "\n",
    "    wordtors = my_model.wv\n",
    "    word_vectors.vocab.keys()\n",
    "    wordtors_list = [word_vectors[v] for v in vocabs]\n",
    "\n",
    "    # prword_vectors.similarity(w1='정부', w2='대통령'))\n",
    "    prinrd_vectors.most_similar(\"김정은\")\n",
    "    break"
   ]
  },
  {
   "cell_type": "code",
   "execution_count": 156,
   "metadata": {
    "tags": []
   },
   "outputs": [
    {
     "output_type": "stream",
     "name": "stdout",
     "text": [
      "4822\n"
     ]
    },
    {
     "output_type": "error",
     "ename": "TypeError",
     "evalue": "unhashable type: 'list'",
     "traceback": [
      "\u001b[1;31m---------------------------------------------------------------------------\u001b[0m",
      "\u001b[1;31mTypeError\u001b[0m                                 Traceback (most recent call last)",
      "\u001b[1;32m<ipython-input-156-69d9416cbbcc>\u001b[0m in \u001b[0;36m<module>\u001b[1;34m\u001b[0m\n\u001b[0;32m     11\u001b[0m \u001b[0mprint\u001b[0m\u001b[1;33m(\u001b[0m\u001b[0mlen\u001b[0m\u001b[1;33m(\u001b[0m\u001b[0mword_list\u001b[0m\u001b[1;33m)\u001b[0m\u001b[1;33m)\u001b[0m\u001b[1;33m\u001b[0m\u001b[1;33m\u001b[0m\u001b[0m\n\u001b[0;32m     12\u001b[0m \u001b[1;33m\u001b[0m\u001b[0m\n\u001b[1;32m---> 13\u001b[1;33m \u001b[0mword_list\u001b[0m\u001b[1;33m=\u001b[0m\u001b[0mlist\u001b[0m\u001b[1;33m(\u001b[0m\u001b[0mset\u001b[0m\u001b[1;33m(\u001b[0m\u001b[0mword_list\u001b[0m\u001b[1;33m)\u001b[0m\u001b[1;33m)\u001b[0m\u001b[1;33m\u001b[0m\u001b[1;33m\u001b[0m\u001b[0m\n\u001b[0m\u001b[0;32m     14\u001b[0m \u001b[1;33m\u001b[0m\u001b[0m\n\u001b[0;32m     15\u001b[0m \u001b[0mmy_model\u001b[0m \u001b[1;33m=\u001b[0m \u001b[0mWord2Vec\u001b[0m\u001b[1;33m(\u001b[0m\u001b[0mword_list\u001b[0m\u001b[1;33m,\u001b[0m \u001b[0mwindow\u001b[0m \u001b[1;33m=\u001b[0m \u001b[1;36m100\u001b[0m\u001b[1;33m,\u001b[0m \u001b[0mmin_count\u001b[0m \u001b[1;33m=\u001b[0m \u001b[1;36m1\u001b[0m\u001b[1;33m,\u001b[0m \u001b[0msg\u001b[0m \u001b[1;33m=\u001b[0m \u001b[1;36m1\u001b[0m\u001b[1;33m,\u001b[0m\u001b[0mworkers\u001b[0m\u001b[1;33m=\u001b[0m\u001b[1;36m4\u001b[0m\u001b[1;33m,\u001b[0m\u001b[0mvector_size\u001b[0m\u001b[1;33m=\u001b[0m\u001b[1;36m200\u001b[0m\u001b[1;33m)\u001b[0m\u001b[1;33m\u001b[0m\u001b[1;33m\u001b[0m\u001b[0m\n",
      "\u001b[1;31mTypeError\u001b[0m: unhashable type: 'list'"
     ]
    }
   ],
   "source": [
    "import pandas as pd\n",
    "from gensim.models import word2vec\n",
    "\n",
    "\n",
    "word_list = []\n",
    "for article in df[df['labels'] == 9]['N_list']: #번호에 해당 클러스터 번호입력\n",
    "    doc = []\n",
    "    for line in article:\n",
    "        doc += line\n",
    "        word_list.append(doc)\n",
    "print(len(word_list))\n",
    "\n",
    "my_model = Word2Vec(word_list, window = 100, min_count = 1, sg = 1,workers=4,vector_size=200)\n",
    "\n",
    "word_vectors = my_model.wv\n",
    "word_vectors.save('word_vec3')\n",
    "#loaded_model = KeyedVectors.load_word2vec_format(\"eng_w2v\") # 모델 로드\n"
   ]
  },
  {
   "cell_type": "code",
   "execution_count": 110,
   "metadata": {},
   "outputs": [],
   "source": [
    "from gensim.models import FastText\n",
    "\n",
    "my_model_fast = FastText(word_list, window = 100, min_count = 1, sg = 1,vector_size=100)\n",
    "\n",
    "word_vectors_fast = my_model_fast.wv\n",
    "word_vectors_fast.save('word_fast3')\n",
    "#loaded_model = KeyedVectors.load_word2vec_format(\"eng_w2v\") # 모델 로드\n"
   ]
  },
  {
   "cell_type": "code",
   "execution_count": 155,
   "metadata": {},
   "outputs": [
    {
     "output_type": "execute_result",
     "data": {
      "text/plain": [
       "[('경협', 0.43442708253860474),\n",
       " ('김영철', 0.40458330512046814),\n",
       " ('고대', 0.3864108920097351),\n",
       " ('매파', 0.3814399540424347),\n",
       " ('노골적', 0.38012757897377014),\n",
       " ('통일전선부', 0.37808918952941895),\n",
       " ('조미수뇌', 0.3741137385368347),\n",
       " ('이발', 0.37381061911582947),\n",
       " ('차 북미', 0.36483627557754517),\n",
       " ('대톨령', 0.3632027804851532)]"
      ]
     },
     "metadata": {},
     "execution_count": 155
    }
   ],
   "source": [
    "from gensim.models import KeyedVectors\n",
    "\n",
    "loaded_model=KeyedVectors.load(\"word_vec2\")\n",
    "loaded_model.most_similar(\"\")"
   ]
  },
  {
   "cell_type": "code",
   "execution_count": 154,
   "metadata": {},
   "outputs": [
    {
     "output_type": "execute_result",
     "data": {
      "text/plain": [
       "[('이정은', 0.8745384812355042),\n",
       " ('페이지', 0.8439659476280212),\n",
       " ('병기', 0.8291098475456238),\n",
       " ('정착', 0.819145917892456),\n",
       " ('방침', 0.7895593643188477),\n",
       " ('디', 0.7649025917053223),\n",
       " ('상임', 0.7409874200820923),\n",
       " ('김정은', 0.7392602562904358),\n",
       " ('국가안전보장회', 0.7311857342720032),\n",
       " ('파악', 0.6985346078872681)]"
      ]
     },
     "metadata": {},
     "execution_count": 154
    }
   ],
   "source": [
    "loaded_model=KeyedVectors.load(\"word_fast2\")\n",
    "loaded_model.most_similar(\"정은\")"
   ]
  },
  {
   "cell_type": "code",
   "execution_count": 98,
   "metadata": {},
   "outputs": [
    {
     "output_type": "stream",
     "name": "stdout",
     "text": [
      "81673\n"
     ]
    }
   ],
   "source": [
    "import pandas as pd\n",
    "from gensim.models import word2vec\n",
    "from gensim.models import Word2Vec\n",
    "\n",
    "\n",
    "word_list = []\n",
    "\n",
    "for i in range(df['labels'].max()+1):\n",
    "    for article in df[df['labels'] == i]['N_list']:\n",
    "        doc = []\n",
    "        for line in article:\n",
    "            doc += line\n",
    "            word_list.append(doc)\n",
    "    \n",
    "print(len(word_list))\n",
    "my_model = Word2Vec(word_list, window = 100, min_count = 1, sg = 1,workers=4,vector_size=200)\n",
    "word_vectors = my_model.wv\n",
    "word_vectors.save('word_vec2')"
   ]
  },
  {
   "cell_type": "code",
   "execution_count": 99,
   "metadata": {},
   "outputs": [
    {
     "output_type": "stream",
     "name": "stdout",
     "text": [
      "297\n"
     ]
    }
   ],
   "source": [
    "import pandas as pd\n",
    "from gensim.models import word2vec\n",
    "\n",
    "\n",
    "word_list = []\n",
    "for article in df[df['labels'] == 36]['N_list']: #번호에 해당 클러스터 번호입력\n",
    "    doc = []\n",
    "    for line in article:\n",
    "        doc += line\n",
    "        word_list.append(doc)\n",
    "\n",
    "print(len(word_list))\n",
    "my_model_fast = FastText(word_list, window = 100, min_count = 1, sg = 1,vector_size=100)\n",
    "\n",
    "word_vectors_fast = my_model_fast.wv\n",
    "word_vectors_fast.save('word_fast2')\n"
   ]
  }
 ]
}
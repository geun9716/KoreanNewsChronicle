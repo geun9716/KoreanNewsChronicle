{
 "metadata": {
  "language_info": {
   "codemirror_mode": {
    "name": "ipython",
    "version": 3
   },
   "file_extension": ".py",
   "mimetype": "text/x-python",
   "name": "python",
   "nbconvert_exporter": "python",
   "pygments_lexer": "ipython3",
   "version": "3.8.5"
  },
  "orig_nbformat": 2,
  "kernelspec": {
   "name": "python385jvsc74a57bd0cc5f70855ac006f3de45a3cc3b9e7d8d53845e50458809cb162b0174266dec97",
   "display_name": "Python 3.8.5 64-bit ('base': conda)"
  }
 },
 "nbformat": 4,
 "nbformat_minor": 2,
 "cells": [
  {
   "cell_type": "code",
   "execution_count": 1,
   "metadata": {},
   "outputs": [],
   "source": [
    "import pandas as pd\n",
    "\n",
    "df1= pd.read_csv(\"Data/북미 정상 회담_token.csv\", encoding='utf-8-sig')\n",
    "df2= pd.read_csv(\"Data/2019_TFIDF_DBSCAN_CV_eps8_mp20.csv\", encoding='utf-8-sig')\n",
    "\n",
    "df3= pd.read_csv(\"Data/남북미 정상 회담_token.csv\", encoding='utf-8-sig')\n",
    "df4= pd.read_csv(\"Data/헝가리 유람선 사고_token.csv\", encoding='utf-8-sig')"
   ]
  },
  {
   "cell_type": "code",
   "execution_count": 2,
   "metadata": {},
   "outputs": [],
   "source": [
    "topic_num=54"
   ]
  },
  {
   "cell_type": "code",
   "execution_count": 3,
   "metadata": {},
   "outputs": [
    {
     "output_type": "stream",
     "name": "stdout",
     "text": [
      "132\n1733\n231\n1042\n"
     ]
    }
   ],
   "source": [
    "print(len(df2[df2['labels']==topic_num]['url']))\n",
    "print(len(df1['URL']))\n",
    "print(len(df3['URL']))\n",
    "print(len(df4['URL']))"
   ]
  },
  {
   "cell_type": "code",
   "execution_count": 4,
   "metadata": {},
   "outputs": [],
   "source": [
    "big_urls=df4['URL']"
   ]
  },
  {
   "cell_type": "code",
   "execution_count": 71,
   "metadata": {},
   "outputs": [],
   "source": [
    "#big_urls2=df3['URL']"
   ]
  },
  {
   "cell_type": "code",
   "execution_count": 5,
   "metadata": {},
   "outputs": [],
   "source": [
    "intime_urls=df2[df2['labels']==topic_num]['url']\n",
    "\n",
    "#not_topic_urls=df2[df2['labels']!=topic_num]['url']"
   ]
  },
  {
   "cell_type": "code",
   "execution_count": 6,
   "metadata": {},
   "outputs": [],
   "source": [
    "big_urls=big_urls.values\n",
    "intime_urls=intime_urls.values"
   ]
  },
  {
   "cell_type": "code",
   "execution_count": 8,
   "metadata": {},
   "outputs": [
    {
     "output_type": "execute_result",
     "data": {
      "text/plain": [
       "array(['http://www.hani.co.kr/arti/society/society_general/899714.html',\n",
       "       'http://www.donga.com/news/article/all/20190628/96225781/2',\n",
       "       'http://www.seoul.co.kr/news/newsView.php?id=20190628500002', ...,\n",
       "       'https://news.joins.com/article/olink/23075866',\n",
       "       'https://news.joins.com/article/olink/23075857',\n",
       "       'http://news.kmib.co.kr/article/view.asp?arcid=0013355609&code=61121211&cp=kd'],\n",
       "      dtype=object)"
      ]
     },
     "metadata": {},
     "execution_count": 8
    }
   ],
   "source": [
    "big_urls"
   ]
  },
  {
   "cell_type": "code",
   "execution_count": 9,
   "metadata": {},
   "outputs": [
    {
     "output_type": "execute_result",
     "data": {
      "text/plain": [
       "array(['http://www.segye.com/content/html/2019/06/09/20190609502746.html',\n",
       "       'http://www.segye.com/content/html/2019/06/03/20190603512243.html',\n",
       "       'https://news.joins.com/article/olink/23082728',\n",
       "       'http://news.kmib.co.kr/article/view.asp?arcid=0013377363&code=61121211&cp=kd',\n",
       "       'http://www.segye.com/content/html/2019/06/07/20190607501635.html',\n",
       "       'http://www.seoul.co.kr/news/newsView.php?id=20190607500003',\n",
       "       'http://www.naeil.com/news_view/?id_art=315509',\n",
       "       'http://www.segye.com/content/html/2019/06/07/20190607511571.html',\n",
       "       'http://www.seoul.co.kr/news/newsView.php?id=20190609500002',\n",
       "       'http://news.kmib.co.kr/article/view.asp?arcid=0013381123&code=61121211&cp=kd',\n",
       "       'http://news.donga.com/3/all/20190604/95832820/1',\n",
       "       'https://news.joins.com/article/olink/23084438',\n",
       "       'https://news.joins.com/article/olink/23082617',\n",
       "       'http://www.segye.com/content/html/2019/06/09/20190609507892.html',\n",
       "       'http://www.segye.com/content/html/2019/06/10/20190610503693.html',\n",
       "       'http://www.naeil.com/news_view/?id_art=315594',\n",
       "       'http://www.segye.com/content/html/2019/06/10/20190610512321.html',\n",
       "       'https://news.joins.com/article/olink/23085430',\n",
       "       'http://news.kmib.co.kr/article/view.asp?arcid=0013385888&code=61121211&cp=kd',\n",
       "       'http://www.munhwa.com/news/view.html?no=2019061101071027328001',\n",
       "       'https://news.joins.com/article/olink/23086070',\n",
       "       'http://www.seoul.co.kr/news/newsView.php?id=20190606500087',\n",
       "       'http://www.segye.com/content/html/2019/06/06/20190606508973.html',\n",
       "       'http://www.seoul.co.kr/news/newsView.php?id=20190606500085',\n",
       "       'https://news.joins.com/article/olink/23082099',\n",
       "       'http://www.seoul.co.kr/news/newsView.php?id=20190605500187',\n",
       "       'http://www.segye.com/content/html/2019/06/05/20190605512933.html',\n",
       "       'http://www.hani.co.kr/arti/society/society_general/896839.html',\n",
       "       'http://www.segye.com/content/html/2019/06/05/20190605514019.html',\n",
       "       'http://news.kmib.co.kr/article/view.asp?arcid=0924082142&code=11131200',\n",
       "       'http://news.donga.com/3/all/20190606/95868060/1',\n",
       "       'http://www.segye.com/content/html/2019/06/06/20190606500513.html',\n",
       "       'https://news.joins.com/article/olink/23079682',\n",
       "       'http://news.kmib.co.kr/article/view.asp?arcid=0013374737&code=61121211&cp=kd',\n",
       "       'http://news.donga.com/3/all/20190606/95869639/2',\n",
       "       'https://news.joins.com/article/olink/23082607',\n",
       "       'http://www.seoul.co.kr/news/newsView.php?id=20190606500010',\n",
       "       'http://www.segye.com/content/html/2019/06/06/20190606506127.html',\n",
       "       'http://www.seoul.co.kr/news/newsView.php?id=20190606500057',\n",
       "       'http://news.donga.com/3/all/20190606/95874663/2',\n",
       "       'http://www.segye.com/content/html/2019/06/06/20190606506443.html',\n",
       "       'http://www.segye.com/content/html/2019/06/06/20190606507987.html',\n",
       "       'http://www.segye.com/content/html/2019/06/06/20190606507686.html',\n",
       "       'https://news.joins.com/article/olink/23082557',\n",
       "       'http://www.seoul.co.kr/news/newsView.php?id=20190611500122',\n",
       "       'http://www.segye.com/content/html/2019/06/11/20190611508589.html',\n",
       "       'http://news.kmib.co.kr/article/view.asp?arcid=0013387182&code=61121111&cp=kd',\n",
       "       'http://news.donga.com/3/all/20190611/95938588/2',\n",
       "       'http://www.munhwa.com/news/view.html?no=2019061201071327328001',\n",
       "       'https://news.joins.com/article/olink/23088090',\n",
       "       'http://www.segye.com/content/html/2019/06/13/20190613506988.html',\n",
       "       'http://www.seoul.co.kr/news/newsView.php?id=20190613500066',\n",
       "       'http://www.munhwa.com/news/view.html?no=2019061301071121340001',\n",
       "       'http://www.segye.com/content/html/2019/06/13/20190613510629.html',\n",
       "       'http://www.segye.com/content/html/2019/06/13/20190613512561.html',\n",
       "       'https://news.joins.com/article/olink/23088562',\n",
       "       'http://news.kmib.co.kr/article/view.asp?arcid=0924083572&code=11131200',\n",
       "       'https://news.joins.com/article/olink/23079641',\n",
       "       'https://news.joins.com/article/olink/23096320',\n",
       "       'http://www.donga.com/news/article/all/20190623/96138711/2',\n",
       "       'http://www.seoul.co.kr/news/newsView.php?id=20190623500011',\n",
       "       'http://www.hani.co.kr/arti/politics/defense/898921.html',\n",
       "       'http://www.seoul.co.kr/news/newsView.php?id=20190623500076',\n",
       "       'http://www.hani.co.kr/arti/politics/defense/898996.html',\n",
       "       'http://news.kmib.co.kr/article/view.asp?arcid=0924084986&code=11131200',\n",
       "       'http://www.donga.com/news/article/all/20190624/96146663/1',\n",
       "       'http://www.donga.com/news/article/all/20190628/96223901/1',\n",
       "       'http://www.seoul.co.kr/news/newsView.php?id=20190628500002',\n",
       "       'http://www.segye.com/content/html/2019/06/12/20190612515105.html',\n",
       "       'http://www.seoul.co.kr/news/newsView.php?id=20190612500049',\n",
       "       'http://news.donga.com/3/all/20190611/95939014/2',\n",
       "       'http://www.segye.com/content/html/2019/06/12/20190612503642.html',\n",
       "       'https://news.joins.com/article/olink/23081915',\n",
       "       'http://www.seoul.co.kr/news/newsView.php?id=20190611500138',\n",
       "       'https://news.joins.com/article/olink/23086141',\n",
       "       'http://news.donga.com/3/all/20190611/95940592/1',\n",
       "       'http://www.seoul.co.kr/news/newsView.php?id=20190611500157',\n",
       "       'http://news.kmib.co.kr/article/view.asp?arcid=0013387402&code=61121211&cp=kd',\n",
       "       'https://news.joins.com/article/olink/23086214',\n",
       "       'http://news.kmib.co.kr/article/view.asp?arcid=0013387512&code=61121211&cp=kd',\n",
       "       'http://news.donga.com/3/all/20190611/95942049/2',\n",
       "       'https://news.joins.com/article/olink/23086389',\n",
       "       'http://news.donga.com/3/all/20190611/95946710/2',\n",
       "       'http://www.seoul.co.kr/news/newsView.php?id=20190611500215',\n",
       "       'http://www.seoul.co.kr/news/newsView.php?id=20190611500220',\n",
       "       'http://news.kmib.co.kr/article/view.asp?arcid=0924083001&code=11131200',\n",
       "       'http://news.kmib.co.kr/article/view.asp?arcid=0924083048&code=11131200',\n",
       "       'https://news.joins.com/article/olink/23086633',\n",
       "       'https://news.joins.com/article/olink/23086638',\n",
       "       'http://news.donga.com/3/all/20190612/95949554/1',\n",
       "       'http://news.kmib.co.kr/article/view.asp?arcid=0924083049&code=11131200',\n",
       "       'http://news.donga.com/3/all/20190605/95866092/2',\n",
       "       'http://www.hani.co.kr/arti/politics/diplomacy/896864.html',\n",
       "       'http://www.segye.com/content/html/2019/06/05/20190605511276.html',\n",
       "       'http://www.seoul.co.kr/news/newsView.php?id=20190605500006',\n",
       "       'http://www.segye.com/content/html/2019/06/04/20190604515144.html',\n",
       "       'http://www.seoul.co.kr/news/newsView.php?id=20190604500188',\n",
       "       'https://news.joins.com/article/olink/23080456',\n",
       "       'http://www.hani.co.kr/arti/society/society_general/896585.html',\n",
       "       'http://news.donga.com/3/all/20190604/95842713/2',\n",
       "       'http://www.seoul.co.kr/news/newsView.php?id=20190604500121',\n",
       "       'http://www.segye.com/content/html/2019/06/05/20190605501818.html',\n",
       "       'https://news.joins.com/article/olink/23081629',\n",
       "       'http://news.kmib.co.kr/article/view.asp?arcid=0013371842&code=61121211&cp=kd',\n",
       "       'http://www.segye.com/content/html/2019/06/05/20190605503327.html',\n",
       "       'http://www.segye.com/content/html/2019/06/05/20190605503363.html',\n",
       "       'http://www.seoul.co.kr/news/newsView.php?id=20190603500190',\n",
       "       'http://www.seoul.co.kr/news/newsView.php?id=20190605500036',\n",
       "       'http://www.hani.co.kr/arti/society/society_general/896712.html',\n",
       "       'http://www.hani.co.kr/arti/society/society_general/896674.html',\n",
       "       'http://www.segye.com/content/html/2019/06/04/20190604515363.html',\n",
       "       'http://www.seoul.co.kr/news/newsView.php?id=20190604500185',\n",
       "       'http://www.munhwa.com/news/view.html?no=2019060401070127328001',\n",
       "       'http://www.segye.com/content/html/2019/06/04/20190604503457.html',\n",
       "       'http://news.donga.com/3/all/20190604/95834815/2',\n",
       "       'http://www.segye.com/content/html/2019/06/03/20190603514458.html',\n",
       "       'http://www.segye.com/content/html/2019/06/04/20190604502128.html',\n",
       "       'http://news.kmib.co.kr/article/view.asp?arcid=0013368273&code=61121211&cp=kd',\n",
       "       'https://news.joins.com/article/olink/23080014',\n",
       "       'https://news.joins.com/article/olink/23080003',\n",
       "       'http://www.seoul.co.kr/news/newsView.php?id=20190604001023',\n",
       "       'http://www.segye.com/content/html/2019/06/04/20190604500709.html',\n",
       "       'http://www.seoul.co.kr/news/newsView.php?id=20190604500003',\n",
       "       'http://news.donga.com/3/all/20190604/95832997/1',\n",
       "       'http://www.segye.com/content/html/2019/06/04/20190604500551.html',\n",
       "       'http://www.seoul.co.kr/news/newsView.php?id=20190604500002',\n",
       "       'http://www.segye.com/content/html/2019/06/05/20190605505244.html',\n",
       "       'https://news.joins.com/article/olink/23081077',\n",
       "       'http://www.seoul.co.kr/news/newsView.php?id=20190605500178',\n",
       "       'http://www.segye.com/content/html/2019/06/05/20190605510966.html',\n",
       "       'http://www.hani.co.kr/arti/society/society_general/896745.html',\n",
       "       'http://news.donga.com/3/all/20190605/95864000/2'], dtype=object)"
      ]
     },
     "metadata": {},
     "execution_count": 9
    }
   ],
   "source": [
    "intime_urls"
   ]
  },
  {
   "cell_type": "code",
   "execution_count": 98,
   "metadata": {},
   "outputs": [],
   "source": [
    "#이건 북미,남북미 합치는거\n",
    "\n",
    "# import numpy as np\n",
    "\n",
    "# new_urls=np.concatenate((big_urls, big_urls2.values), axis=0)\n",
    "# len(new_urls)\n",
    "# big_urls=new_urls"
   ]
  },
  {
   "cell_type": "code",
   "execution_count": 10,
   "metadata": {},
   "outputs": [
    {
     "output_type": "stream",
     "name": "stdout",
     "text": [
      "TP:107,FN:935,FP:25\nprecision:0.8106060606060606,recall:0.10268714011516315,F_score:0.18228279386712098\n"
     ]
    }
   ],
   "source": [
    "TP=0\n",
    "\n",
    "for item in intime_urls:\n",
    "    if item in big_urls:\n",
    "        TP+=1\n",
    "\n",
    "FP=0\n",
    "\n",
    "for item in intime_urls:\n",
    "    if item not in big_urls:\n",
    "        FP+=1\n",
    "\n",
    "FN=0\n",
    "\n",
    "for item in big_urls:\n",
    "    if item not in intime_urls:\n",
    "        FN+=1\n",
    "\n",
    "\n",
    "print(\"TP:{},FN:{},FP:{}\".format(TP,FN,FP))\n",
    "\n",
    "\n",
    "precision=(TP)/(TP+FP)\n",
    "recall=(TP)/(TP+FN)\n",
    "\n",
    "F_score=2*((precision*recall)/(precision+recall))\n",
    "\n",
    "print(\"precision:{},recall:{},F_score:{}\".format(precision,recall,F_score))"
   ]
  },
  {
   "cell_type": "code",
   "execution_count": null,
   "metadata": {},
   "outputs": [],
   "source": []
  }
 ]
}
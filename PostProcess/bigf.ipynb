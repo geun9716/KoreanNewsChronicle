{
 "metadata": {
  "language_info": {
   "codemirror_mode": {
    "name": "ipython",
    "version": 3
   },
   "file_extension": ".py",
   "mimetype": "text/x-python",
   "name": "python",
   "nbconvert_exporter": "python",
   "pygments_lexer": "ipython3",
   "version": "3.8.5"
  },
  "orig_nbformat": 2,
  "kernelspec": {
   "name": "python385jvsc74a57bd0cc5f70855ac006f3de45a3cc3b9e7d8d53845e50458809cb162b0174266dec97",
   "display_name": "Python 3.8.5 64-bit ('base': conda)"
  }
 },
 "nbformat": 4,
 "nbformat_minor": 2,
 "cells": [
  {
   "cell_type": "code",
   "execution_count": 100,
   "metadata": {},
   "outputs": [],
   "source": [
    "import pandas as pd\n",
    "\n",
    "df1= pd.read_csv(\"Data/북미 정상 회담_token.csv\", encoding='utf-8-sig')\n",
    "df2= pd.read_csv(\"Data/2019_TFIDF_DBSCAN_CV_eps8_mp20.csv\", encoding='utf-8-sig')\n",
    "\n",
    "df3= pd.read_csv(\"Data/남북미 정상 회담_token.csv\", encoding='utf-8-sig')\n",
    "df4= pd.read_csv(\"Data/헝가리 유람선 사고_token.csv\", encoding='utf-8-sig')"
   ]
  },
  {
   "cell_type": "code",
   "execution_count": 110,
   "metadata": {},
   "outputs": [],
   "source": [
    "topic_num=54"
   ]
  },
  {
   "cell_type": "code",
   "execution_count": 111,
   "metadata": {},
   "outputs": [
    {
     "output_type": "stream",
     "name": "stdout",
     "text": [
      "132\n1733\n231\n1042\n"
     ]
    }
   ],
   "source": [
    "print(len(df2[df2['labels']==topic_num]['url']))\n",
    "print(len(df1['URL']))\n",
    "print(len(df3['URL']))\n",
    "print(len(df4['URL']))"
   ]
  },
  {
   "cell_type": "code",
   "execution_count": 115,
   "metadata": {},
   "outputs": [],
   "source": [
    "big_urls=df4['URL']"
   ]
  },
  {
   "cell_type": "code",
   "execution_count": 71,
   "metadata": {},
   "outputs": [],
   "source": [
    "big_urls2=df3['URL']"
   ]
  },
  {
   "cell_type": "code",
   "execution_count": 116,
   "metadata": {},
   "outputs": [],
   "source": [
    "intime_urls=df2[df2['labels']==topic_num]['url']\n",
    "\n",
    "#not_topic_urls=df2[df2['labels']!=topic_num]['url']"
   ]
  },
  {
   "cell_type": "code",
   "execution_count": 117,
   "metadata": {},
   "outputs": [],
   "source": [
    "big_urls=big_urls.values\n",
    "intime_urls=intime_urls.values"
   ]
  },
  {
   "cell_type": "code",
   "execution_count": 118,
   "metadata": {},
   "outputs": [
    {
     "output_type": "execute_result",
     "data": {
      "text/plain": [
       "array(['http://www.hani.co.kr/arti/society/society_general/899714.html',\n",
       "       'http://www.donga.com/news/article/all/20190628/96225781/2',\n",
       "       'http://www.seoul.co.kr/news/newsView.php?id=20190628500002', ...,\n",
       "       'https://news.joins.com/article/olink/23075866',\n",
       "       'https://news.joins.com/article/olink/23075857',\n",
       "       'http://news.kmib.co.kr/article/view.asp?arcid=0013355609&code=61121211&cp=kd'],\n",
       "      dtype=object)"
      ]
     },
     "metadata": {},
     "execution_count": 118
    }
   ],
   "source": [
    "big_urls"
   ]
  },
  {
   "cell_type": "code",
   "execution_count": 98,
   "metadata": {},
   "outputs": [],
   "source": [
    "#이건 북미,남북미 합치는거\n",
    "\n",
    "import numpy as np\n",
    "\n",
    "new_urls=np.concatenate((big_urls, big_urls2.values), axis=0)\n",
    "len(new_urls)\n",
    "big_urls=new_urls"
   ]
  },
  {
   "cell_type": "code",
   "execution_count": 122,
   "metadata": {},
   "outputs": [
    {
     "output_type": "stream",
     "name": "stdout",
     "text": [
      "TP:107,FN:935,FP:25\nprecision:0.8106060606060606,recall:0.10268714011516315,F_score:0.18228279386712098\n"
     ]
    }
   ],
   "source": [
    "TP=0\n",
    "\n",
    "for item in intime_urls:\n",
    "    if item in big_urls:\n",
    "        TP+=1\n",
    "\n",
    "FP=0\n",
    "\n",
    "for item in intime_urls:\n",
    "    if item not in big_urls:\n",
    "        FP+=1\n",
    "\n",
    "FN=0\n",
    "\n",
    "for item in big_urls:\n",
    "    if item not in intime_urls:\n",
    "        FN+=1\n",
    "\n",
    "\n",
    "print(\"TP:{},FN:{},FP:{}\".format(TP,FN,FP))\n",
    "\n",
    "\n",
    "precision=(TP)/(TP+FP)\n",
    "recall=(TP)/(TP+FN)\n",
    "\n",
    "F_score=2*((precision*recall)/(precision+recall))\n",
    "\n",
    "print(\"precision:{},recall:{},F_score:{}\".format(precision,recall,F_score))"
   ]
  },
  {
   "cell_type": "code",
   "execution_count": null,
   "metadata": {},
   "outputs": [],
   "source": []
  }
 ]
}
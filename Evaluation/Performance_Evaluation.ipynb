{
 "cells": [
  {
   "cell_type": "code",
   "execution_count": 9,
   "metadata": {},
   "outputs": [],
   "source": [
    "import pandas as pd\n",
    "from collections import Counter\n",
    "import re\n",
    "from sklearn.feature_extraction.text import CountVectorizer"
   ]
  },
  {
   "cell_type": "code",
   "execution_count": 13,
   "metadata": {},
   "outputs": [],
   "source": [
    "tfidf = CountVectorizer()\n",
    "\n",
    "# TP : our's O oasis O\n",
    "# FP : our's O oasis X\n",
    "# FN : our's X oasis O\n",
    "\n",
    "# DBSCAN\n",
    "df1=pd.read_csv('../Data/2019/2019_cluster_topics3.csv', encoding='utf-8-sig') \n",
    "df2=pd.read_csv('../Data/2019/2019_DBSCAN_new3.csv', encoding='utf-8-sig')\n",
    "\n",
    "\n",
    "# K-Menas\n",
    "# df1=pd.read_csv('../Data/2019/2019_kmeans_topics_231.csv','r',encoding='utf-8-sig')\n",
    "# df2=pd.read_csv('../Data/2019/2019_kmeans_231.csv', encoding='utf-8-sig')\n",
    "\n",
    "\n",
    "df3=pd.read_csv('../Data/2019/2019_big_topics.csv', encoding='cp949')\n",
    "\n",
    "article_topics=[]\n",
    "for topic in df1['topics']:\n",
    "    arr=re.sub(\"[\\[,'\\]]\", '',topic).split(' ')\n",
    "    arr=\", \".join(arr)\n",
    "    article_topics.append(arr)\n",
    "\n",
    "\n",
    "big_topics=[]\n",
    "for topic in df3['topics']:\n",
    "    arr=re.sub(\"[\\[,'\\]]\", '',topic).split(' ')\n",
    "    arr=\", \".join(arr)\n",
    "    big_topics.append(arr)\n",
    "\n",
    "tmp = []\n",
    "N = 50\n",
    "top_clusters = Counter(df2['labels'].tolist()).most_common(N)\n",
    "\n",
    "for item in top_clusters:\n",
    "    tmp.append(article_topics[item[0]])\n",
    "    \n",
    "article_topics = tmp"
   ]
  },
  {
   "cell_type": "code",
   "execution_count": 14,
   "metadata": {
    "scrolled": false
   },
   "outputs": [
    {
     "name": "stdout",
     "output_type": "stream",
     "text": [
      "----------------\n",
      "precision:0.04,recall:0.75,F_score:0.07594936708860758\n"
     ]
    }
   ],
   "source": [
    "from sklearn.feature_extraction.text import TfidfVectorizer\n",
    "import numpy as np\n",
    "sims = []\n",
    "TP1=0\n",
    "TP2=0\n",
    "FP=0\n",
    "FN=0\n",
    "\n",
    "def cos_similarity(v1, v2):\n",
    "    dot_product = np.dot(v1, v2)\n",
    "    l2_norm = (np.sqrt(sum(np.square(v1))) * np.sqrt(sum(np.square(v2))))\n",
    "    similarity = dot_product / l2_norm     \n",
    "    \n",
    "    return similarity\n",
    "\n",
    "\n",
    "for topic in article_topics:\n",
    "    similarity=[]\n",
    "\n",
    "    for btopic in big_topics:\n",
    "        topic_list = []\n",
    "        topic_list.append(topic)\n",
    "        topic_list.append(btopic)\n",
    "\n",
    "        tfidf_vect_simple = TfidfVectorizer(min_df=1)\n",
    "        feature_vect_simple = tfidf_vect_simple.fit_transform(topic_list)\n",
    "\n",
    "        feature_vect_dense = feature_vect_simple.todense()\n",
    "\n",
    "        vect1 = np.array(feature_vect_dense[0]).reshape(-1,)\n",
    "        vect2 = np.array(feature_vect_dense[1]).reshape(-1,)\n",
    "\n",
    "        similarity_simple = cos_similarity(vect1, vect2)\n",
    "        similarity.append(similarity_simple)\n",
    "    \n",
    "    sims.append(similarity)\n",
    "    check=False\n",
    "    for sim in similarity:\n",
    "        if sim >= 0.5:\n",
    "            check=True\n",
    "            break\n",
    "    if not check:\n",
    "        FP += 1\n",
    "    else:\n",
    "        TP1 += 1\n",
    "\n",
    "print('----------------')            \n",
    "for topic in big_topics:\n",
    "\n",
    "    similarity=[]\n",
    "    for itopic in article_topics:\n",
    "        topic_list = []\n",
    "        topic_list.append(topic)\n",
    "        topic_list.append(itopic)\n",
    "\n",
    "        tfidf_vect_simple = TfidfVectorizer(min_df=1)\n",
    "        feature_vect_simple = tfidf_vect_simple.fit_transform(topic_list)\n",
    "\n",
    "        feature_vect_dense = feature_vect_simple.todense()\n",
    "\n",
    "        vect1 = np.array(feature_vect_dense[0]).reshape(-1,)\n",
    "        vect2 = np.array(feature_vect_dense[1]).reshape(-1,)\n",
    "\n",
    "        similarity_simple = cos_similarity(vect1, vect2)\n",
    "        similarity.append(similarity_simple)\n",
    "        \n",
    "\n",
    "    check=False\n",
    "    for sim in similarity:\n",
    "        if sim >= 0.5:\n",
    "            check=True\n",
    "            break\n",
    "    if not check:\n",
    "        FN+= 1\n",
    "    else:\n",
    "        TP2+= 1\n",
    "    \n",
    "precision=(TP1)/(TP1+FP)\n",
    "recall=(TP2)/(TP2+FN)\n",
    "\n",
    "if(precision + recall == 0):\n",
    "    F_score = 0\n",
    "else:    \n",
    "    F_score=2*((precision*recall)/(precision+recall))\n",
    "\n",
    "print(\"precision:{},recall:{},F_score:{}\".format(precision,recall,F_score))"
   ]
  },
  {
   "cell_type": "code",
   "execution_count": 15,
   "metadata": {
    "scrolled": true
   },
   "outputs": [
    {
     "data": {
      "text/plain": [
       "Text(0, 0.5, 'Similarity')"
      ]
     },
     "execution_count": 15,
     "metadata": {},
     "output_type": "execute_result"
    },
    {
     "data": {
      "image/png": "[encoded data removed]",
      "text/plain": [
       "<Figure size 432x288 with 1 Axes>"
      ]
     },
     "metadata": {
      "needs_background": "light"
     },
     "output_type": "display_data"
    }
   ],
   "source": [
    "import matplotlib.pyplot as plt\n",
    "\n",
    "cluster_num = range(0, len(sims), 1)\n",
    "size = len(sims[0])\n",
    "for i in range(size):\n",
    "    similarity = []\n",
    "    for sim in sims:\n",
    "        similarity.append(sim[i])\n",
    "    plt.scatter(x = cluster_num, y = similarity)\n",
    "# plt.xticks(np.arange(0, 22, 2))\n",
    "plt.plot([0.45] * N)\n",
    "plt.xlabel(\"Cluster Number\", fontsize = 20)\n",
    "plt.ylabel(\"Similarity\", fontsize = 20)"
   ]
  }
 ],
 "metadata": {
  "kernelspec": {
   "display_name": "Python 3",
   "language": "python",
   "name": "python3"
  },
  "language_info": {
   "codemirror_mode": {
    "name": "ipython",
    "version": 3
   },
   "file_extension": ".py",
   "mimetype": "text/x-python",
   "name": "python",
   "nbconvert_exporter": "python",
   "pygments_lexer": "ipython3",
   "version": "3.8.5"
  },
  "metadata": {
   "interpreter": {
    "hash": "00c48d4780e7fa7f4b695bd71b2ac9722a525fe5d5880a11d633cd1f8478baa2"
   }
  }
 },
 "nbformat": 4,
 "nbformat_minor": 4
}

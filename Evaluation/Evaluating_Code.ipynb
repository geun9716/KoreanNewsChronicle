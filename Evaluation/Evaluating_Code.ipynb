{
 "cells": [
  {
   "cell_type": "code",
   "execution_count": 2,
   "id": "8e595961",
   "metadata": {},
   "outputs": [],
   "source": [
    "import numpy as np\n",
    "import tomotopy as tp\n",
    "from kiwipiepy import Kiwi, Option\n",
    "from sklearn.feature_extraction.text import TfidfVectorizer\n",
    "from sklearn.metrics.pairwise import cosine_similarity"
   ]
  },
  {
   "cell_type": "code",
   "execution_count": 3,
   "id": "a395a9ea",
   "metadata": {},
   "outputs": [
    {
     "data": {
      "text/plain": [
       "'1909 아프리카돼지열병'"
      ]
     },
     "execution_count": 3,
     "metadata": {},
     "output_type": "execute_result"
    }
   ],
   "source": [
    "\"\"\"1902 북미정상회담\"\"\"\n",
    "\"\"\"1904 2019 강원 산불\"\"\"\n",
    "\"\"\"1905 헝가리 유람선 사고\"\"\"\n",
    "\"\"\"1906 2019 남북미 정상회담\"\"\"\n",
    "\"\"\"1907 2019 한일무역분쟁\"\"\"\n",
    "\"\"\"1908 지소미아(GSOMIA, 한일 군사정보보호협정)\"\"\"\n",
    "\"\"\"1909 아프리카돼지열병\"\"\""
   ]
  },
  {
   "cell_type": "code",
   "execution_count": 4,
   "id": "d00e4462",
   "metadata": {},
   "outputs": [
    {
     "data": {
      "text/plain": [
       "'아프리카 돼지 열병(African Swine Fever, ASF)은 전 세계적으로 퍼지고 있는 치명적인 바이러스성 출혈성 돼지 전염병이다. 이병률(罹病率)이 높고 급성형일 뿐만 아니라, 감염되면 치사율이 거의 100%에 이르기 때문에 양돈 산업에 엄청난 피해를 주는 질병이다. 멧돼지, 숲돼지 등의 돼지과 동물간에 전염되며, 또한 진드기에 의해 개체간 감염으로 확산될 수 있다. 돼지과 외에는 잘 감염되지 않고 감염된다 하더라도 무해하다. 본래 아프리카 돼지 열병은 아프리카 돼지들 사이에서 유행하던 풍토병이었으나, 1957년 포르투갈 리스본을 시작으로 유럽으로 확산되었고, 러시아를 거쳐 2018년경 중국으로 퍼졌다. 그리고 북한 지역에 이어, 한국에도 2019년 9월 17일 파주를 시작으로 강화도 등 경기 지방에서 확진 사례가 나왔다. 10월 2일 비무장지대에서 발견된 야생 멧돼지 사체에서 바이러스가 검출됨에 따라, 멧돼지에 의한 전파 가능성이 높아졌다. 추가적인 전염을 막기 위해 방역 당국에서는 살처분과 각종 방역 조치를 취하고 있다.'"
      ]
     },
     "execution_count": 4,
     "metadata": {},
     "output_type": "execute_result"
    }
   ],
   "source": [
    "\"\"\"2019년 2월 27일부터 28일까지 베트남 하노이에서 도널드 트럼프 미국 대통령과 김정은 북한 국무위원회 위원장 간의 정상회담이 개최되었다. 제1차 정상회담 이후로 260일 만에 열린 회담이다. 도널드 트럼프 대통령과 김정은 위원장은 하노이 소피텔 레전드 메트로폴 호텔에서 만났다. 그러나 회담 2일째의 업무 오찬이 돌연 취소됐고, 곧이어 뜻밖에도 회담 결렬이 선언되었다. 최종합의에서 북한은 영변 비핵화를 조건으로 한 대북제재 완전 해제를 제안하였으나, 미국은 영변 외 지역의 다른 핵시설까지도 완전히 비핵화할 것을 조건으로 제시하였다. 선언문은 준비되어 있었으나, 두 의견이 상충하면서 채택이 결렬되었다.\"\"\"\n",
    "\"\"\"2019년 4월 강원도 고성군 토성면 원암리의 한 야산에서 시작된 불이 바람을 타고 속초 시내 까지 번졌던 대형 산불이 발생했다. 2019년 4월 4일 오후 7시 17분 강원도 고성군 토성면 원암리 일성콘도 부근 변압기 폭발로 화재가 발생했다. 초기 신고자는 발화 즉시 신고하고 차량 소화기로 진화를 시도했으며, 인근 소방서에서도 3분 만에 출동해 진화를 시작했다. 그러나 당시 해당 지방에 건조 경보와 강풍 특보가 동시에 내려진 상황으로 인해, 강풍을 타고 걷잡을 수 없이 빠르게 확산되었다. 소방청에서는 오후 8시 31분에 산불 진화를 위해 인근 소방차의 전원 출동을 지시한데 이어, 오후 9시 44분엔 최고 수준 3단계를 발령하고 전국의 모든 소방차에 출동 지시를 내렸다. 신속한 대응으로 산불의 불길이 도시까지 덮친 이례적인 상황임에도 불구하고 문화재, 소방인명피해, 군 장병 피해 없이 발화 21시간만에 완전 진화하였다. 이 산불로 인해 2명이 숨지고 11명이 부상하는 피해를 입었다. 또한 인근에 거주한 4000여명이 대피를 하였으며, 1757ha에 달하는 산림과 주택과 시설물 총 916곳이 전소되는 피해를 입었다.\"\"\"\n",
    "\"\"\"2019년 5월 29일 오후 9시(한국시간 30일 오전 4시) 헝가리 부다페스트 다뉴브 강에서 한국인 승객 33명, 헝가리인 승무원 2명 등 총 35명이 탄 유람선 허블레아니호가 바이킹 리버 크루즈 소속의 대형 크루즈 선 바이킹 시긴 호와 충돌 후 전복되어 침몰하였다. 당시 7명은 구조되었으나, 헝가리인 승무원 2명을 포함한 27명이 사망하였다. 정부는 헝가리 정부와의 협력을 통해 구조대를 파견하고 강경화 외교부 장관이 직접 현장지휘를 총괄하였다. 사고일을 전후해 폭풍우가 치는 등 날씨가 좋지 않아 구조와 수색 작업이 난항을 겪었으며 62일간의 구조 활동에도 불구하고 끝내 1명의 실종자는 발견하지 못하고 수색이 종료되었다.\"\"\"\n",
    "\"\"\"2019 G20 오사카 정상회의 직후 2019년 6월 30일 판문점 평화의 집에서 한국과 북한, 미국 정상 간의 만남이 있었다. 이 회담은 서울에서 진행된 한미정상회담을 위한 도널드 트럼프 미합중국 대통령의 방한 일정 중 성사되었다. 문재인 대통령, 김정은 국무위원장, 도널드 트럼프 대통령이 참석하였다. 갑작스럽게 이루어진 회담이었기 때문에 구체적인 합의가 도출되지는 않았지만, 북미 정상이 1시간 가까이 단독회담을 가졌다. 회담 이후 미국은 2~3주 내에 실무 협상을 준비한 후 실무 전담팀을 북한에 파견하기로 결정했다. 트럼프 대통령은 속도가 중요하지 않고 포괄적 합의가 중요하다고 밝혔다. 이와 별도로 트럼프 대통령과 김정은이 각각 서로를 백악관과 평양에 초청하였다.\"\"\"\n",
    "\"\"\"2019년 대한민국과 일본의 외교적 마찰이 커지자, 일본이 대한민국에 단행한 공업 소재 수출 규제 조치로 인해 이른바 한일무역분쟁이 발생하였다. 2019년 일제 강제징용 손해배상 사건 배상 판결 및 해당기업 자산 압류 및 매각 명령에 따른 경제제재 조치로 풀이되고 있다. 2019년 7월 1일 일본이 반도체 및 디스플레이 제조 핵심 소재의 수출을 제한하기로 발표하면서 경제제재에 돌입하였다. 추가로 일본 정부는 7월 24일 한국에 대한 무역 백색국가 제외 조치를 시행하겠다고 통보하였고, 결국 8월2일 백색국가에서 제외하기로 결정하였다. 이에 따라 경제에 상당한 타격이 있을 것으로 예상되었으나, 기업들은 빠르게 국산화, 수입처 다변화 등을 시행하였고, 국민들이 자발적으로 시작한 일본 불매운동이 펼쳐지고 있다.\"\"\"\n",
    "\"\"\"지소미아는 2016년 11월 23일에 체결된 대한민국과 일본간의 군사협정으로 정식명칭은 ‘한일 군사정보포괄보호협정’이다. 이 협정은 군사정보 제공과 보호, 이용 등을 규정하며, 해방 및 대한민국 정부 수립 이후 한일 양국이 맺은 첫 번째 군사협정이다. 2012년 이명박 정부에서 처음 협정을 시도하였으나 거센 반대로 인하여 협정은 유보되었다. 이후 2016년 박근혜 정부 말기에 다시 협상이 시작되어 큰 반대에도 불구하고 협정이 체결되었다. 한편 문재인 정부에서는 본협정을 계속 이어나갔으나 2019년 7월 일본의 수출통제 국면을 맞아 2019년 8월 22일 국익에 실효성이 없다고 판단하여 지소미아 종료가 결정되었으나, 발효일인 11월 22일, 일본과의 협상 유지기간 동안의 종료 효력 유예를 결정했다.\"\"\"\n",
    "\"\"\"아프리카 돼지 열병(African Swine Fever, ASF)은 전 세계적으로 퍼지고 있는 치명적인 바이러스성 출혈성 돼지 전염병이다. 이병률(罹病率)이 높고 급성형일 뿐만 아니라, 감염되면 치사율이 거의 100%에 이르기 때문에 양돈 산업에 엄청난 피해를 주는 질병이다. 멧돼지, 숲돼지 등의 돼지과 동물간에 전염되며, 또한 진드기에 의해 개체간 감염으로 확산될 수 있다. 돼지과 외에는 잘 감염되지 않고 감염된다 하더라도 무해하다. 본래 아프리카 돼지 열병은 아프리카 돼지들 사이에서 유행하던 풍토병이었으나, 1957년 포르투갈 리스본을 시작으로 유럽으로 확산되었고, 러시아를 거쳐 2018년경 중국으로 퍼졌다. 그리고 북한 지역에 이어, 한국에도 2019년 9월 17일 파주를 시작으로 강화도 등 경기 지방에서 확진 사례가 나왔다. 10월 2일 비무장지대에서 발견된 야생 멧돼지 사체에서 바이러스가 검출됨에 따라, 멧돼지에 의한 전파 가능성이 높아졌다. 추가적인 전염을 막기 위해 방역 당국에서는 살처분과 각종 방역 조치를 취하고 있다.\"\"\""
   ]
  },
  {
   "cell_type": "code",
   "execution_count": 5,
   "id": "d5e6bda4",
   "metadata": {},
   "outputs": [],
   "source": [
    "our_list = [\"북미 정상 회담\",\n",
    "            \"헝가리 유람선\",\n",
    "            \"강원 고성 산불 인제\",\n",
    "            \"한국 일본 무역 갈등\",\n",
    "            \"지소미아\"]"
   ]
  },
  {
   "cell_type": "markdown",
   "id": "a7d0d588",
   "metadata": {},
   "source": [
    "## 전처리"
   ]
  },
  {
   "cell_type": "code",
   "execution_count": 6,
   "id": "cb0cdf57",
   "metadata": {},
   "outputs": [],
   "source": [
    "oasis_list = [\"북미정상회담\",\n",
    "              \"2019 강원 산불\",\n",
    "              \"헝가리 유람선 사고\",\n",
    "              \"2019 남북미 정상회담\",\n",
    "              \"2019 한일무역분쟁\",\n",
    "              \"지소미아(GSOMIA, 한일 군사정보보호협정)\",\n",
    "              \"아프리카돼지열병\"]"
   ]
  },
  {
   "cell_type": "markdown",
   "id": "e055fc69",
   "metadata": {},
   "source": [
    "## 벡터화 & 코사인 유사도 & TP FP FN"
   ]
  },
  {
   "cell_type": "code",
   "execution_count": 7,
   "id": "db896d5a",
   "metadata": {},
   "outputs": [
    {
     "name": "stdout",
     "output_type": "stream",
     "text": [
      "[3, 3, 1, 0] [2, 2, 4, 5] [4, 4, 6, 7]\n"
     ]
    }
   ],
   "source": [
    "#코사인 유사도 threshold\n",
    "cosine_similarity_threshold = [0.2, 0.4, 0.6, 0.8]\n",
    "\n",
    "tfidf = TfidfVectorizer()\n",
    "\n",
    "TP = [0, 0, 0, 0] # our's O oasis O\n",
    "FP = [0, 0, 0, 0] # our's O oasis X\n",
    "FN = [0, 0, 0, 0] # our's X oasis O\n",
    "\n",
    "for topic in our_list:\n",
    "    topic_list = []\n",
    "    topic_list.append(topic)\n",
    "    topic_list.extend(oasis_list)\n",
    "    \n",
    "    vec = tfidf.fit_transform(topic_list)\n",
    "    \n",
    "    similarity = cosine_similarity(vec[0], vec)[0][1:]\n",
    "    for i in range(4):\n",
    "        check = False\n",
    "        for sim in similarity:\n",
    "            if sim >= cosine_similarity_threshold[i]:\n",
    "                check = True\n",
    "                break\n",
    "        if check:\n",
    "            TP[i] += 1\n",
    "        else:\n",
    "            FP[i] += 1\n",
    "            \n",
    "for topic in oasis_list:\n",
    "    topic_list = []\n",
    "    topic_list.append(topic)\n",
    "    topic_list.extend(our_list)\n",
    "    \n",
    "    vec = tfidf.fit_transform(topic_list)\n",
    "    \n",
    "    similarity = cosine_similarity(vec[0], vec)[0][1:]\n",
    "    for i in range(4):\n",
    "        check = False\n",
    "        for sim in similarity:\n",
    "            if sim >= cosine_similarity_threshold[i]:\n",
    "                check = True\n",
    "                break\n",
    "        if not check:\n",
    "            FN[i] += 1\n",
    "            \n",
    "print(TP, FP, FN)"
   ]
  },
  {
   "cell_type": "markdown",
   "id": "e3caa200",
   "metadata": {},
   "source": [
    "## Precision & Recall & F-measure"
   ]
  },
  {
   "cell_type": "code",
   "execution_count": 8,
   "id": "31db7dbf",
   "metadata": {},
   "outputs": [
    {
     "name": "stdout",
     "output_type": "stream",
     "text": [
      "threshold = 0.2, precision = 0.6, recall = 0.42857142857142855, f-measure = 0.5\n",
      "threshold = 0.4, precision = 0.6, recall = 0.42857142857142855, f-measure = 0.5\n",
      "threshold = 0.6, precision = 0.2, recall = 0.14285714285714285, f-measure = 0.16666666666666666\n",
      "threshold = 0.8, precision = 0.0, recall = 0.0, f-measure = 0\n"
     ]
    }
   ],
   "source": [
    "# Precision = TP / (TP + FP)\n",
    "# Recall = TP / (TP + FN)\n",
    "# F-measure = 2 X Precision X Recall / (Precision + Recall)\n",
    "\n",
    "for i in range(4):\n",
    "    precision = TP[i] / (TP[i] + FP[i])\n",
    "    recall = TP[i] / (TP[i] + FN[i])\n",
    "    if precision == 0 or recall == 0:\n",
    "        f_measure = 0\n",
    "    else:\n",
    "        f_measure = 2 * precision * recall / (precision + recall)\n",
    "    print(\"threshold = {3}, precision = {0}, recall = {1}, f-measure = {2}\".format(precision,recall,f_measure, cosine_similarity_threshold[i]))"
   ]
  },
  {
   "cell_type": "code",
   "execution_count": 19,
   "id": "75c03c55",
   "metadata": {},
   "outputs": [
    {
     "data": {
      "text/plain": [
       "float"
      ]
     },
     "execution_count": 19,
     "metadata": {},
     "output_type": "execute_result"
    }
   ],
   "source": []
  },
  {
   "cell_type": "code",
   "execution_count": null,
   "id": "f25b9b18",
   "metadata": {},
   "outputs": [],
   "source": []
  }
 ],
 "metadata": {
  "kernelspec": {
   "display_name": "Python 3",
   "language": "python",
   "name": "python3"
  },
  "language_info": {
   "codemirror_mode": {
    "name": "ipython",
    "version": 3
   },
   "file_extension": ".py",
   "mimetype": "text/x-python",
   "name": "python",
   "nbconvert_exporter": "python",
   "pygments_lexer": "ipython3",
   "version": "3.8.8"
  }
 },
 "nbformat": 4,
 "nbformat_minor": 5
}

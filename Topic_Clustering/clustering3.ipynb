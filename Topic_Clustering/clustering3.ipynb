{
 "metadata": {
  "language_info": {
   "codemirror_mode": {
    "name": "ipython",
    "version": 3
   },
   "file_extension": ".py",
   "mimetype": "text/x-python",
   "name": "python",
   "nbconvert_exporter": "python",
   "pygments_lexer": "ipython3",
   "version": "3.8.5-final"
  },
  "orig_nbformat": 2,
  "kernelspec": {
   "name": "python3",
   "display_name": "Python 3.8.5 64-bit",
   "metadata": {
    "interpreter": {
     "hash": "2db524e06e9f5f4ffedc911c917cb75e12dbc923643829bf417064a77eb14d37"
    }
   }
  }
 },
 "nbformat": 4,
 "nbformat_minor": 2,
 "cells": [
  {
   "cell_type": "code",
   "execution_count": 1,
   "metadata": {},
   "outputs": [],
   "source": [
    "from sklearn.cluster import DBSCAN\n",
    "from sklearn.neighbors import NearestNeighbors\n",
    "from sklearn.feature_extraction.text import CountVectorizer\n",
    "from sklearn.feature_extraction.text import TfidfVectorizer\n",
    "from sklearn.preprocessing import normalize\n",
    "\n",
    "import numpy as np\n",
    "import pandas as pd\n",
    "import csv\n",
    "import math\n",
    "from collections import Counter\n",
    "import matplotlib.pyplot as plt\n",
    "\n",
    "df=pd.read_csv('C:/Users/geun/KoreanNewsChronicle/Topic_Abstract/Data/2019.csv',encoding='utf-8')\n",
    "\n",
    "# 결측지 행 제거 후 topics에 있는 것을 추출\n",
    "s = df.dropna()\n",
    "\n",
    "tmp_index=[]\n",
    "\n",
    "for index, row in s.iterrows():\n",
    "    tmp = row['topics'].split(',')\n",
    "    if len(tmp) < 2:\n",
    "        tmp_index.append(index)\n",
    "\n",
    "s = s.drop(tmp_index)\n",
    "news_topic = s['topics'].tolist()\n",
    "\n",
    "# # CountVectrizer로 토큰화\n",
    "vectorizer = CountVectorizer()\n",
    "X = vectorizer.fit_transform(news_topic)\n",
    "\n",
    "X = normalize(X)\n",
    "\n",
    "# neigh = NearestNeighbors(n_neighbors=2)\n",
    "# nbrs = neigh.fit(X)\n",
    "# distances, indices = nbrs.kneighbors(X)\n",
    "\n",
    "# distances = np.sort(distances, axis=0)\n",
    "# distances = distances[:,1]\n",
    "# plt.plot(distances)\n"
   ]
  },
  {
   "cell_type": "code",
   "execution_count": 2,
   "metadata": {},
   "outputs": [
    {
     "output_type": "stream",
     "name": "stdout",
     "text": [
      "{-1: 300123, 1: 2517, 2: 395, 64: 167, 28: 149, 10: 148, 61: 101, 45: 95, 24: 79, 105: 79, 44: 77, 116: 75, 7: 74, 5: 65, 121: 60, 142: 58, 125: 53, 90: 51, 21: 50, 69: 48, 123: 43, 14: 40, 143: 37, 59: 35, 13: 34, 12: 32, 8: 31, 66: 31, 134: 31, 29: 30, 6: 28, 40: 28, 20: 26, 34: 26, 11: 25, 81: 25, 79: 25, 48: 24, 72: 22, 111: 22, 18: 21, 47: 21, 63: 20, 137: 20, 25: 19, 36: 19, 51: 19, 84: 19, 128: 19, 103: 19, 19: 18, 57: 18, 49: 18, 58: 18, 107: 17, 96: 17, 110: 17, 145: 17, 38: 16, 73: 16, 100: 16, 26: 15, 27: 15, 32: 15, 0: 14, 17: 14, 41: 14, 127: 14, 136: 14, 54: 13, 37: 13, 39: 13, 50: 13, 31: 12, 88: 12, 117: 12, 140: 12, 70: 12, 93: 12, 120: 12, 95: 12, 113: 12, 126: 12, 135: 12, 9: 11, 15: 11, 30: 11, 52: 11, 53: 11, 67: 11, 75: 11, 76: 11, 86: 11, 101: 11, 108: 11, 112: 11, 118: 11, 122: 11, 129: 11, 132: 11, 133: 11, 138: 11, 139: 11, 141: 11, 3: 10, 4: 10, 65: 10, 16: 10, 22: 10, 23: 10, 33: 10, 35: 10, 42: 10, 43: 10, 46: 10, 80: 10, 144: 10, 114: 10, 82: 10, 55: 10, 56: 10, 92: 10, 60: 10, 104: 10, 62: 10, 68: 10, 71: 10, 97: 10, 78: 10, 77: 10, 83: 10, 87: 10, 85: 10, 91: 10, 89: 10, 94: 10, 98: 10, 131: 10, 102: 10, 106: 10, 109: 10, 115: 10, 119: 10, 147: 10, 130: 10, 124: 10, 146: 10, 99: 8, 74: 7}\n"
     ]
    }
   ],
   "source": [
    "m = DBSCAN(eps=0.6, min_samples = 10)\n",
    "\n",
    "m.fit(X)\n",
    "\n",
    "labels = m.labels_\n",
    "\n",
    "s['labels'] = labels\n",
    "\n",
    "hot_topic_index = Counter(s['labels']).most_common()\n",
    "hot_topic = dict(hot_topic_index)\n",
    "\n",
    "print(hot_topic)"
   ]
  },
  {
   "cell_type": "code",
   "execution_count": 3,
   "metadata": {},
   "outputs": [],
   "source": [
    "index = []\n",
    "for row in s['labels']:\n",
    "    index.append(hot_topic[row])\n",
    "\n",
    "s['cnt'] = index\n",
    "s.sort_values(by='cnt', ascending=False).to_csv('2019_cluster_DBSCAN.csv', index=False, header=True,encoding=\"utf-8-sig\")"
   ]
  }
 ]
}
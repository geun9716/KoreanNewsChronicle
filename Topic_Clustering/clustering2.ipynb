{
 "metadata": {
  "language_info": {
   "codemirror_mode": {
    "name": "ipython",
    "version": 3
   },
   "file_extension": ".py",
   "mimetype": "text/x-python",
   "name": "python",
   "nbconvert_exporter": "python",
   "pygments_lexer": "ipython3",
   "version": "3.8.5-final"
  },
  "orig_nbformat": 2,
  "kernelspec": {
   "name": "python3",
   "display_name": "Python 3.8.5 64-bit",
   "metadata": {
    "interpreter": {
     "hash": "2db524e06e9f5f4ffedc911c917cb75e12dbc923643829bf417064a77eb14d37"
    }
   }
  }
 },
 "nbformat": 4,
 "nbformat_minor": 2,
 "cells": [
  {
   "cell_type": "code",
   "execution_count": 19,
   "metadata": {
    "tags": []
   },
   "outputs": [],
   "source": [
    "from sklearn.cluster import DBSCAN\n",
    "from sklearn.neighbors import NearestNeighbors\n",
    "from sklearn.feature_extraction.text import CountVectorizer\n",
    "from sklearn.feature_extraction.text import TfidfVectorizer\n",
    "from sklearn.preprocessing import normalize\n",
    "\n",
    "import numpy as np\n",
    "import pandas as pd\n",
    "import csv\n",
    "import math\n",
    "from collections import Counter\n",
    "import matplotlib.pyplot as plt\n",
    "\n",
    "s=pd.read_csv('C:/Users/geun/KoreanNewsChronicle/Topic_Abstract/Data/201905.csv',encoding='utf-8')\n",
    "\n",
    "# df = df.dropna()\n",
    "\n",
    "# # 불용어 제거\n",
    "# stopword = ['A씨', '만', '억', '조', '차', '그', '시', '대', '위', '분', '측', '곳']\n",
    "\n",
    "# for index, row in df.iterrows():\n",
    "#     topic = row['topics'].split(', ')\n",
    "#     for str in topic:\n",
    "#         if(str in stopword):\n",
    "#             topic.remove(str)\n",
    "\n",
    "#     topic_str = \", \".join(topic)\n",
    "#     df.loc[index, 'topics'] = topic_str\n",
    "\n",
    "# print('원래 기사 수 : ',len(df))\n",
    "# # 결측지 행 제거 후 topics에 있는 것을 추출\n",
    "# dp = df.duplicated(['headline'], keep='first')\n",
    "# count = 0\n",
    "# for b in dp:            #중복된 기사 제거\n",
    "#     if(b == True):\n",
    "#         df.drop(df.index[count], inplace = True)\n",
    "#         count -= 1\n",
    "#     count += 1\n",
    "\n",
    "# print('중복된 기사 제거후 기사수 : ',len(df))\n",
    "\n",
    "# tmp_index=[]\n",
    "\n",
    "# for index, row in df.iterrows():\n",
    "#     tmp = row['topics'].split(',')\n",
    "#     if len(tmp) < 4:\n",
    "#         tmp_index.append(index)\n",
    "\n",
    "# s = df.drop(tmp_index)"
   ]
  },
  {
   "cell_type": "code",
   "execution_count": 20,
   "metadata": {},
   "outputs": [],
   "source": [
    "\n",
    "news_topic = s['topics'].tolist()\n",
    "\n",
    "# # CountVectrizer로 토큰화\n",
    "vectorizer = CountVectorizer()\n",
    "X = vectorizer.fit_transform(news_topic)\n",
    "\n",
    "X = normalize(X)\n",
    "\n",
    "neigh = NearestNeighbors(n_neighbors=2)\n",
    "nbrs = neigh.fit(X)\n",
    "distances, indices = nbrs.kneighbors(X)\n",
    "\n",
    "\n",
    "m = DBSCAN(eps=0.6, min_samples = 5)\n",
    "\n",
    "m.fit(X)\n",
    "\n",
    "labels = m.labels_"
   ]
  },
  {
   "cell_type": "code",
   "execution_count": 21,
   "metadata": {},
   "outputs": [
    {
     "output_type": "stream",
     "name": "stdout",
     "text": [
      "{-1: 22965, 2: 257, 5: 126, 17: 19, 38: 15, 18: 13, 16: 12, 31: 11, 12: 10, 14: 9, 36: 9, 40: 9, 25: 8, 9: 7, 10: 7, 22: 7, 32: 7, 33: 7, 37: 7, 19: 6, 8: 6, 13: 6, 39: 6, 28: 6, 43: 6, 0: 5, 1: 5, 3: 5, 4: 5, 15: 5, 6: 5, 11: 5, 7: 5, 20: 5, 21: 5, 24: 5, 27: 5, 26: 5, 29: 5, 30: 5, 46: 5, 34: 5, 41: 5, 35: 5, 42: 5, 44: 5, 45: 5, 23: 4}\n"
     ]
    }
   ],
   "source": [
    "s['labels'] = labels\n",
    "\n",
    "hot_topic_index = Counter(s['labels']).most_common()\n",
    "hot_topic = dict(hot_topic_index)\n",
    "\n",
    "print(hot_topic)"
   ]
  },
  {
   "cell_type": "code",
   "execution_count": 22,
   "metadata": {},
   "outputs": [],
   "source": [
    "count = []\n",
    "for index, row in s['labels'].iteritems():\n",
    "    if row == -1:\n",
    "        s = s.drop(index)\n",
    "    else:\n",
    "        count.append(hot_topic[row])\n",
    "        s['labels'][index] = \"05,\"+str(row)\n",
    "\n",
    "s['cnt'] = count\n",
    "s.sort_values(by='labels', ascending=False).to_csv('./Data/201905_cluster_DBSCAN.csv', index=False, header=True,encoding=\"utf-8-sig\")"
   ]
  },
  {
   "cell_type": "code",
   "execution_count": null,
   "metadata": {},
   "outputs": [],
   "source": []
  }
 ]
}
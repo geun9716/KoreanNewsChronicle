{
 "metadata": {
  "language_info": {
   "codemirror_mode": {
    "name": "ipython",
    "version": 3
   },
   "file_extension": ".py",
   "mimetype": "text/x-python",
   "name": "python",
   "nbconvert_exporter": "python",
   "pygments_lexer": "ipython3",
   "version": "3.8.5-final"
  },
  "orig_nbformat": 2,
  "kernelspec": {
   "name": "python3",
   "display_name": "Python 3.8.5 64-bit",
   "metadata": {
    "interpreter": {
     "hash": "2db524e06e9f5f4ffedc911c917cb75e12dbc923643829bf417064a77eb14d37"
    }
   }
  }
 },
 "nbformat": 4,
 "nbformat_minor": 2,
 "cells": [
  {
   "cell_type": "code",
   "execution_count": 65,
   "metadata": {
    "tags": []
   },
   "outputs": [
    {
     "output_type": "stream",
     "name": "stdout",
     "text": [
      "원래 기사 수 :  26515\n",
      "중복된 기사 제거후 기사수 :  24497\n"
     ]
    }
   ],
   "source": [
    "from sklearn.cluster import DBSCAN\n",
    "from sklearn.neighbors import NearestNeighbors\n",
    "from sklearn.feature_extraction.text import CountVectorizer\n",
    "from sklearn.feature_extraction.text import TfidfVectorizer\n",
    "from sklearn.preprocessing import normalize\n",
    "\n",
    "import numpy as np\n",
    "import pandas as pd\n",
    "import csv\n",
    "import math\n",
    "from collections import Counter\n",
    "import matplotlib.pyplot as plt\n",
    "\n",
    "df=pd.read_csv('D:/Script/knc/KoreanNewsChronicle/Topic_Abstract/Data/201912.csv',encoding='utf-8')\n",
    "\n",
    "df = df.dropna()\n",
    "\n",
    "# 불용어 제거\n",
    "stopword = ['A씨', '만', '억', '조', '차', '그', '시', '대', '위', '분', '측', '곳']\n",
    "\n",
    "for index, row in df.iterrows():\n",
    "    topic = row['topics'].split(', ')\n",
    "    for str in topic:\n",
    "        if(str in stopword):\n",
    "            topic.remove(str)\n",
    "\n",
    "    topic_str = \", \".join(topic)\n",
    "    df.loc[index, 'topics'] = topic_str\n",
    "\n",
    "print('원래 기사 수 : ',len(df))\n",
    "# 결측지 행 제거 후 topics에 있는 것을 추출\n",
    "dp = df.duplicated(['headline'], keep='first')\n",
    "count = 0\n",
    "for b in dp:            #중복된 기사 제거\n",
    "    if(b == True):\n",
    "        df.drop(df.index[count], inplace = True)\n",
    "        count -= 1\n",
    "    count += 1\n",
    "\n",
    "print('중복된 기사 제거후 기사수 : ',len(df))\n",
    "\n",
    "tmp_index=[]\n",
    "\n",
    "for index, row in df.iterrows():\n",
    "    tmp = row['topics'].split(',')\n",
    "    if len(tmp) < 4:\n",
    "        tmp_index.append(index)\n",
    "\n",
    "s = df.drop(tmp_index)"
   ]
  },
  {
   "cell_type": "code",
   "execution_count": 66,
   "metadata": {},
   "outputs": [],
   "source": [
    "\n",
    "news_topic = s['topics'].tolist()\n",
    "\n",
    "# # CountVectrizer로 토큰화\n",
    "vectorizer = CountVectorizer()\n",
    "X = vectorizer.fit_transform(news_topic)\n",
    "\n",
    "X = normalize(X)\n",
    "\n",
    "neigh = NearestNeighbors(n_neighbors=2)\n",
    "nbrs = neigh.fit(X)\n",
    "distances, indices = nbrs.kneighbors(X)\n",
    "\n",
    "\n",
    "m = DBSCAN(eps=0.6, min_samples = 5)\n",
    "\n",
    "m.fit(X)\n",
    "\n",
    "labels = m.labels_"
   ]
  },
  {
   "cell_type": "code",
   "execution_count": 67,
   "metadata": {},
   "outputs": [
    {
     "output_type": "stream",
     "name": "stdout",
     "text": [
      "{-1: 22748, 6: 81, 13: 38, 7: 33, 37: 29, 26: 24, 20: 21, 31: 14, 10: 11, 5: 10, 22: 10, 33: 9, 8: 8, 15: 8, 50: 8, 30: 8, 43: 8, 3: 7, 18: 7, 32: 7, 40: 7, 44: 7, 0: 6, 1: 6, 2: 6, 4: 6, 9: 6, 21: 6, 19: 6, 24: 6, 29: 6, 34: 6, 46: 6, 48: 6, 14: 5, 23: 5, 11: 5, 12: 5, 16: 5, 17: 5, 25: 5, 27: 5, 28: 5, 39: 5, 35: 5, 36: 5, 38: 5, 41: 5, 42: 5, 45: 5, 47: 5, 49: 5}\n"
     ]
    }
   ],
   "source": [
    "s['labels'] = '01_',labels\n",
    "\n",
    "hot_topic_index = Counter(s['labels']).most_common()\n",
    "hot_topic = dict(hot_topic_index)\n",
    "\n",
    "print(hot_topic)"
   ]
  },
  {
   "cell_type": "code",
   "execution_count": 68,
   "metadata": {},
   "outputs": [],
   "source": [
    "count = []\n",
    "for index, row in s['labels'].iteritems():\n",
    "    if row == -1:\n",
    "        s = s.drop(index)\n",
    "    else:\n",
    "        count.append(hot_topic[row])\n",
    "\n",
    "s['cnt'] = count\n",
    "s.sort_values(by='labels', ascending=False).to_csv('./Data/201912_cluster_DBSCAN2.csv', index=False, header=True,encoding=\"utf-8-sig\")"
   ]
  },
  {
   "cell_type": "code",
   "execution_count": null,
   "metadata": {},
   "outputs": [],
   "source": []
  }
 ]
}
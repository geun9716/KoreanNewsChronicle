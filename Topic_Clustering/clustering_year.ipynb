{
 "metadata": {
  "language_info": {
   "codemirror_mode": {
    "name": "ipython",
    "version": 3
   },
   "file_extension": ".py",
   "mimetype": "text/x-python",
   "name": "python",
   "nbconvert_exporter": "python",
   "pygments_lexer": "ipython3",
   "version": "3.8.5-final"
  },
  "orig_nbformat": 2,
  "kernelspec": {
   "name": "python3",
   "display_name": "Python 3.8.5 64-bit",
   "metadata": {
    "interpreter": {
     "hash": "2db524e06e9f5f4ffedc911c917cb75e12dbc923643829bf417064a77eb14d37"
    }
   }
  }
 },
 "nbformat": 4,
 "nbformat_minor": 2,
 "cells": [
  {
   "cell_type": "code",
   "execution_count": 5,
   "metadata": {
    "tags": []
   },
   "outputs": [],
   "source": [
    "from sklearn.cluster import DBSCAN\n",
    "from sklearn.neighbors import NearestNeighbors\n",
    "from sklearn.feature_extraction.text import CountVectorizer\n",
    "from sklearn.feature_extraction.text import TfidfVectorizer\n",
    "from sklearn.preprocessing import normalize\n",
    "\n",
    "import numpy as np\n",
    "import pandas as pd\n",
    "import csv\n",
    "import math\n",
    "from collections import Counter\n",
    "import matplotlib.pyplot as plt\n",
    "\n",
    "s=pd.read_csv('C:/Users/geun/KoreanNewsChronicle/Topic_Abstract/Data/2019_dp.csv',encoding='utf-8')\n"
   ]
  },
  {
   "cell_type": "code",
   "execution_count": 6,
   "metadata": {},
   "outputs": [],
   "source": [
    "\n",
    "news_topic = s['topics'].tolist()\n",
    "\n",
    "# # CountVectrizer로 토큰화\n",
    "vectorizer = CountVectorizer()\n",
    "X = vectorizer.fit_transform(news_topic)\n",
    "\n",
    "X = normalize(X)\n",
    "\n",
    "neigh = NearestNeighbors(n_neighbors=2)\n",
    "nbrs = neigh.fit(X)\n",
    "distances, indices = nbrs.kneighbors(X)\n",
    "\n",
    "\n",
    "m = DBSCAN(eps=0.6, min_samples = 10)\n",
    "\n",
    "m.fit(X)\n",
    "\n",
    "labels = m.labels_"
   ]
  },
  {
   "cell_type": "code",
   "execution_count": 7,
   "metadata": {},
   "outputs": [
    {
     "output_type": "stream",
     "name": "stdout",
     "text": [
      "{-1: 271985, 0: 2150, 8: 137, 5: 135, 29: 97, 26: 83, 64: 74, 55: 73, 28: 71, 1: 62, 22: 58, 72: 55, 90: 53, 71: 52, 68: 51, 15: 46, 46: 43, 37: 42, 70: 42, 11: 41, 34: 37, 3: 35, 89: 35, 80: 31, 30: 26, 42: 24, 6: 22, 14: 22, 41: 22, 24: 21, 59: 21, 83: 20, 75: 19, 13: 18, 17: 18, 35: 18, 33: 18, 57: 17, 7: 17, 16: 17, 92: 17, 23: 16, 52: 16, 49: 16, 9: 15, 40: 14, 36: 14, 18: 13, 65: 13, 82: 13, 20: 12, 47: 12, 67: 12, 79: 12, 48: 12, 74: 12, 81: 12, 4: 11, 10: 11, 19: 11, 31: 11, 87: 11, 32: 11, 45: 11, 78: 11, 76: 11, 86: 11, 2: 10, 84: 10, 12: 10, 91: 10, 93: 10, 61: 10, 43: 10, 21: 10, 25: 10, 27: 10, 39: 10, 44: 10, 54: 10, 53: 10, 62: 10, 56: 10, 58: 10, 60: 10, 63: 10, 66: 10, 69: 10, 77: 10, 73: 10, 88: 10, 85: 9, 50: 9, 51: 8, 94: 8, 38: 7}\n"
     ]
    }
   ],
   "source": [
    "s['labels'] = labels\n",
    "\n",
    "hot_topic_index = Counter(s['labels']).most_common()\n",
    "hot_topic = dict(hot_topic_index)\n",
    "\n",
    "print(hot_topic)"
   ]
  },
  {
   "cell_type": "code",
   "execution_count": 10,
   "metadata": {},
   "outputs": [],
   "source": [
    "count = []\n",
    "for index, row in s['labels'].iteritems():\n",
    "        count.append(hot_topic[row])\n",
    "\n",
    "s['cnt'] = count\n",
    "s.sort_values(by='labels', ascending=False).to_csv('./Data/2019_DBSCAN_6_10.csv', index=False, header=True,encoding=\"utf-8-sig\")"
   ]
  },
  {
   "cell_type": "code",
   "execution_count": 1,
   "metadata": {},
   "outputs": [
    {
     "output_type": "error",
     "ename": "NameError",
     "evalue": "name 'hot_topic' is not defined",
     "traceback": [
      "\u001b[1;31m---------------------------------------------------------------------------\u001b[0m",
      "\u001b[1;31mNameError\u001b[0m                                 Traceback (most recent call last)",
      "\u001b[1;32m<ipython-input-1-e485f2a57bdc>\u001b[0m in \u001b[0;36m<module>\u001b[1;34m\u001b[0m\n\u001b[1;32m----> 1\u001b[1;33m \u001b[0mprint\u001b[0m\u001b[1;33m(\u001b[0m\u001b[0mlen\u001b[0m\u001b[1;33m(\u001b[0m\u001b[0mhot_topic\u001b[0m\u001b[1;33m)\u001b[0m\u001b[1;33m)\u001b[0m\u001b[1;33m\u001b[0m\u001b[1;33m\u001b[0m\u001b[0m\n\u001b[0m",
      "\u001b[1;31mNameError\u001b[0m: name 'hot_topic' is not defined"
     ]
    }
   ],
   "source": [
    "print(len(hot_topic))"
   ]
  },
  {
   "cell_type": "code",
   "execution_count": null,
   "metadata": {},
   "outputs": [],
   "source": []
  }
 ]
}
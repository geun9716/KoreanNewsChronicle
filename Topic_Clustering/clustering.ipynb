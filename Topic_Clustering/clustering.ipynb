{
 "metadata": {
  "language_info": {
   "codemirror_mode": {
    "name": "ipython",
    "version": 3
   },
   "file_extension": ".py",
   "mimetype": "text/x-python",
   "name": "python",
   "nbconvert_exporter": "python",
   "pygments_lexer": "ipython3",
   "version": "3.8.5-final"
  },
  "orig_nbformat": 2,
  "kernelspec": {
   "name": "python3",
   "display_name": "Python 3.8.5 64-bit",
   "metadata": {
    "interpreter": {
     "hash": "2db524e06e9f5f4ffedc911c917cb75e12dbc923643829bf417064a77eb14d37"
    }
   }
  }
 },
 "nbformat": 4,
 "nbformat_minor": 2,
 "cells": [
  {
   "cell_type": "code",
   "execution_count": 1,
   "metadata": {},
   "outputs": [],
   "source": [
    "import pandas as pd\n",
    "from sklearn.feature_extraction.text import CountVectorizer\n",
    "from sklearn.preprocessing import normalize\n",
    "from sklearn.cluster import KMeans\n",
    "import csv\n",
    "import math\n",
    "from collections import Counter"
   ]
  },
  {
   "cell_type": "code",
   "execution_count": 3,
   "metadata": {
    "tags": []
   },
   "outputs": [],
   "source": [
    "df=pd.read_csv('201901.csv',encoding='utf-8')\n",
    "# tp = []\n",
    "# for topics in df['topics']:\n",
    "#     if type(topics) == str:\n",
    "#         tp.extend(topics.split(','))"
   ]
  },
  {
   "cell_type": "code",
   "execution_count": 4,
   "metadata": {},
   "outputs": [],
   "source": [
    "# 결측지 행 제거 후 topics에 있는 것을 추출\n",
    "s = df.dropna()\n",
    "news_topic = s['topics'].tolist()\n",
    "\n",
    "# 군집화 할 그룹의 갯수 정의\n",
    "n_clusters = 100\n",
    "\n",
    "# CountVectrizer로 토큰화\n",
    "vectorizer = CountVectorizer()\n",
    "X = vectorizer.fit_transform(news_topic)\n",
    "\n",
    "X = normalize(X)\n",
    "\n",
    "# k-means 알고리즘 적용\n",
    "kmeans = KMeans(n_clusters=n_clusters).fit(X)\n",
    "\n",
    "# trained labels and cluster centers\n",
    "labels = kmeans.labels_\n",
    "centers = kmeans.cluster_centers_"
   ]
  },
  {
   "cell_type": "code",
   "execution_count": 7,
   "metadata": {},
   "outputs": [],
   "source": [
    "s['labels'] = labels"
   ]
  },
  {
   "cell_type": "code",
   "execution_count": 8,
   "metadata": {},
   "outputs": [
    {
     "output_type": "stream",
     "name": "stdout",
     "text": [
      "{0: 3771, 76: 548, 16: 494, 82: 492, 68: 435, 28: 430, 34: 426, 24: 415, 48: 411, 25: 409, 26: 380, 10: 371, 18: 363, 4: 330, 14: 319, 13: 315, 78: 310, 54: 291, 15: 286, 71: 280, 47: 271, 56: 269, 97: 267, 70: 266, 38: 261, 35: 260, 53: 251, 73: 248, 51: 248, 27: 244, 50: 243, 84: 238, 2: 236, 23: 236, 93: 233, 62: 232, 22: 226, 17: 220, 57: 219, 36: 215, 43: 207, 5: 205, 1: 205, 67: 201, 72: 195, 29: 189, 77: 187, 33: 187, 65: 182, 80: 180, 83: 175, 86: 174, 81: 170, 20: 169, 66: 166, 39: 166, 94: 163, 61: 163, 69: 160, 99: 156, 31: 153, 11: 152, 9: 144, 7: 144, 21: 144, 90: 142, 44: 140, 85: 140, 89: 137, 88: 133, 19: 129, 30: 128, 49: 126, 74: 121, 58: 118, 52: 117, 42: 112, 41: 108, 6: 106, 59: 106, 98: 103, 60: 102, 46: 99, 91: 95, 3: 95, 63: 93, 45: 92, 87: 88, 75: 85, 95: 79, 96: 78, 40: 76, 64: 73, 12: 72, 37: 67, 79: 65, 55: 65, 32: 63, 92: 60, 8: 59}\n"
     ]
    }
   ],
   "source": [
    "hot_topic_index = Counter(s['labels']).most_common()\n",
    "hot_topic = dict(hot_topic_index)\n",
    "\n",
    "print(hot_topic)"
   ]
  },
  {
   "cell_type": "code",
   "execution_count": 9,
   "metadata": {
    "tags": []
   },
   "outputs": [],
   "source": [
    "index = []\n",
    "for row in s['labels']:\n",
    "    index.append(hot_topic[row])"
   ]
  },
  {
   "cell_type": "code",
   "execution_count": 11,
   "metadata": {},
   "outputs": [],
   "source": [
    "s['cnt'] = index"
   ]
  },
  {
   "cell_type": "code",
   "execution_count": 19,
   "metadata": {},
   "outputs": [],
   "source": [
    "s.sort_values(by='cnt', ascending=False).to_csv('201901_cluster100.csv', index=False, header=True,encoding=\"utf-8-sig\")"
   ]
  },
  {
   "cell_type": "code",
   "execution_count": null,
   "metadata": {},
   "outputs": [],
   "source": []
  }
 ]
}
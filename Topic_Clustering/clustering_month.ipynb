{
 "metadata": {
  "language_info": {
   "codemirror_mode": {
    "name": "ipython",
    "version": 3
   },
   "file_extension": ".py",
   "mimetype": "text/x-python",
   "name": "python",
   "nbconvert_exporter": "python",
   "pygments_lexer": "ipython3",
   "version": "3.8.5-final"
  },
  "orig_nbformat": 2,
  "kernelspec": {
   "name": "python3",
   "display_name": "Python 3.8.5 64-bit",
   "metadata": {
    "interpreter": {
     "hash": "00c48d4780e7fa7f4b695bd71b2ac9722a525fe5d5880a11d633cd1f8478baa2"
    }
   }
  }
 },
 "nbformat": 4,
 "nbformat_minor": 2,
 "cells": [
  {
   "cell_type": "code",
   "execution_count": 13,
   "metadata": {
    "tags": []
   },
   "outputs": [],
   "source": [
    "from sklearn.cluster import DBSCAN\n",
    "from sklearn.neighbors import NearestNeighbors\n",
    "from sklearn.feature_extraction.text import CountVectorizer\n",
    "from sklearn.feature_extraction.text import TfidfVectorizer\n",
    "from sklearn.preprocessing import normalize\n",
    "\n",
    "import numpy as np\n",
    "import pandas as pd\n",
    "import csv\n",
    "import math\n",
    "from collections import Counter\n",
    "import matplotlib.pyplot as plt\n",
    "\n",
    "s=pd.read_csv('D:/Script/knc/KoreanNewsChronicle/Topic_Abstract/Data/201908.csv',encoding='utf-8')\n",
    "\n",
    "# df = df.dropna()\n",
    "\n",
    "# # 불용어 제거\n",
    "# stopword = ['A씨', '만', '억', '조', '차', '그', '시', '대', '위', '분', '측', '곳']\n",
    "\n",
    "# for index, row in df.iterrows():\n",
    "#     topic = row['topics'].split(', ')\n",
    "#     for str in topic:\n",
    "#         if(str in stopword):\n",
    "#             topic.remove(str)\n",
    "\n",
    "#     topic_str = \", \".join(topic)\n",
    "#     df.loc[index, 'topics'] = topic_str\n",
    "\n",
    "# print('원래 기사 수 : ',len(df))\n",
    "# # 결측지 행 제거 후 topics에 있는 것을 추출\n",
    "# dp = df.duplicated(['headline'], keep='first')\n",
    "# count = 0\n",
    "# for b in dp:            #중복된 기사 제거\n",
    "#     if(b == True):\n",
    "#         df.drop(df.index[count], inplace = True)\n",
    "#         count -= 1\n",
    "#     count += 1\n",
    "\n",
    "# print('중복된 기사 제거후 기사수 : ',len(df))\n",
    "\n",
    "# tmp_index=[]\n",
    "\n",
    "# for index, row in df.iterrows():\n",
    "#     tmp = row['topics'].split(',')\n",
    "#     if len(tmp) < 4:\n",
    "#         tmp_index.append(index)\n",
    "\n",
    "# s = df.drop(tmp_index)"
   ]
  },
  {
   "cell_type": "code",
   "execution_count": 14,
   "metadata": {},
   "outputs": [],
   "source": [
    "\n",
    "news_topic = s['topics'].tolist()\n",
    "\n",
    "# # CountVectrizer로 토큰화\n",
    "vectorizer = CountVectorizer()\n",
    "X = vectorizer.fit_transform(news_topic)\n",
    "\n",
    "X = normalize(X)\n",
    "\n",
    "neigh = NearestNeighbors(n_neighbors=2)\n",
    "nbrs = neigh.fit(X)\n",
    "distances, indices = nbrs.kneighbors(X)\n",
    "\n",
    "\n",
    "m = DBSCAN(eps=0.6, min_samples = 5)\n",
    "\n",
    "m.fit(X)\n",
    "\n",
    "labels = m.labels_"
   ]
  },
  {
   "cell_type": "code",
   "execution_count": 15,
   "metadata": {},
   "outputs": [
    {
     "output_type": "stream",
     "name": "stdout",
     "text": [
      "{-1: 22757, 9: 31, 14: 15, 66: 15, 15: 14, 20: 14, 12: 13, 57: 13, 0: 12, 4: 12, 23: 11, 7: 11, 46: 11, 52: 11, 58: 11, 60: 11, 63: 10, 1: 9, 5: 9, 6: 9, 10: 9, 13: 9, 17: 9, 27: 9, 39: 9, 34: 9, 53: 9, 2: 8, 11: 8, 24: 8, 21: 7, 30: 7, 41: 7, 43: 7, 50: 7, 62: 7, 65: 7, 61: 6, 26: 6, 22: 6, 45: 6, 33: 6, 35: 6, 37: 6, 38: 6, 40: 6, 55: 6, 56: 6, 3: 5, 28: 5, 8: 5, 48: 5, 18: 5, 19: 5, 25: 5, 29: 5, 32: 5, 31: 5, 36: 5, 42: 5, 44: 5, 47: 5, 51: 5, 54: 5, 59: 5, 64: 5, 16: 4, 49: 4}\n"
     ]
    }
   ],
   "source": [
    "s['labels'] = labels\n",
    "\n",
    "hot_topic_index = Counter(s['labels']).most_common()\n",
    "hot_topic = dict(hot_topic_index)\n",
    "\n",
    "print(hot_topic)"
   ]
  },
  {
   "cell_type": "code",
   "execution_count": 16,
   "metadata": {},
   "outputs": [],
   "source": [
    "count = []\n",
    "for index, row in s['labels'].iteritems():\n",
    "    if row == -1:\n",
    "        s = s.drop(index)\n",
    "    else:\n",
    "        count.append(hot_topic[row])\n",
    "        s['labels'][index] = \"08,\"+str(row)\n",
    "\n",
    "s['cnt'] = count\n",
    "s.sort_values(by='labels', ascending=False).to_csv('./Data/201908_cluster_DBSCAN.csv', index=False, header=True,encoding=\"utf-8-sig\")"
   ]
  },
  {
   "cell_type": "code",
   "execution_count": null,
   "metadata": {},
   "outputs": [],
   "source": []
  }
 ]
}
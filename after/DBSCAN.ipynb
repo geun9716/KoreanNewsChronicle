{
 "cells": [
  {
   "cell_type": "code",
   "execution_count": null,
   "metadata": {},
   "outputs": [],
   "source": [
    "from sklearn.cluster import DBSCAN\n",
    "from sklearn.neighbors import NearestNeighbors\n",
    "from sklearn.feature_extraction.text import CountVectorizer\n",
    "from sklearn.preprocessing import normalize\n",
    "import matplotlib.pyplot as plt\n",
    "import numpy as np\n",
    "import pandas as pd\n",
    "from collections import Counter\n",
    "\n",
    "df = pd.read_csv('../Data/2019/2019_NE_TFIDF.csv', encoding = 'utf-8-sig')\n",
    "\n",
    "# 결측지 행 제거 후 topics에 있는 것을 추출\n",
    "s = df.dropna()\n",
    "news_topic = s['topics'].tolist()\n",
    "\n",
    "# CountVectrizer로 토큰화\n",
    "vectorizer = CountVectorizer()\n",
    "X = vectorizer.fit_transform(news_topic)\n",
    "\n",
    "X = normalize(X)"
   ]
  },
  {
   "cell_type": "code",
   "execution_count": null,
   "metadata": {},
   "outputs": [],
   "source": [
    "# # eps값 찾기\n",
    "# neigh = NearestNeighbors(n_neighbors=19)\n",
    "# nbrs = neigh.fit(X)\n",
    "# distances, indices = nbrs.kneighbors(X)\n",
    "\n",
    "# distances = np.sort(distances, axis=0)\n",
    "# distances = distances[:,-1]\n",
    "# plt.xlabel('index')\n",
    "# plt.ylabel('distance')\n",
    "# plt.plot(distances)"
   ]
  },
  {
   "cell_type": "code",
   "execution_count": null,
   "metadata": {},
   "outputs": [],
   "source": [
    "m = DBSCAN(eps=0.78, min_samples = 20)\n",
    "\n",
    "m.fit(X)\n",
    "\n",
    "labels = m.labels_\n",
    "\n",
    "s['labels'] = labels\n",
    "\n",
    "hot_topic_index = Counter(s['labels']).most_common()\n",
    "hot_topic = dict(hot_topic_index)\n",
    "\n",
    "print(hot_topic)\n",
    "\n",
    "index = []\n",
    "for row in s['labels']:\n",
    "    index.append(hot_topic[row])\n",
    "\n",
    "s['cnt'] = index\n",
    "len(s)\n",
    "s = s[s['labels'] != -1]\n",
    "s.sort_values(by='cnt', ascending=False).to_csv('../Data/2019/2019_NE_TFIDF_DBSCAN_CV_N_eps78_mp20.csv', index=False, encoding=\"utf-8-sig\")"
   ]
  }
 ],
 "metadata": {
  "kernelspec": {
   "display_name": "Python 3",
   "language": "python",
   "name": "python3"
  },
  "language_info": {
   "codemirror_mode": {
    "name": "ipython",
    "version": 3
   },
   "file_extension": ".py",
   "mimetype": "text/x-python",
   "name": "python",
   "nbconvert_exporter": "python",
   "pygments_lexer": "ipython3",
   "version": "3.8.5"
  }
 },
 "nbformat": 4,
 "nbformat_minor": 4
}
